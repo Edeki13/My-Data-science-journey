{
 "cells": [
  {
   "cell_type": "code",
   "execution_count": 27,
   "id": "372eaf21-24c8-4ece-9d20-415789ead057",
   "metadata": {},
   "outputs": [
    {
     "name": "stdout",
     "output_type": "stream",
     "text": [
      "10\n"
     ]
    }
   ],
   "source": [
    "\n",
    "\n",
    "bh = 10\n",
    "print(bh)"
   ]
  },
  {
   "cell_type": "code",
   "execution_count": 7,
   "id": "05ff29c1-62b7-4f7f-9250-a858177edf04",
   "metadata": {},
   "outputs": [],
   "source": [
    "###### # Monthly income and expenses\n",
    "income = 3000\n",
    "rent = 1000\n",
    "groceries = 400\n",
    "entertainment = 200\n",
    "\n",
    "# When you calculate your total expenses\n",
    "total_exp = rent + groceries + entertainment\n",
    "\n",
    "# Your savings would be what is left after your expenses\n",
    "Sav_lf =   income - total_exp\n",
    "\n"
   ]
  },
  {
   "cell_type": "code",
   "execution_count": 9,
   "id": "97fb03ec-a941-4110-be4e-d840d70df299",
   "metadata": {},
   "outputs": [
    {
     "name": "stdout",
     "output_type": "stream",
     "text": [
      "1600\n",
      "1400\n"
     ]
    }
   ],
   "source": [
    "print(total_exp)\n",
    "print(Sav_lf)"
   ]
  },
  {
   "cell_type": "code",
   "execution_count": 13,
   "id": "8413f7fd-5965-4a8e-ba6b-4fbc827338ea",
   "metadata": {},
   "outputs": [
    {
     "name": "stdout",
     "output_type": "stream",
     "text": [
      "i am right\n"
     ]
    }
   ],
   "source": [
    "###### IF, Else and Elif statememt\n",
    "if True:\n",
    "    print(\"i am right\")\n"
   ]
  },
  {
   "cell_type": "code",
   "execution_count": 19,
   "id": "3f0ffa2a-131a-4c1a-b87e-55d13e114c06",
   "metadata": {},
   "outputs": [
    {
     "name": "stdout",
     "output_type": "stream",
     "text": [
      "wise guys\n"
     ]
    }
   ],
   "source": [
    "if 8 > 9:\n",
    "    print(\"we are good\")\n",
    "else:\n",
    "    print(\"wise guys\")\n",
    "          "
   ]
  },
  {
   "cell_type": "code",
   "execution_count": 29,
   "id": "d2d5641f-8714-42fb-b186-65b260b2c4f6",
   "metadata": {},
   "outputs": [
    {
     "name": "stdout",
     "output_type": "stream",
     "text": [
      "we live in benin\n"
     ]
    }
   ],
   "source": [
    "###checking if x is greater than y\n",
    "x =12\n",
    "y =10\n",
    "if x < y:\n",
    "    print(\"we live in Abj\")\n",
    "elif x > y:\n",
    "    print(\"we live in benin\")\n"
   ]
  },
  {
   "cell_type": "code",
   "execution_count": 53,
   "id": "b484154b-b6e0-4520-9327-d55b7d9e127f",
   "metadata": {},
   "outputs": [
    {
     "name": "stdout",
     "output_type": "stream",
     "text": [
      "danger! danger!\n"
     ]
    }
   ],
   "source": [
    " ###Define the budget and total expenses\n",
    "Capt = 3000\n",
    "total_exp = 4000\n",
    "\n",
    "# Check if total expenses are within the budget\n",
    "if total_exp <= Capt:\n",
    "    print(\"you in order\")\n",
    "elif total_exp < Capt:\n",
    "    print(\"go on\")\n",
    "else:\n",
    "    print(\"danger! danger!\")\n"
   ]
  },
  {
   "cell_type": "code",
   "execution_count": null,
   "id": "20d7a685-86cd-4e83-9cfb-b3efe8614466",
   "metadata": {},
   "outputs": [],
   "source": [
    "#### LOgical Operators And,Or, and Not"
   ]
  },
  {
   "cell_type": "code",
   "execution_count": 57,
   "id": "d0ef7215-108e-4c40-8540-1d3486aa8540",
   "metadata": {},
   "outputs": [],
   "source": [
    "# Check availability of items\n",
    "bread_available = True\n",
    "peanut_butter_available = False"
   ]
  },
  {
   "cell_type": "code",
   "execution_count": 59,
   "id": "22ed2081-728e-4a86-96e3-fd547c5ad2db",
   "metadata": {},
   "outputs": [
    {
     "name": "stdout",
     "output_type": "stream",
     "text": [
      "nor buy\n"
     ]
    }
   ],
   "source": [
    "if bread_available and peanut_butter_available:\n",
    "    print(\"buy\")\n",
    "else:\n",
    "    print(\"nor buy\")"
   ]
  },
  {
   "cell_type": "code",
   "execution_count": 61,
   "id": "b82498e6-d674-468b-a0ab-f8f42ca210ef",
   "metadata": {},
   "outputs": [
    {
     "name": "stdout",
     "output_type": "stream",
     "text": [
      "buy\n"
     ]
    }
   ],
   "source": [
    "if bread_available or peanut_butter_available:\n",
    "    print(\"buy\")\n",
    "else:\n",
    "    print(\"nor buy\")"
   ]
  },
  {
   "cell_type": "code",
   "execution_count": 65,
   "id": "7f557cc4-9c59-4a66-9a13-0fbabc48fcf0",
   "metadata": {},
   "outputs": [
    {
     "name": "stdout",
     "output_type": "stream",
     "text": [
      "Can we go for a picnic?\n"
     ]
    }
   ],
   "source": [
    "is_raining = False\n",
    "# False means it is not raining\n",
    "\n",
    "# `not` negates, that is it gives you the opposite of a task;\n",
    "can_we_go_for_picnic = not is_raining\n",
    "\n",
    "# Print the result\n",
    "print(\"Can we go for a picnic?\")"
   ]
  },
  {
   "cell_type": "code",
   "execution_count": 67,
   "id": "e92dc75f-b773-4fc2-a6f0-dad603d8b674",
   "metadata": {},
   "outputs": [],
   "source": [
    "#### Assignment Operators\n",
    "\n"
   ]
  },
  {
   "cell_type": "code",
   "execution_count": 69,
   "id": "e5f3fd46-0b6c-435f-961f-996e636d4511",
   "metadata": {},
   "outputs": [
    {
     "name": "stdout",
     "output_type": "stream",
     "text": [
      "8\n"
     ]
    }
   ],
   "source": [
    "x = 5\n",
    "x += 3 \n",
    "print(x)"
   ]
  },
  {
   "cell_type": "code",
   "execution_count": 85,
   "id": "0bc4e466-7dcb-4fc1-b756-507e9e00524d",
   "metadata": {},
   "outputs": [],
   "source": [
    "x= \"boy\""
   ]
  },
  {
   "cell_type": "code",
   "execution_count": 87,
   "id": "d31795e8-54de-4d37-b975-56aaa0fa638a",
   "metadata": {},
   "outputs": [],
   "source": [
    "x += \" girl\""
   ]
  },
  {
   "cell_type": "code",
   "execution_count": 89,
   "id": "861313a7-c91d-4d78-936c-fe363893c202",
   "metadata": {},
   "outputs": [
    {
     "name": "stdout",
     "output_type": "stream",
     "text": [
      "boy girl\n"
     ]
    }
   ],
   "source": [
    "print(x)"
   ]
  },
  {
   "cell_type": "code",
   "execution_count": 91,
   "id": "35e9fce7-8a0e-430e-90f0-5b02ec726edf",
   "metadata": {},
   "outputs": [],
   "source": [
    "###Identity Operators"
   ]
  },
  {
   "cell_type": "code",
   "execution_count": 93,
   "id": "ecf290be-9ef3-4a44-a377-84cf06272abb",
   "metadata": {},
   "outputs": [
    {
     "name": "stdout",
     "output_type": "stream",
     "text": [
      "True\n",
      "False\n"
     ]
    }
   ],
   "source": [
    "# Creating a basket of fruits\n",
    "basket1 = [\"apple\", \"banana\", \"cherry\"]\n",
    "basket2 = basket1  # basket2 refers to the same basket as basket1\n",
    "basket3 = [\"apple\", \"banana\", \"cherry\"]  # basket3 is a different basket\n",
    "\n",
    "print(basket1 is basket2)  # Output: True  (Same basket)\n",
    "print(basket1 is basket3)"
   ]
  },
  {
   "cell_type": "code",
   "execution_count": 95,
   "id": "02793715-debf-4037-ad92-f4301e170868",
   "metadata": {},
   "outputs": [
    {
     "name": "stdout",
     "output_type": "stream",
     "text": [
      "False\n",
      "True\n"
     ]
    }
   ],
   "source": [
    "print(basket1 is not basket2)  # Output: False (Same basket)\n",
    "print(basket1 is not basket3) "
   ]
  },
  {
   "cell_type": "code",
   "execution_count": 99,
   "id": "1a67bb27-4ffa-4856-a72a-e89f2a9ac97d",
   "metadata": {},
   "outputs": [
    {
     "name": "stdout",
     "output_type": "stream",
     "text": [
      "False\n",
      "True\n"
     ]
    }
   ],
   "source": [
    " #Two lists representing two baskets of fruits\n",
    "basket_a = [\"apple\", \"banana\", \"cherry\"]\n",
    "basket_b = [\"apple\", \"banana\", \"cherry\"]  # A different basket with the same fruits\n",
    "basket_c = basket_a  # basket_c points to the same basket as basket_a\n",
    "\n",
    "# Comparing identity\n",
    "print(basket_a is basket_b)  # Output: False (Different baskets)\n",
    "print(basket_a is basket_c) "
   ]
  },
  {
   "cell_type": "code",
   "execution_count": 101,
   "id": "de1a6700-64d4-424a-9288-5baf7e91fde9",
   "metadata": {},
   "outputs": [
    {
     "name": "stdout",
     "output_type": "stream",
     "text": [
      "True\n"
     ]
    }
   ],
   "source": [
    "# Say you have a list of expense categories\n",
    "categories = [\"rent\", \"groceries\", \"transportation\"]\n",
    "\n",
    "# Check if 'rent' is \"in\" the list\n",
    "print(\"rent\" in categories)  "
   ]
  },
  {
   "cell_type": "code",
   "execution_count": 103,
   "id": "45bef777-2b25-4360-bb83-c155f0bee3df",
   "metadata": {},
   "outputs": [],
   "source": [
    "Cities_CA= \"LA\", \"Sanf\", \"LD\", \"SV\"\n",
    "Cities_TN= (\"Nas\", \"Knx\", \"MEM\")\n",
    "Cities_NY= [\"NYC\", \"Quen\", \"ALB\"]"
   ]
  },
  {
   "cell_type": "code",
   "execution_count": 105,
   "id": "4e3103d8-012b-4e59-b7ad-0618a6862b22",
   "metadata": {},
   "outputs": [
    {
     "name": "stdout",
     "output_type": "stream",
     "text": [
      "True\n",
      "True\n",
      "True\n"
     ]
    }
   ],
   "source": [
    "print(\"LA\" in Cities_CA)\n",
    "print(\"MEM\" in Cities_TN)\n",
    "print(\"ALB\" in Cities_NY)\n"
   ]
  },
  {
   "cell_type": "code",
   "execution_count": 109,
   "id": "364c8982-39c9-44db-a977-8cf82a24485a",
   "metadata": {},
   "outputs": [
    {
     "name": "stdout",
     "output_type": "stream",
     "text": [
      "apple\n",
      "mango\n",
      "orange\n",
      "berry\n"
     ]
    }
   ],
   "source": [
    "##### LOOPs\n",
    "####for loop\n",
    "fruits = ['apple', 'mango', 'orange','berry']\n",
    "for fruit in fruits:\n",
    "    print(fruit)"
   ]
  },
  {
   "cell_type": "code",
   "execution_count": 113,
   "id": "5688d29b-1a49-4273-9f7e-5f88fa9f3599",
   "metadata": {},
   "outputs": [
    {
     "name": "stdout",
     "output_type": "stream",
     "text": [
      "0\n",
      "1\n",
      "2\n",
      "3\n"
     ]
    }
   ],
   "source": [
    "for i in range(4):\n",
    "    print(i)"
   ]
  },
  {
   "cell_type": "code",
   "execution_count": null,
   "id": "f1ca3529-708e-4dca-81b5-237511eb1775",
   "metadata": {},
   "outputs": [],
   "source": [
    "##### While loop\n",
    "\n",
    "i = 0\n",
    "while i < 5:\n",
    "    print(i)\n",
    "    i += 1\n",
    " "
   ]
  },
  {
   "cell_type": "code",
   "execution_count": null,
   "id": "22ab2b5c-ac5c-49b8-bc73-fc4bb0faf879",
   "metadata": {},
   "outputs": [],
   "source": [
    "######Break and continue\n",
    "for i in range 5:\n",
    "if i ==3:\n",
    "    break\n",
    "    print(i)"
   ]
  },
  {
   "cell_type": "code",
   "execution_count": null,
   "id": "b4776d26-f608-496c-9b07-bc6dbf011e34",
   "metadata": {},
   "outputs": [],
   "source": [
    "for i in range 5:\n",
    "if i ==3:\n",
    "    continue\n",
    "    print(i)"
   ]
  },
  {
   "cell_type": "code",
   "execution_count": null,
   "id": "653d556d-1bfe-4f48-82c0-a3ae24d34da2",
   "metadata": {},
   "outputs": [],
   "source": [
    "age = 30\n",
    "if age ==30:\n",
    "  print(\"can vote\")\n",
    "else:\n",
    "    print( \"cannot vote\")\n"
   ]
  },
  {
   "cell_type": "code",
   "execution_count": null,
   "id": "e09e3d51-77c4-4806-8bb1-4795579f3006",
   "metadata": {},
   "outputs": [],
   "source": [
    "x = 10\n",
    "print(x)"
   ]
  },
  {
   "cell_type": "code",
   "execution_count": null,
   "id": "78a382e8-59dc-4005-a2dd-87f274f53b17",
   "metadata": {},
   "outputs": [],
   "source": []
  },
  {
   "cell_type": "code",
   "execution_count": null,
   "id": "5f14a5f4-767d-474b-8d82-2c012d58206d",
   "metadata": {},
   "outputs": [],
   "source": []
  }
 ],
 "metadata": {
  "kernelspec": {
   "display_name": "Python [conda env:base] *",
   "language": "python",
   "name": "conda-base-py"
  },
  "language_info": {
   "codemirror_mode": {
    "name": "ipython",
    "version": 3
   },
   "file_extension": ".py",
   "mimetype": "text/x-python",
   "name": "python",
   "nbconvert_exporter": "python",
   "pygments_lexer": "ipython3",
   "version": "3.12.7"
  }
 },
 "nbformat": 4,
 "nbformat_minor": 5
}
