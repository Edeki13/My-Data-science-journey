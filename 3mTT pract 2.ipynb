{
 "cells": [
  {
   "cell_type": "code",
   "execution_count": 1,
   "id": "54de1f2d-3753-4183-bb62-daea115b0968",
   "metadata": {},
   "outputs": [
    {
     "name": "stdout",
     "output_type": "stream",
     "text": [
      "10\n"
     ]
    }
   ],
   "source": [
    "x = 10\n",
    "print(x)"
   ]
  },
  {
   "cell_type": "code",
   "execution_count": 9,
   "id": "69123d8c-7bf5-4b3c-899a-3c947a520603",
   "metadata": {},
   "outputs": [
    {
     "name": "stdout",
     "output_type": "stream",
     "text": [
      "can not vote\n"
     ]
    }
   ],
   "source": [
    "age = 17\n",
    "if age >= 19:\n",
    "    message = 'can vote'\n",
    "elif age ==18:\n",
    "    message = 'ripe to vote'\n",
    "else:\n",
    "    message = 'can not vote'\n",
    "print(message)"
   ]
  },
  {
   "cell_type": "code",
   "execution_count": 11,
   "id": "ca0e4860-3e17-4bf6-a86f-a424f29fba84",
   "metadata": {},
   "outputs": [
    {
     "name": "stdout",
     "output_type": "stream",
     "text": [
      "one\n"
     ]
    }
   ],
   "source": [
    "age = 16\n",
    "if age >= 18:\n",
    "    print(\"we are\")\n",
    "else:\n",
    "    print('one')"
   ]
  },
  {
   "cell_type": "code",
   "execution_count": 19,
   "id": "3296521a-c9e8-4d84-8e74-f71fdd7d89d7",
   "metadata": {},
   "outputs": [
    {
     "name": "stdout",
     "output_type": "stream",
     "text": [
      "Here is your handout, Bola!\n",
      "Here is your handout, Ahmed!\n",
      "Here is your handout, Uche!\n",
      "Here is your handout, Tunde!\n"
     ]
    }
   ],
   "source": [
    "students = [\"Bola\", \"Ahmed\", \"Uche\", \"Tunde\"]\n",
    "\n",
    "for student in students:\n",
    "    print(f\"Here is your handout, {student}!\")\n",
    "  "
   ]
  },
  {
   "cell_type": "code",
   "execution_count": 21,
   "id": "c1258598-1b05-45a3-979e-f60fe4c3d88c",
   "metadata": {},
   "outputs": [
    {
     "name": "stdout",
     "output_type": "stream",
     "text": [
      "Good job! You scored a B.\n"
     ]
    }
   ],
   "source": [
    "grade = \"B\"\n",
    "\n",
    "match grade:\n",
    "    case \"A\":\n",
    "        print(\"Excellent! You scored an A.\")\n",
    "    case \"B\":\n",
    "        print(\"Good job! You scored a B.\")\n",
    "    case \"C\":\n",
    "        print(\"You scored a C. Try to improve.\")\n",
    "    case _:\n",
    "        print(\"Failed. Better luck next time.\")"
   ]
  },
  {
   "cell_type": "code",
   "execution_count": 14,
   "id": "2718cd9b-fe5f-4d91-96ae-1fa966bf1187",
   "metadata": {},
   "outputs": [],
   "source": [
    "Questions = ['What is the opposite of boy?', 'Name the capitial of Nigeria', 'What is the capital of Edo state?', 'What is the opposite of male?', 'What is the capital of Germany?']\n"
   ]
  },
  {
   "cell_type": "code",
   "execution_count": 5,
   "id": "85552c0c-6fef-4b09-be39-ecd540dd2b45",
   "metadata": {},
   "outputs": [
    {
     "ename": "IndentationError",
     "evalue": "unindent does not match any outer indentation level (<string>, line 7)",
     "output_type": "error",
     "traceback": [
      "\u001b[1;36m  File \u001b[1;32m<string>:7\u001b[1;36m\u001b[0m\n\u001b[1;33m    elif Answer == 'Abuja':\u001b[0m\n\u001b[1;37m                           ^\u001b[0m\n\u001b[1;31mIndentationError\u001b[0m\u001b[1;31m:\u001b[0m unindent does not match any outer indentation level\n"
     ]
    }
   ],
   "source": [
    "for question in Questions:\n",
    "    print(question)\n",
    "    Answer =str(input())\n",
    "    if Answer == 'Girl':\n",
    "        Point = 1\n",
    "        print('Correct!! you have score ', Point, 'point')\n",
    "     elif Answer == 'Abuja':\n",
    "        Point = Point+1\n",
    "        print('Correct!! you have score ', Point, 'point')\n",
    "   "
   ]
  },
  {
   "cell_type": "code",
   "execution_count": 7,
   "id": "797b24cb-64ec-4adb-87e9-964d3a2117b4",
   "metadata": {},
   "outputs": [
    {
     "name": "stdout",
     "output_type": "stream",
     "text": [
      "Welcome to the Quiz Game!\n",
      "Answer the following 5 questions:\n",
      "\n",
      "What is the capital of France?\n"
     ]
    },
    {
     "name": "stderr",
     "output_type": "stream",
     "text": [
      "\n",
      "KeyboardInterrupt\n",
      "\n"
     ]
    }
   ],
   "source": [
    "##### 2nd \n",
    "\n",
    "questions = [\n",
    "    {\n",
    "        \"question\": \"What is the capital of France?\",\n",
    "        \"answer\": \"Paris\"\n",
    "    },\n",
    "    {\n",
    "        \"question\": \"How many planets are in our solar system?\",\n",
    "        \"answer\": \"8\"\n",
    "    },\n",
    "    {\n",
    "        \"question\": \"What element does 'O' represent on the periodic table?\",\n",
    "        \"answer\": \"Oxygen\"\n",
    "    },\n",
    "    {\n",
    "        \"question\": \"Who wrote 'Romeo and Juliet'?\",\n",
    "        \"answer\": \"William Shakespeare\"\n",
    "    },\n",
    "    {\n",
    "        \"question\": \"What is the largest mammal?\",\n",
    "        \"answer\": \"Blue Whale\"\n",
    "    }\n",
    "]\n",
    "\n",
    "score = 0\n",
    "\n",
    "print(\"Welcome to the Quiz Game!\")\n",
    "print(\"Answer the following 5 questions:\\n\")\n",
    "\n",
    "for q in questions:\n",
    "    print(q[\"question\"])\n",
    "    user_answer = input(\"Your answer: \").strip().lower()\n",
    "    correct_answer = q[\"answer\"].strip().lower()\n",
    "    \n",
    "    if user_answer == correct_answer:\n",
    "        print(\"Correct!\\n\")\n",
    "        score += 1\n",
    "    else:\n",
    "        print(f\"Incorrect. The correct answer is: {q['answer']}\\n\")\n",
    "\n",
    "print(f\"Quiz ended! Your final score is: {score}/5\")"
   ]
  },
  {
   "cell_type": "code",
   "execution_count": null,
   "id": "d9250780-d758-4388-ad07-99a3a85d51de",
   "metadata": {},
   "outputs": [],
   "source": [
    "####### Fuctions\n"
   ]
  },
  {
   "cell_type": "code",
   "execution_count": 12,
   "id": "1266ab09-b832-486a-9abb-95aad11861ba",
   "metadata": {},
   "outputs": [],
   "source": [
    "def cal_area(length, breadth):\n",
    "    area = length + breadth\n",
    "    return area\n",
    "    cal_area(200,100)\n"
   ]
  },
  {
   "cell_type": "code",
   "execution_count": null,
   "id": "9240f861-45b5-4e26-a6ec-e28203c345fd",
   "metadata": {},
   "outputs": [],
   "source": []
  }
 ],
 "metadata": {
  "kernelspec": {
   "display_name": "Python [conda env:base] *",
   "language": "python",
   "name": "conda-base-py"
  },
  "language_info": {
   "codemirror_mode": {
    "name": "ipython",
    "version": 3
   },
   "file_extension": ".py",
   "mimetype": "text/x-python",
   "name": "python",
   "nbconvert_exporter": "python",
   "pygments_lexer": "ipython3",
   "version": "3.12.7"
  }
 },
 "nbformat": 4,
 "nbformat_minor": 5
}
