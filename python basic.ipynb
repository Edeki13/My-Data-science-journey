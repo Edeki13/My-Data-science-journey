{
 "cells": [
  {
   "cell_type": "code",
   "execution_count": 2,
   "id": "e2c84e33",
   "metadata": {},
   "outputs": [
    {
     "name": "stdout",
     "output_type": "stream",
     "text": [
      "51\n"
     ]
    }
   ],
   "source": [
    "a = 25\n",
    "b = 26\n",
    "l = a+b\n",
    "print(l)"
   ]
  },
  {
   "cell_type": "code",
   "execution_count": 3,
   "id": "fa178e56",
   "metadata": {},
   "outputs": [
    {
     "data": {
      "text/plain": [
       "int"
      ]
     },
     "execution_count": 3,
     "metadata": {},
     "output_type": "execute_result"
    }
   ],
   "source": [
    "type(l)"
   ]
  },
  {
   "cell_type": "code",
   "execution_count": 4,
   "id": "5ff0e7e9",
   "metadata": {},
   "outputs": [
    {
     "data": {
      "text/plain": [
       "int"
      ]
     },
     "execution_count": 4,
     "metadata": {},
     "output_type": "execute_result"
    }
   ],
   "source": [
    "type(b)"
   ]
  },
  {
   "cell_type": "code",
   "execution_count": 5,
   "id": "fef52f70",
   "metadata": {},
   "outputs": [
    {
     "data": {
      "text/plain": [
       "int"
      ]
     },
     "execution_count": 5,
     "metadata": {},
     "output_type": "execute_result"
    }
   ],
   "source": [
    "type(a)"
   ]
  },
  {
   "cell_type": "code",
   "execution_count": 13,
   "id": "625ea0c0",
   "metadata": {},
   "outputs": [
    {
     "name": "stdout",
     "output_type": "stream",
     "text": [
      "total_exp is: 47500\n"
     ]
    }
   ],
   "source": [
    "p_chik = 2000\n",
    "p_coke = 4500\n",
    "p_malt = 5000\n",
    "p_water = 2700\n",
    "\n",
    "num_chik = 3\n",
    "num_coke = 4\n",
    "num_malt = 2\n",
    "num_water = 5\n",
    "\n",
    "total_exp = (p_chik * num_chik)+ (p_coke*num_coke)+(p_malt*num_malt)+(p_water*num_water)\n",
    "print(\"total_exp is:\", total_exp)"
   ]
  },
  {
   "cell_type": "code",
   "execution_count": 14,
   "id": "ba0e373f",
   "metadata": {},
   "outputs": [
    {
     "data": {
      "text/plain": [
       "True"
      ]
     },
     "execution_count": 14,
     "metadata": {},
     "output_type": "execute_result"
    }
   ],
   "source": [
    "### logial operation in String\n",
    "fruit_love = \"watermelon\"\n",
    "\"w\" in fruit_love"
   ]
  },
  {
   "cell_type": "code",
   "execution_count": 15,
   "id": "a083720a",
   "metadata": {},
   "outputs": [
    {
     "data": {
      "text/plain": [
       "False"
      ]
     },
     "execution_count": 15,
     "metadata": {},
     "output_type": "execute_result"
    }
   ],
   "source": [
    "\"x\" in fruit_love"
   ]
  },
  {
   "cell_type": "code",
   "execution_count": 18,
   "id": "38585481",
   "metadata": {},
   "outputs": [
    {
     "name": "stdout",
     "output_type": "stream",
     "text": [
      "i love this fruit!\n"
     ]
    }
   ],
   "source": [
    "if(\"o\" in fruit_love):\n",
    "    print(\"i love this fruit!\")"
   ]
  },
  {
   "cell_type": "code",
   "execution_count": 19,
   "id": "92e7b1e0",
   "metadata": {},
   "outputs": [
    {
     "name": "stdout",
     "output_type": "stream",
     "text": [
      "42\n"
     ]
    }
   ],
   "source": [
    "x = '40'\n",
    "y = int(x) + 2\n",
    "print(y)"
   ]
  },
  {
   "cell_type": "code",
   "execution_count": 20,
   "id": "87b226de",
   "metadata": {},
   "outputs": [
    {
     "name": "stdout",
     "output_type": "stream",
     "text": [
      "42\n"
     ]
    }
   ],
   "source": [
    "print(len('banana')*7)"
   ]
  },
  {
   "cell_type": "code",
   "execution_count": 21,
   "id": "8c9480a3",
   "metadata": {},
   "outputs": [
    {
     "name": "stdout",
     "output_type": "stream",
     "text": [
      ".ma\n"
     ]
    }
   ],
   "source": [
    "data = 'From stephen.marquard@uct.ac.za Sat Jan  5 09:14:16 2008'\n",
    "pos = data.find('.')\n",
    "print(data[pos:pos+3])"
   ]
  },
  {
   "cell_type": "code",
   "execution_count": 1,
   "id": "1df40f66",
   "metadata": {},
   "outputs": [],
   "source": [
    "### non Primitive Data structure. "
   ]
  },
  {
   "cell_type": "code",
   "execution_count": 3,
   "id": "0a3fdaf0",
   "metadata": {},
   "outputs": [],
   "source": [
    "##### List. "
   ]
  },
  {
   "cell_type": "code",
   "execution_count": 8,
   "id": "83f715fc",
   "metadata": {},
   "outputs": [
    {
     "name": "stdout",
     "output_type": "stream",
     "text": [
      "['ball', 'apple', 'mango', 'wall', 'food', 'egg']\n"
     ]
    }
   ],
   "source": [
    "ser = ['ball','apple','mango','wall','food','egg']\n",
    "print(ser)"
   ]
  },
  {
   "cell_type": "code",
   "execution_count": 9,
   "id": "f939523e",
   "metadata": {},
   "outputs": [
    {
     "name": "stdout",
     "output_type": "stream",
     "text": [
      "6\n"
     ]
    }
   ],
   "source": [
    "print(len(ser))"
   ]
  },
  {
   "cell_type": "code",
   "execution_count": 10,
   "id": "613778ed",
   "metadata": {},
   "outputs": [
    {
     "name": "stdout",
     "output_type": "stream",
     "text": [
      "<class 'list'>\n"
     ]
    }
   ],
   "source": [
    "print(type(ser))"
   ]
  },
  {
   "cell_type": "code",
   "execution_count": 11,
   "id": "19a9ebfd",
   "metadata": {},
   "outputs": [],
   "source": [
    "ser.append('doctor')"
   ]
  },
  {
   "cell_type": "code",
   "execution_count": 12,
   "id": "8a854f6f",
   "metadata": {},
   "outputs": [
    {
     "name": "stdout",
     "output_type": "stream",
     "text": [
      "['ball', 'apple', 'mango', 'wall', 'food', 'egg', 'doctor']\n"
     ]
    }
   ],
   "source": [
    "print(ser)"
   ]
  },
  {
   "cell_type": "code",
   "execution_count": 13,
   "id": "825abbcf",
   "metadata": {},
   "outputs": [
    {
     "name": "stdout",
     "output_type": "stream",
     "text": [
      "['ball', 'apple', 'mango', 'wall', 'food', 'egg', 'doctor', True]\n"
     ]
    }
   ],
   "source": [
    "ser.append(True)\n",
    "print(ser)"
   ]
  },
  {
   "cell_type": "code",
   "execution_count": 30,
   "id": "295a99e8",
   "metadata": {},
   "outputs": [
    {
     "name": "stdout",
     "output_type": "stream",
     "text": [
      "['ball', 'apple', 'mango', 'wall', 'food', 'egg', 'doctor', True, [30, 40, 'boy', 'girl'], [30, 40, 'boy', 'girl'], [30, 40, 'boy', 'girl'], [30, 40, 'boy', 'girl'], [30, 40, 'boy', 'girl'], [30, 40], [30, 40]]\n"
     ]
    }
   ],
   "source": [
    "print(ser)"
   ]
  },
  {
   "cell_type": "code",
   "execution_count": 31,
   "id": "fae1eb56",
   "metadata": {},
   "outputs": [
    {
     "name": "stdout",
     "output_type": "stream",
     "text": [
      "['ball', 'apple', 'mango', 'wall', 'food', 'egg', 'doctor', True, [30, 40, 'boy', 'girl'], [30, 40, 'boy', 'girl'], [30, 40, 'boy', 'girl'], [30, 40, 'boy', 'girl'], [30, 40, 'boy', 'girl'], [30, 40], [30, 40]]\n"
     ]
    }
   ],
   "source": [
    "print(ser)"
   ]
  },
  {
   "cell_type": "code",
   "execution_count": 32,
   "id": "20654dfb",
   "metadata": {},
   "outputs": [
    {
     "name": "stdout",
     "output_type": "stream",
     "text": [
      "Requirement already satisfied: notebook in c:\\users\\pope\\anaconda3\\lib\\site-packages (6.5.4)\n",
      "Requirement already satisfied: jinja2 in c:\\users\\pope\\anaconda3\\lib\\site-packages (from notebook) (3.1.2)\n",
      "Requirement already satisfied: tornado>=6.1 in c:\\users\\pope\\anaconda3\\lib\\site-packages (from notebook) (6.2)\n",
      "Requirement already satisfied: pyzmq>=17 in c:\\users\\pope\\anaconda3\\lib\\site-packages (from notebook) (25.1.0)\n",
      "Requirement already satisfied: argon2-cffi in c:\\users\\pope\\anaconda3\\lib\\site-packages (from notebook) (21.3.0)\n",
      "Requirement already satisfied: traitlets>=4.2.1 in c:\\users\\pope\\anaconda3\\lib\\site-packages (from notebook) (5.7.1)\n",
      "Requirement already satisfied: jupyter-core>=4.6.1 in c:\\users\\pope\\anaconda3\\lib\\site-packages (from notebook) (5.3.0)\n",
      "Requirement already satisfied: jupyter-client>=5.3.4 in c:\\users\\pope\\anaconda3\\lib\\site-packages (from notebook) (8.1.0)\n",
      "Requirement already satisfied: ipython-genutils in c:\\users\\pope\\anaconda3\\lib\\site-packages (from notebook) (0.2.0)\n",
      "Requirement already satisfied: nbformat in c:\\users\\pope\\anaconda3\\lib\\site-packages (from notebook) (5.7.0)\n",
      "Requirement already satisfied: nbconvert>=5 in c:\\users\\pope\\anaconda3\\lib\\site-packages (from notebook) (6.5.4)\n",
      "Requirement already satisfied: nest-asyncio>=1.5 in c:\\users\\pope\\anaconda3\\lib\\site-packages (from notebook) (1.5.6)\n",
      "Requirement already satisfied: ipykernel in c:\\users\\pope\\anaconda3\\lib\\site-packages (from notebook) (6.19.2)\n",
      "Requirement already satisfied: Send2Trash>=1.8.0 in c:\\users\\pope\\anaconda3\\lib\\site-packages (from notebook) (1.8.0)\n",
      "Requirement already satisfied: terminado>=0.8.3 in c:\\users\\pope\\anaconda3\\lib\\site-packages (from notebook) (0.17.1)\n",
      "Requirement already satisfied: prometheus-client in c:\\users\\pope\\anaconda3\\lib\\site-packages (from notebook) (0.14.1)\n",
      "Requirement already satisfied: nbclassic>=0.4.7 in c:\\users\\pope\\anaconda3\\lib\\site-packages (from notebook) (0.5.5)\n",
      "Requirement already satisfied: python-dateutil>=2.8.2 in c:\\users\\pope\\anaconda3\\lib\\site-packages (from jupyter-client>=5.3.4->notebook) (2.8.2)\n",
      "Requirement already satisfied: platformdirs>=2.5 in c:\\users\\pope\\anaconda3\\lib\\site-packages (from jupyter-core>=4.6.1->notebook) (2.5.2)\n",
      "Requirement already satisfied: pywin32>=300 in c:\\users\\pope\\anaconda3\\lib\\site-packages (from jupyter-core>=4.6.1->notebook) (305.1)\n",
      "Requirement already satisfied: jupyter-server>=1.8 in c:\\users\\pope\\anaconda3\\lib\\site-packages (from nbclassic>=0.4.7->notebook) (2.5.0)\n",
      "Requirement already satisfied: notebook-shim>=0.1.0 in c:\\users\\pope\\anaconda3\\lib\\site-packages (from nbclassic>=0.4.7->notebook) (0.2.2)\n",
      "Requirement already satisfied: lxml in c:\\users\\pope\\anaconda3\\lib\\site-packages (from nbconvert>=5->notebook) (4.9.2)\n",
      "Requirement already satisfied: beautifulsoup4 in c:\\users\\pope\\anaconda3\\lib\\site-packages (from nbconvert>=5->notebook) (4.12.2)\n",
      "Requirement already satisfied: bleach in c:\\users\\pope\\anaconda3\\lib\\site-packages (from nbconvert>=5->notebook) (4.1.0)\n",
      "Requirement already satisfied: defusedxml in c:\\users\\pope\\anaconda3\\lib\\site-packages (from nbconvert>=5->notebook) (0.7.1)\n",
      "Requirement already satisfied: entrypoints>=0.2.2 in c:\\users\\pope\\anaconda3\\lib\\site-packages (from nbconvert>=5->notebook) (0.4)\n",
      "Requirement already satisfied: jupyterlab-pygments in c:\\users\\pope\\anaconda3\\lib\\site-packages (from nbconvert>=5->notebook) (0.1.2)\n",
      "Requirement already satisfied: MarkupSafe>=2.0 in c:\\users\\pope\\anaconda3\\lib\\site-packages (from nbconvert>=5->notebook) (2.1.1)\n",
      "Requirement already satisfied: mistune<2,>=0.8.1 in c:\\users\\pope\\anaconda3\\lib\\site-packages (from nbconvert>=5->notebook) (0.8.4)\n",
      "Requirement already satisfied: nbclient>=0.5.0 in c:\\users\\pope\\anaconda3\\lib\\site-packages (from nbconvert>=5->notebook) (0.5.13)\n",
      "Requirement already satisfied: packaging in c:\\users\\pope\\anaconda3\\lib\\site-packages (from nbconvert>=5->notebook) (23.0)\n",
      "Requirement already satisfied: pandocfilters>=1.4.1 in c:\\users\\pope\\anaconda3\\lib\\site-packages (from nbconvert>=5->notebook) (1.5.0)\n",
      "Requirement already satisfied: pygments>=2.4.1 in c:\\users\\pope\\anaconda3\\lib\\site-packages (from nbconvert>=5->notebook) (2.15.1)\n",
      "Requirement already satisfied: tinycss2 in c:\\users\\pope\\anaconda3\\lib\\site-packages (from nbconvert>=5->notebook) (1.2.1)\n",
      "Requirement already satisfied: fastjsonschema in c:\\users\\pope\\anaconda3\\lib\\site-packages (from nbformat->notebook) (2.16.2)\n",
      "Requirement already satisfied: jsonschema>=2.6 in c:\\users\\pope\\anaconda3\\lib\\site-packages (from nbformat->notebook) (4.17.3)\n",
      "Requirement already satisfied: pywinpty>=1.1.0 in c:\\users\\pope\\anaconda3\\lib\\site-packages (from terminado>=0.8.3->notebook) (2.0.10)\n",
      "Requirement already satisfied: argon2-cffi-bindings in c:\\users\\pope\\anaconda3\\lib\\site-packages (from argon2-cffi->notebook) (21.2.0)\n",
      "Requirement already satisfied: comm>=0.1.1 in c:\\users\\pope\\anaconda3\\lib\\site-packages (from ipykernel->notebook) (0.1.2)\n",
      "Requirement already satisfied: debugpy>=1.0 in c:\\users\\pope\\anaconda3\\lib\\site-packages (from ipykernel->notebook) (1.5.1)\n",
      "Requirement already satisfied: ipython>=7.23.1 in c:\\users\\pope\\anaconda3\\lib\\site-packages (from ipykernel->notebook) (8.12.0)\n",
      "Requirement already satisfied: matplotlib-inline>=0.1 in c:\\users\\pope\\anaconda3\\lib\\site-packages (from ipykernel->notebook) (0.1.6)\n",
      "Requirement already satisfied: psutil in c:\\users\\pope\\anaconda3\\lib\\site-packages (from ipykernel->notebook) (5.9.0)\n",
      "Requirement already satisfied: backcall in c:\\users\\pope\\anaconda3\\lib\\site-packages (from ipython>=7.23.1->ipykernel->notebook) (0.2.0)\n",
      "Requirement already satisfied: decorator in c:\\users\\pope\\anaconda3\\lib\\site-packages (from ipython>=7.23.1->ipykernel->notebook) (5.1.1)\n",
      "Requirement already satisfied: jedi>=0.16 in c:\\users\\pope\\anaconda3\\lib\\site-packages (from ipython>=7.23.1->ipykernel->notebook) (0.18.1)\n",
      "Requirement already satisfied: pickleshare in c:\\users\\pope\\anaconda3\\lib\\site-packages (from ipython>=7.23.1->ipykernel->notebook) (0.7.5)\n",
      "Requirement already satisfied: prompt-toolkit!=3.0.37,<3.1.0,>=3.0.30 in c:\\users\\pope\\anaconda3\\lib\\site-packages (from ipython>=7.23.1->ipykernel->notebook) (3.0.36)\n",
      "Requirement already satisfied: stack-data in c:\\users\\pope\\anaconda3\\lib\\site-packages (from ipython>=7.23.1->ipykernel->notebook) (0.2.0)\n",
      "Requirement already satisfied: colorama in c:\\users\\pope\\anaconda3\\lib\\site-packages (from ipython>=7.23.1->ipykernel->notebook) (0.4.6)\n",
      "Requirement already satisfied: attrs>=17.4.0 in c:\\users\\pope\\anaconda3\\lib\\site-packages (from jsonschema>=2.6->nbformat->notebook) (22.1.0)\n",
      "Requirement already satisfied: pyrsistent!=0.17.0,!=0.17.1,!=0.17.2,>=0.14.0 in c:\\users\\pope\\anaconda3\\lib\\site-packages (from jsonschema>=2.6->nbformat->notebook) (0.18.0)\n",
      "Requirement already satisfied: anyio>=3.1.0 in c:\\users\\pope\\anaconda3\\lib\\site-packages (from jupyter-server>=1.8->nbclassic>=0.4.7->notebook) (3.5.0)\n",
      "Requirement already satisfied: jupyter-events>=0.4.0 in c:\\users\\pope\\anaconda3\\lib\\site-packages (from jupyter-server>=1.8->nbclassic>=0.4.7->notebook) (0.6.3)\n",
      "Requirement already satisfied: jupyter-server-terminals in c:\\users\\pope\\anaconda3\\lib\\site-packages (from jupyter-server>=1.8->nbclassic>=0.4.7->notebook) (0.4.4)\n",
      "Requirement already satisfied: websocket-client in c:\\users\\pope\\anaconda3\\lib\\site-packages (from jupyter-server>=1.8->nbclassic>=0.4.7->notebook) (0.58.0)\n",
      "Requirement already satisfied: six>=1.5 in c:\\users\\pope\\anaconda3\\lib\\site-packages (from python-dateutil>=2.8.2->jupyter-client>=5.3.4->notebook) (1.16.0)\n",
      "Requirement already satisfied: cffi>=1.0.1 in c:\\users\\pope\\anaconda3\\lib\\site-packages (from argon2-cffi-bindings->argon2-cffi->notebook) (1.15.1)\n",
      "Requirement already satisfied: soupsieve>1.2 in c:\\users\\pope\\anaconda3\\lib\\site-packages (from beautifulsoup4->nbconvert>=5->notebook) (2.4)\n",
      "Requirement already satisfied: webencodings in c:\\users\\pope\\anaconda3\\lib\\site-packages (from bleach->nbconvert>=5->notebook) (0.5.1)\n",
      "Requirement already satisfied: idna>=2.8 in c:\\users\\pope\\anaconda3\\lib\\site-packages (from anyio>=3.1.0->jupyter-server>=1.8->nbclassic>=0.4.7->notebook) (3.4)\n",
      "Requirement already satisfied: sniffio>=1.1 in c:\\users\\pope\\anaconda3\\lib\\site-packages (from anyio>=3.1.0->jupyter-server>=1.8->nbclassic>=0.4.7->notebook) (1.2.0)\n",
      "Requirement already satisfied: pycparser in c:\\users\\pope\\anaconda3\\lib\\site-packages (from cffi>=1.0.1->argon2-cffi-bindings->argon2-cffi->notebook) (2.21)\n",
      "Requirement already satisfied: parso<0.9.0,>=0.8.0 in c:\\users\\pope\\anaconda3\\lib\\site-packages (from jedi>=0.16->ipython>=7.23.1->ipykernel->notebook) (0.8.3)\n",
      "Requirement already satisfied: python-json-logger>=2.0.4 in c:\\users\\pope\\anaconda3\\lib\\site-packages (from jupyter-events>=0.4.0->jupyter-server>=1.8->nbclassic>=0.4.7->notebook) (2.0.7)\n",
      "Requirement already satisfied: pyyaml>=5.3 in c:\\users\\pope\\anaconda3\\lib\\site-packages (from jupyter-events>=0.4.0->jupyter-server>=1.8->nbclassic>=0.4.7->notebook) (6.0)\n",
      "Requirement already satisfied: rfc3339-validator in c:\\users\\pope\\anaconda3\\lib\\site-packages (from jupyter-events>=0.4.0->jupyter-server>=1.8->nbclassic>=0.4.7->notebook) (0.1.4)\n",
      "Requirement already satisfied: rfc3986-validator>=0.1.1 in c:\\users\\pope\\anaconda3\\lib\\site-packages (from jupyter-events>=0.4.0->jupyter-server>=1.8->nbclassic>=0.4.7->notebook) (0.1.1)\n",
      "Requirement already satisfied: wcwidth in c:\\users\\pope\\anaconda3\\lib\\site-packages (from prompt-toolkit!=3.0.37,<3.1.0,>=3.0.30->ipython>=7.23.1->ipykernel->notebook) (0.2.5)\n",
      "Requirement already satisfied: executing in c:\\users\\pope\\anaconda3\\lib\\site-packages (from stack-data->ipython>=7.23.1->ipykernel->notebook) (0.8.3)\n",
      "Requirement already satisfied: asttokens in c:\\users\\pope\\anaconda3\\lib\\site-packages (from stack-data->ipython>=7.23.1->ipykernel->notebook) (2.0.5)\n",
      "Requirement already satisfied: pure-eval in c:\\users\\pope\\anaconda3\\lib\\site-packages (from stack-data->ipython>=7.23.1->ipykernel->notebook) (0.2.2)\n",
      "Collecting fqdn (from jsonschema>=2.6->nbformat->notebook)\n",
      "  Downloading fqdn-1.5.1-py3-none-any.whl (9.1 kB)\n",
      "Collecting isoduration (from jsonschema>=2.6->nbformat->notebook)\n",
      "  Downloading isoduration-20.11.0-py3-none-any.whl (11 kB)\n",
      "Requirement already satisfied: jsonpointer>1.13 in c:\\users\\pope\\anaconda3\\lib\\site-packages (from jsonschema>=2.6->nbformat->notebook) (2.1)\n",
      "Collecting uri-template (from jsonschema>=2.6->nbformat->notebook)\n",
      "  Downloading uri_template-1.3.0-py3-none-any.whl (11 kB)\n",
      "Collecting webcolors>=1.11 (from jsonschema>=2.6->nbformat->notebook)\n",
      "  Downloading webcolors-24.11.1-py3-none-any.whl (14 kB)\n",
      "Requirement already satisfied: arrow>=0.15.0 in c:\\users\\pope\\anaconda3\\lib\\site-packages (from isoduration->jsonschema>=2.6->nbformat->notebook) (1.2.3)\n",
      "Installing collected packages: webcolors, uri-template, fqdn, isoduration\n",
      "Successfully installed fqdn-1.5.1 isoduration-20.11.0 uri-template-1.3.0 webcolors-24.11.1\n",
      "Note: you may need to restart the kernel to use updated packages.\n"
     ]
    }
   ],
   "source": [
    "pip install notebook"
   ]
  },
  {
   "cell_type": "code",
   "execution_count": 33,
   "id": "bea28502",
   "metadata": {},
   "outputs": [
    {
     "name": "stdout",
     "output_type": "stream",
     "text": [
      "['ball', 'apple', 'mango', 'wall', 'food', 'egg', 'doctor', True, [30, 40, 'boy', 'girl'], [30, 40, 'boy', 'girl'], [30, 40, 'boy', 'girl'], [30, 40, 'boy', 'girl'], [30, 40, 'boy', 'girl'], [30, 40], [30, 40]]\n"
     ]
    }
   ],
   "source": [
    "print(ser)"
   ]
  },
  {
   "cell_type": "code",
   "execution_count": 35,
   "id": "fef78706",
   "metadata": {},
   "outputs": [
    {
     "name": "stdout",
     "output_type": "stream",
     "text": [
      "34\n"
     ]
    }
   ],
   "source": [
    "APg = [60,'bell', 'nat','cat',34, 'weed']\n",
    "print(APg[4])"
   ]
  },
  {
   "cell_type": "code",
   "execution_count": 38,
   "id": "06e89494",
   "metadata": {},
   "outputs": [
    {
     "ename": "IndexError",
     "evalue": "string index out of range",
     "output_type": "error",
     "traceback": [
      "\u001b[1;31m---------------------------------------------------------------------------\u001b[0m",
      "\u001b[1;31mIndexError\u001b[0m                                Traceback (most recent call last)",
      "Cell \u001b[1;32mIn[38], line 1\u001b[0m\n\u001b[1;32m----> 1\u001b[0m \u001b[38;5;28mprint\u001b[39m(APg[\u001b[38;5;241m3\u001b[39m][\u001b[38;5;241m4\u001b[39m])\n",
      "\u001b[1;31mIndexError\u001b[0m: string index out of range"
     ]
    }
   ],
   "source": [
    "print(APg[3][4])"
   ]
  },
  {
   "cell_type": "code",
   "execution_count": 39,
   "id": "57b12eb5",
   "metadata": {},
   "outputs": [],
   "source": [
    "ApG= ['shark', 'dolphin', 'octopus', 'titus', True, 'NASA', 20.098, [34, 56, 'Kite']]"
   ]
  },
  {
   "cell_type": "code",
   "execution_count": 40,
   "id": "0bfcb9ef",
   "metadata": {},
   "outputs": [
    {
     "name": "stdout",
     "output_type": "stream",
     "text": [
      "56\n"
     ]
    }
   ],
   "source": [
    "print(ApG[7][1])"
   ]
  },
  {
   "cell_type": "code",
   "execution_count": 42,
   "id": "445aec9c",
   "metadata": {},
   "outputs": [],
   "source": [
    "ApG[4]= 'i will go to us'"
   ]
  },
  {
   "cell_type": "code",
   "execution_count": 43,
   "id": "76ffd0e2",
   "metadata": {},
   "outputs": [
    {
     "name": "stdout",
     "output_type": "stream",
     "text": [
      "['shark', 'dolphin', 'octopus', 'titus', 'i will go to us', 'NASA', 20.098, [34, 56, 'Kite']]\n"
     ]
    }
   ],
   "source": [
    "print(ApG)"
   ]
  },
  {
   "cell_type": "code",
   "execution_count": 50,
   "id": "bba011bf",
   "metadata": {
    "scrolled": true
   },
   "outputs": [
    {
     "ename": "TypeError",
     "evalue": "'int' object is not subscriptable",
     "output_type": "error",
     "traceback": [
      "\u001b[1;31m---------------------------------------------------------------------------\u001b[0m",
      "\u001b[1;31mTypeError\u001b[0m                                 Traceback (most recent call last)",
      "Cell \u001b[1;32mIn[50], line 1\u001b[0m\n\u001b[1;32m----> 1\u001b[0m \u001b[38;5;28mprint\u001b[39m(ApG[\u001b[38;5;241m7\u001b[39m][\u001b[38;5;241m2\u001b[39m])\n",
      "\u001b[1;31mTypeError\u001b[0m: 'int' object is not subscriptable"
     ]
    }
   ],
   "source": [
    "print(ApG[7][2])"
   ]
  },
  {
   "cell_type": "code",
   "execution_count": 48,
   "id": "e2b618a9",
   "metadata": {
    "scrolled": true
   },
   "outputs": [
    {
     "ename": "TypeError",
     "evalue": "'int' object does not support item assignment",
     "output_type": "error",
     "traceback": [
      "\u001b[1;31m---------------------------------------------------------------------------\u001b[0m",
      "\u001b[1;31mTypeError\u001b[0m                                 Traceback (most recent call last)",
      "Cell \u001b[1;32mIn[48], line 1\u001b[0m\n\u001b[1;32m----> 1\u001b[0m ApG[\u001b[38;5;241m7\u001b[39m][\u001b[38;5;241m2\u001b[39m] \u001b[38;5;241m=\u001b[39m \u001b[38;5;124m\"\u001b[39m\u001b[38;5;124mball\u001b[39m\u001b[38;5;124m\"\u001b[39m\n",
      "\u001b[1;31mTypeError\u001b[0m: 'int' object does not support item assignment"
     ]
    }
   ],
   "source": [
    "ApG[7][2] = \"ball\""
   ]
  },
  {
   "cell_type": "code",
   "execution_count": 54,
   "id": "c54ea14f",
   "metadata": {},
   "outputs": [],
   "source": [
    "AGG= ['shark', 'dolphin', 'octopus', 'titus', True, 'NASA', 20.098, [34, 56, 'Kite']]"
   ]
  },
  {
   "cell_type": "code",
   "execution_count": 53,
   "id": "378ca1bc",
   "metadata": {},
   "outputs": [
    {
     "ename": "NameError",
     "evalue": "name 'AGG' is not defined",
     "output_type": "error",
     "traceback": [
      "\u001b[1;31m---------------------------------------------------------------------------\u001b[0m",
      "\u001b[1;31mNameError\u001b[0m                                 Traceback (most recent call last)",
      "Cell \u001b[1;32mIn[53], line 1\u001b[0m\n\u001b[1;32m----> 1\u001b[0m \u001b[38;5;28mprint\u001b[39m(AGG)\n",
      "\u001b[1;31mNameError\u001b[0m: name 'AGG' is not defined"
     ]
    }
   ],
   "source": [
    "print(AGG)"
   ]
  },
  {
   "cell_type": "code",
   "execution_count": 55,
   "id": "8cffac43",
   "metadata": {},
   "outputs": [],
   "source": [
    "#######"
   ]
  },
  {
   "cell_type": "code",
   "execution_count": 56,
   "id": "6b9ec39e",
   "metadata": {},
   "outputs": [],
   "source": [
    "AGG= ['shark', 'dolphin', 'octopus', 'titus', True, 'NASA', 20.098, [34, 56, 'Kite']]"
   ]
  },
  {
   "cell_type": "code",
   "execution_count": 57,
   "id": "36f74ff8",
   "metadata": {},
   "outputs": [
    {
     "name": "stdout",
     "output_type": "stream",
     "text": [
      "['shark', 'dolphin', 'octopus', 'titus', True, 'NASA', 20.098, [34, 56, 'Kite']]\n"
     ]
    }
   ],
   "source": [
    "print(AGG)"
   ]
  },
  {
   "cell_type": "code",
   "execution_count": 58,
   "id": "2fd1e794",
   "metadata": {},
   "outputs": [
    {
     "name": "stdout",
     "output_type": "stream",
     "text": [
      "list before sorting:  [1, 5, 90, 87, 56, 43, 23, 21, 12, 34, 1, 2]\n"
     ]
    }
   ],
   "source": [
    "fold = [1,5,90, 87, 56, 43, 23, 21, 12, 34, 1, 2]\n",
    "print('list before sorting: ', fold)"
   ]
  },
  {
   "cell_type": "code",
   "execution_count": 59,
   "id": "7c2bdd76",
   "metadata": {},
   "outputs": [],
   "source": [
    "fold.sort()"
   ]
  },
  {
   "cell_type": "code",
   "execution_count": 61,
   "id": "1ab926dd",
   "metadata": {},
   "outputs": [
    {
     "name": "stdout",
     "output_type": "stream",
     "text": [
      "[1, 1, 2, 5, 12, 21, 23, 34, 43, 56, 87, 90]\n"
     ]
    }
   ],
   "source": [
    "print(fold)"
   ]
  },
  {
   "cell_type": "code",
   "execution_count": 63,
   "id": "a5074059",
   "metadata": {},
   "outputs": [
    {
     "name": "stdout",
     "output_type": "stream",
     "text": [
      "<class 'tuple'>\n"
     ]
    }
   ],
   "source": [
    "###### Tuple \n",
    "\n",
    "TB = ()\n",
    "print(type(TB))"
   ]
  },
  {
   "cell_type": "code",
   "execution_count": 64,
   "id": "78dbaab7",
   "metadata": {},
   "outputs": [],
   "source": [
    "table = (1, 'NASA', 'Bill Clinton', 1980, 1, 'FalseTrue', ('Another tuple'), 'NASA',  [1,2,3,4,5])"
   ]
  },
  {
   "cell_type": "code",
   "execution_count": 66,
   "id": "dc66d87b",
   "metadata": {},
   "outputs": [
    {
     "name": "stdout",
     "output_type": "stream",
     "text": [
      "(1, 'NASA', 'Bill Clinton', 1980, 1, 'FalseTrue', 'Another tuple', 'NASA', [1, 2, 3, 4, 5])\n"
     ]
    }
   ],
   "source": [
    "print(table)"
   ]
  },
  {
   "cell_type": "code",
   "execution_count": 67,
   "id": "0f790696",
   "metadata": {},
   "outputs": [
    {
     "name": "stdout",
     "output_type": "stream",
     "text": [
      "9\n"
     ]
    }
   ],
   "source": [
    "print(len(table))"
   ]
  },
  {
   "cell_type": "code",
   "execution_count": 68,
   "id": "d5fa2997",
   "metadata": {},
   "outputs": [
    {
     "name": "stdout",
     "output_type": "stream",
     "text": [
      "<class 'tuple'>\n"
     ]
    }
   ],
   "source": [
    "print(type(table))"
   ]
  },
  {
   "cell_type": "code",
   "execution_count": 69,
   "id": "064dc24c",
   "metadata": {},
   "outputs": [
    {
     "name": "stdout",
     "output_type": "stream",
     "text": [
      "9\n",
      "<class 'tuple'>\n"
     ]
    }
   ],
   "source": [
    "print(len(table))\n",
    "print(type(table))\n"
   ]
  },
  {
   "cell_type": "code",
   "execution_count": 70,
   "id": "51b67782",
   "metadata": {},
   "outputs": [
    {
     "data": {
      "text/plain": [
       "('Bill Clinton', 1980)"
      ]
     },
     "execution_count": 70,
     "metadata": {},
     "output_type": "execute_result"
    }
   ],
   "source": [
    "table[2:4]"
   ]
  },
  {
   "cell_type": "code",
   "execution_count": 72,
   "id": "59daeb5a",
   "metadata": {},
   "outputs": [
    {
     "data": {
      "text/plain": [
       "(1,\n",
       " 'NASA',\n",
       " 'Bill Clinton',\n",
       " 1980,\n",
       " 1,\n",
       " 'FalseTrue',\n",
       " 'Another tuple',\n",
       " 'NASA',\n",
       " [1, 2, 3, 4, 5])"
      ]
     },
     "execution_count": 72,
     "metadata": {},
     "output_type": "execute_result"
    }
   ],
   "source": [
    "table[0:12]"
   ]
  },
  {
   "cell_type": "code",
   "execution_count": 73,
   "id": "a59e85ef",
   "metadata": {},
   "outputs": [],
   "source": [
    "###### SET"
   ]
  },
  {
   "cell_type": "code",
   "execution_count": 74,
   "id": "3311014b",
   "metadata": {},
   "outputs": [
    {
     "name": "stdout",
     "output_type": "stream",
     "text": [
      "set()\n"
     ]
    }
   ],
   "source": [
    "FGJ = set()\n",
    "print(FGJ)"
   ]
  },
  {
   "cell_type": "code",
   "execution_count": 75,
   "id": "08d4e62f",
   "metadata": {},
   "outputs": [
    {
     "data": {
      "text/plain": [
       "set"
      ]
     },
     "execution_count": 75,
     "metadata": {},
     "output_type": "execute_result"
    }
   ],
   "source": [
    "type(FGJ)"
   ]
  },
  {
   "cell_type": "code",
   "execution_count": 80,
   "id": "88f6bd5b",
   "metadata": {},
   "outputs": [],
   "source": [
    "DFF = set([1,3,4,5])"
   ]
  },
  {
   "cell_type": "code",
   "execution_count": 81,
   "id": "5a9e9678",
   "metadata": {},
   "outputs": [],
   "source": [
    "DDD = {2,4,5,6,6}"
   ]
  },
  {
   "cell_type": "code",
   "execution_count": 82,
   "id": "8588d06a",
   "metadata": {},
   "outputs": [],
   "source": [
    "set= {}"
   ]
  },
  {
   "cell_type": "code",
   "execution_count": 83,
   "id": "85a51c5d",
   "metadata": {},
   "outputs": [
    {
     "data": {
      "text/plain": [
       "dict"
      ]
     },
     "execution_count": 83,
     "metadata": {},
     "output_type": "execute_result"
    }
   ],
   "source": [
    "type(set)"
   ]
  },
  {
   "cell_type": "code",
   "execution_count": 84,
   "id": "292a73f0",
   "metadata": {},
   "outputs": [],
   "source": [
    "set1 = {1,2,3,4}\n",
    "set2 = {5,6,7,4}"
   ]
  },
  {
   "cell_type": "code",
   "execution_count": 85,
   "id": "a2d005b5",
   "metadata": {},
   "outputs": [
    {
     "name": "stdout",
     "output_type": "stream",
     "text": [
      "{1, 2, 3, 4, 5, 6, 7}\n"
     ]
    }
   ],
   "source": [
    "print(set1|set2)"
   ]
  },
  {
   "cell_type": "code",
   "execution_count": 86,
   "id": "08973e07",
   "metadata": {},
   "outputs": [
    {
     "name": "stdout",
     "output_type": "stream",
     "text": [
      "{1, 2, 3, 4, 5, 6, 7}\n"
     ]
    }
   ],
   "source": [
    "print(set1.union(set2))"
   ]
  },
  {
   "cell_type": "code",
   "execution_count": 87,
   "id": "a8fa6b96",
   "metadata": {},
   "outputs": [
    {
     "name": "stdout",
     "output_type": "stream",
     "text": [
      "{4}\n",
      "{4}\n"
     ]
    }
   ],
   "source": [
    "print(set1&set2)\n",
    "print(set1.intersection(set2))"
   ]
  },
  {
   "cell_type": "code",
   "execution_count": 88,
   "id": "942f1117",
   "metadata": {},
   "outputs": [
    {
     "name": "stdout",
     "output_type": "stream",
     "text": [
      "{1, 2, 3}\n",
      "{1, 2, 3}\n",
      "{5, 6, 7}\n"
     ]
    }
   ],
   "source": [
    "print(set1-set2)\n",
    "print(set1.difference(set2))\n",
    "print(set2-set1)"
   ]
  },
  {
   "cell_type": "code",
   "execution_count": 89,
   "id": "2926dd13",
   "metadata": {},
   "outputs": [
    {
     "name": "stdout",
     "output_type": "stream",
     "text": [
      "{1, 2, 3, 5, 6, 7}\n"
     ]
    }
   ],
   "source": [
    "#symmetric difference -- a set of elements that are either in set1 or set2 but not in both\n",
    "print(set1^set2)"
   ]
  },
  {
   "cell_type": "code",
   "execution_count": 90,
   "id": "057659bd",
   "metadata": {},
   "outputs": [
    {
     "name": "stdout",
     "output_type": "stream",
     "text": [
      "{0, 3, 5, 'NASA', 7, 8}\n",
      "{0, 3, 'NASA', 7, 8}\n"
     ]
    }
   ],
   "source": [
    "#are sets mutable?\n",
    "#yes, but not in the same way as lists\n",
    "\n",
    "my_set = {3,5,7,8,0}\n",
    "\n",
    "my_set.add('NASA')\n",
    "print(my_set)\n",
    "\n",
    "my_set.remove(5)\n",
    "print(my_set)"
   ]
  },
  {
   "cell_type": "code",
   "execution_count": 91,
   "id": "faf90714",
   "metadata": {},
   "outputs": [
    {
     "name": "stdout",
     "output_type": "stream",
     "text": [
      "{'name': 'Bella', 'food': 'beans', 'instition': 'Amazon', 'snack': 'peanut'}\n"
     ]
    }
   ],
   "source": [
    "dine = {}\n",
    "\n",
    "dine = {'name': 'Bella', 'food': 'beans', 'instition': 'Amazon', 'snack': 'peanut'}\n",
    "\n",
    "print(dine)"
   ]
  },
  {
   "cell_type": "code",
   "execution_count": 93,
   "id": "d3534887",
   "metadata": {},
   "outputs": [
    {
     "name": "stdout",
     "output_type": "stream",
     "text": [
      "beans\n"
     ]
    }
   ],
   "source": [
    "print(dine['food'])"
   ]
  },
  {
   "cell_type": "code",
   "execution_count": 94,
   "id": "1639dc79",
   "metadata": {},
   "outputs": [
    {
     "name": "stdout",
     "output_type": "stream",
     "text": [
      "peanut\n"
     ]
    }
   ],
   "source": [
    "print(dine['snack'])"
   ]
  },
  {
   "cell_type": "code",
   "execution_count": 95,
   "id": "315939af",
   "metadata": {},
   "outputs": [],
   "source": [
    "#updating dictioanries - keys are immutable while values are mutable\n",
    "\n",
    "dine['food'] = 'rice and beans with plantain and vegetable sauce🤗'\n",
    "dine['school1'] = 'FUTO'\n",
    "dine['school2'] = 'Stanford University'\n",
    "dine['book'] = 'Harry Potter'\n",
    "dine['book2'] = 'GOT'"
   ]
  },
  {
   "cell_type": "code",
   "execution_count": 96,
   "id": "dcdab5e7",
   "metadata": {},
   "outputs": [
    {
     "name": "stdout",
     "output_type": "stream",
     "text": [
      "{'name': 'Bella', 'food': 'rice and beans with plantain and vegetable sauce🤗', 'instition': 'Amazon', 'snack': 'peanut', 'school1': 'FUTO', 'school2': 'Stanford University', 'book': 'Harry Potter', 'book2': 'GOT'}\n"
     ]
    }
   ],
   "source": [
    "print(dine)"
   ]
  },
  {
   "cell_type": "code",
   "execution_count": 98,
   "id": "dd5c9b3e",
   "metadata": {},
   "outputs": [
    {
     "data": {
      "text/plain": [
       "{'name': 'Bella',\n",
       " 'food': 'rice and beans with plantain and vegetable sauce🤗',\n",
       " 'instition': 'Amazon',\n",
       " 'snack': 'peanut',\n",
       " 'school1': 'FUTO',\n",
       " 'school2': 'Stanford University',\n",
       " 'book': 'Harry Potter'}"
      ]
     },
     "execution_count": 98,
     "metadata": {},
     "output_type": "execute_result"
    }
   ],
   "source": [
    "##deleting a key-value pair\n",
    "del dine['book2']\n",
    "dine"
   ]
  },
  {
   "cell_type": "code",
   "execution_count": 99,
   "id": "6d43e893",
   "metadata": {},
   "outputs": [
    {
     "name": "stdout",
     "output_type": "stream",
     "text": [
      "The keys include: dict_keys(['name', 'food', 'instition', 'snack', 'school1', 'school2', 'book']) \n",
      "\n",
      "The values include: dict_items([('name', 'Bella'), ('food', 'rice and beans with plantain and vegetable sauce🤗'), ('instition', 'Amazon'), ('snack', 'peanut'), ('school1', 'FUTO'), ('school2', 'Stanford University'), ('book', 'Harry Potter')])\n"
     ]
    }
   ],
   "source": [
    "#prints all the keys and values in the dictionary\n",
    "print(\"The keys include:\", dine.keys(),'\\n')\n",
    "print(\"The values include:\",dine.items())\n",
    "\n",
    "#where '\\n' = line break"
   ]
  },
  {
   "cell_type": "code",
   "execution_count": 100,
   "id": "9e543577",
   "metadata": {},
   "outputs": [
    {
     "name": "stdout",
     "output_type": "stream",
     "text": [
      "Tasks           Time(mins)      Status         \n",
      "Morning routine 120             Done           \n",
      "Chess practice  20              Done           \n",
      "Read book       60              Done           \n",
      "RAG task        120             Not done       \n",
      "JIN SM          30              Done           \n",
      "Day 2 DS        90              In progress    \n"
     ]
    }
   ],
   "source": [
    "#######TASK\n",
    "\n",
    "task_status = {'Done', 'In progress', 'Not done'}\n",
    "\n",
    "my_to_do = {'Tasks': ['Morning routine', 'Chess practice', 'Read book', 'RAG task', 'JIN SM', 'Day 2 DS'],\n",
    "            'Time(mins)': [120, 20, 60, 120, 30, 90],\n",
    "            'Status': ['Done', 'Done', 'Done', 'Not done', 'Done', 'In progress']\n",
    "           }\n",
    "\n",
    "print(\"{:<15} {:<15} {:<15}\".format('Tasks', 'Time(mins)', 'Status'))\n",
    "\n",
    "for task, time, status in zip(my_to_do['Tasks'], my_to_do['Time(mins)'], my_to_do['Status']):\n",
    "    print(\"{:<15} {:<15} {:15}\".format(task, time, status))"
   ]
  },
  {
   "cell_type": "code",
   "execution_count": 101,
   "id": "6dc276ab",
   "metadata": {},
   "outputs": [
    {
     "name": "stdout",
     "output_type": "stream",
     "text": [
      "Morning routine 120             Done           \n",
      "Chess practice  20              Done           \n",
      "Read book       60              Done           \n",
      "RAG task        120             Not done       \n",
      "JIN SM          30              Done           \n",
      "Day 2 DS        90              In progress    \n",
      "Sleep           60              Done           \n"
     ]
    }
   ],
   "source": [
    "## Features for the program\n",
    "\n",
    "#1 Add tasks to the to-do list.\n",
    "\n",
    "new_task = 'Sleep'\n",
    "time = 60\n",
    "status = 'Done'\n",
    "\n",
    "my_to_do['Tasks'].append(new_task)\n",
    "my_to_do['Time(mins)'].append(time)\n",
    "my_to_do['Status'].append(status)\n",
    "\n",
    "for task, time, status in zip(my_to_do['Tasks'], my_to_do['Time(mins)'], my_to_do['Status']):\n",
    "    print(\"{:<15} {:<15} {:15}\".format(task, time, status))"
   ]
  },
  {
   "cell_type": "code",
   "execution_count": 102,
   "id": "37492bbb",
   "metadata": {},
   "outputs": [
    {
     "name": "stdout",
     "output_type": "stream",
     "text": [
      "Morning routine 120             Done           \n",
      "Chess practice  20              Done           \n",
      "Read book       60              Done           \n",
      "RAG task        120             Not done       \n",
      "JIN SM          30              Done           \n",
      "Day 2 DS        90              In progress    \n"
     ]
    }
   ],
   "source": [
    "#2 removing tasks from the to_do list\n",
    "\n",
    "del my_to_do['Tasks'][6]\n",
    "\n",
    "my_to_do\n",
    "\n",
    "for task, time, status in zip(my_to_do['Tasks'], my_to_do['Time(mins)'], my_to_do['Status']):\n",
    "    print(\"{:<15} {:<15} {:15}\".format(task, time, status))"
   ]
  },
  {
   "cell_type": "code",
   "execution_count": 104,
   "id": "4db06baa",
   "metadata": {},
   "outputs": [
    {
     "name": "stdout",
     "output_type": "stream",
     "text": [
      "Morning routine 120             Done           \n",
      "Chess practice  20              Done           \n",
      "Read book       60              Done           \n",
      "RAG task        120             Not done       \n",
      "JIN SM          30              Done           \n",
      "Day 2 DS        90              Done           \n"
     ]
    }
   ],
   "source": [
    "####3 updating tasks\n",
    "\n",
    "my_to_do['Status'][5] = 'Done'\n",
    "\n",
    "for task, time, status in zip(my_to_do['Tasks'], my_to_do['Time(mins)'], my_to_do['Status']):\n",
    "    print(\"{:<15} {:<15} {:<15}\".format(task, time, status))"
   ]
  },
  {
   "cell_type": "code",
   "execution_count": null,
   "id": "c77931e9",
   "metadata": {},
   "outputs": [],
   "source": []
  }
 ],
 "metadata": {
  "kernelspec": {
   "display_name": "Python 3 (ipykernel)",
   "language": "python",
   "name": "python3"
  },
  "language_info": {
   "codemirror_mode": {
    "name": "ipython",
    "version": 3
   },
   "file_extension": ".py",
   "mimetype": "text/x-python",
   "name": "python",
   "nbconvert_exporter": "python",
   "pygments_lexer": "ipython3",
   "version": "3.11.3"
  }
 },
 "nbformat": 4,
 "nbformat_minor": 5
}
