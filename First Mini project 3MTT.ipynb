{
 "cells": [
  {
   "cell_type": "code",
   "execution_count": 1,
   "id": "e697237f-cd83-442f-b045-96bf1c53ac69",
   "metadata": {},
   "outputs": [],
   "source": [
    "### Quiz Game\n",
    "###### Create a quiz game made up of 5 questions. The user should be able to enter in answers and the final score calculated."
   ]
  },
  {
   "cell_type": "code",
   "execution_count": null,
   "id": "dccbb8fc-7dd0-4d8d-813a-0ff6ad400564",
   "metadata": {},
   "outputs": [
    {
     "name": "stdout",
     "output_type": "stream",
     "text": [
      "Welcome to the Quiz Game!\n",
      "Answer the following 5 questions:\n",
      "\n",
      "What is the capital of Edo?\n"
     ]
    }
   ],
   "source": [
    "##### Soutions\n",
    "questions = [\n",
    "    {\n",
    "        \"question\": \"What is the capital of Edo?\",\n",
    "        \"answer\": \"Benin\"\n",
    "    },\n",
    "    {\n",
    "        \"question\": \"What is the opposite of boy?\",\n",
    "        \"answer\": \"Girl\"\n",
    "    },\n",
    "    {\n",
    "        \"question\": \"Who is the owner of starlink?\",\n",
    "        \"answer\": \"Elon musk\"\n",
    "    },\n",
    "    {\n",
    "        \"question\": \"what is the captial of Texas?\",\n",
    "        \"answer\": \"Austin\"\n",
    "    },\n",
    "    {\n",
    "        \"question\": \"What is the largest city in Us?\",\n",
    "        \"answer\": \"New York city\"\n",
    "    }\n",
    "]\n",
    "\n",
    "score = 0\n",
    "\n",
    "print(\"Welcome to the Quiz Game!\")\n",
    "print(\"Answer the following 5 questions:\\n\")\n",
    "\n",
    "for q in questions:\n",
    "    print(q[\"question\"])\n",
    "    user_answer = input(\"Your answer: \").strip().lower()\n",
    "    correct_answer = q[\"answer\"].strip().lower()\n",
    "    \n",
    "    if user_answer == correct_answer:\n",
    "        print(\"Correct!\\n\")\n",
    "        score += 1\n",
    "    else:\n",
    "        print(f\"Incorrect. The correct answer is: {q['answer']}\\n\")\n",
    "\n",
    "print(f\"Quiz ended! Your final score is: {score}/5\")\n"
   ]
  },
  {
   "cell_type": "code",
   "execution_count": 3,
   "id": "f4acbd62-fd2d-4f81-8dde-6eb49f574017",
   "metadata": {},
   "outputs": [
    {
     "name": "stdout",
     "output_type": "stream",
     "text": [
      "Number Swapping Program\n"
     ]
    },
    {
     "name": "stdin",
     "output_type": "stream",
     "text": [
      "Enter the first number:  3\n",
      "Enter the second number:  4\n"
     ]
    },
    {
     "name": "stdout",
     "output_type": "stream",
     "text": [
      "\n",
      "Before swapping: numb_a = 3.0, numb_b = 4.0\n",
      "After swapping:  numb_a = 4.0, numb_b = 3.0\n"
     ]
    }
   ],
   "source": [
    "#### 2. Swapping Numbers\n",
    "#####Swapping two numbers in Python.\n",
    "\n",
    "print(\"Number Swapping Program\")\n",
    "\n",
    "try:\n",
    "    numb_a = float(input(\"Enter the first number: \"))\n",
    "    numb_b = float(input(\"Enter the second number: \"))\n",
    "except ValueError:\n",
    "    print(\"Error: Invalid input. Please enter numeric values.\")\n",
    "    exit()\n",
    "\n",
    "print(f\"\\nBefore swapping: numb_a = {numb_a}, numb_b = {numb_b}\")\n",
    "\n",
    "# Swap using tuple unpacking\n",
    "numb_a, numb_b = numb_b, numb_a\n",
    "\n",
    "print(f\"After swapping:  numb_a = {numb_a}, numb_b = {numb_b}\")"
   ]
  },
  {
   "cell_type": "code",
   "execution_count": 7,
   "id": "aa080c1d-8b6a-4c47-9cf3-b974400f9f11",
   "metadata": {},
   "outputs": [],
   "source": [
    "####. 3. Prime/Armstrong/Palindrome Number Identifier\n",
    "\n",
    "####Write a code/logic to determine if the value entered is a Prime number, an Armstrong Number or a Palindrome number.\n"
   ]
  },
  {
   "cell_type": "code",
   "execution_count": 9,
   "id": "bd598d7c-950b-49b4-ab26-507d7452b82d",
   "metadata": {},
   "outputs": [
    {
     "name": "stdin",
     "output_type": "stream",
     "text": [
      "Enter an integer:  2\n"
     ]
    },
    {
     "name": "stdout",
     "output_type": "stream",
     "text": [
      "The number 2 is a Prime number, Armstrong number, Palindrome number.\n"
     ]
    }
   ],
   "source": [
    "##### Solutions\n",
    "\n",
    "def is_prime(n):\n",
    "    if n < 2:\n",
    "        return False\n",
    "    for i in range(2, int(n ** 0.5) + 1):\n",
    "        if n % i == 0:\n",
    "            return False\n",
    "    return True\n",
    "\n",
    "def is_armstrong(n):\n",
    "    digits = [int(d) for d in str(n)]\n",
    "    power = len(digits)\n",
    "    return n == sum(d ** power for d in digits)\n",
    "\n",
    "def is_palindrome(n):\n",
    "    return str(n) == str(n)[::-1]\n",
    "\n",
    "def main():\n",
    "    try:\n",
    "        num = int(input(\"Enter an integer: \"))\n",
    "        results = []\n",
    "\n",
    "        if is_prime(num):\n",
    "            results.append(\"Prime number\")\n",
    "        if is_armstrong(num):\n",
    "            results.append(\"Armstrong number\")\n",
    "        if is_palindrome(num):\n",
    "            results.append(\"Palindrome number\")\n",
    "\n",
    "        if results:\n",
    "            print(f\"The number {num} is a {', '.join(results)}.\")\n",
    "        else:\n",
    "            print(f\"The number {num} does not meet any criteria.\")\n",
    "    except ValueError:\n",
    "        print(\"Invalid input! Please enter an integer.\")\n",
    "\n",
    "if __name__ == \"__main__\":\n",
    "    main()"
   ]
  },
  {
   "cell_type": "code",
   "execution_count": 11,
   "id": "59f12229-7396-40b7-a089-6677b72a5497",
   "metadata": {},
   "outputs": [],
   "source": [
    "##### 4. Fibonacci sequence"
   ]
  },
  {
   "cell_type": "code",
   "execution_count": null,
   "id": "811569ed-e593-43bf-93f4-5890aa90f363",
   "metadata": {},
   "outputs": [],
   "source": [
    "####Solutions\n",
    "\n",
    "try:\n",
    "    n = int(input(\"Enter a positive integer: \"))\n",
    "    if n <= 0:\n",
    "        print(\"Error: Please enter a positive integer.\")\n",
    "    else:\n",
    "        a, b = 0, 1\n",
    "        fib_sequence = []\n",
    "        for _ in range(n):\n",
    "            fib_sequence.append(a)\n",
    "            a, b = b, a + b\n",
    "        print(\"Fibonacci sequence:\", fib_sequence)\n",
    "except ValueError:\n",
    "    print(\"Error: Please enter a valid integer.\")"
   ]
  }
 ],
 "metadata": {
  "kernelspec": {
   "display_name": "Python [conda env:base] *",
   "language": "python",
   "name": "conda-base-py"
  },
  "language_info": {
   "codemirror_mode": {
    "name": "ipython",
    "version": 3
   },
   "file_extension": ".py",
   "mimetype": "text/x-python",
   "name": "python",
   "nbconvert_exporter": "python",
   "pygments_lexer": "ipython3",
   "version": "3.12.7"
  }
 },
 "nbformat": 4,
 "nbformat_minor": 5
}
