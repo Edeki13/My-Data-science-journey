{
 "cells": [
  {
   "cell_type": "code",
   "execution_count": 1,
   "id": "23022ff1-0b83-489b-9662-423590881d19",
   "metadata": {},
   "outputs": [
    {
     "name": "stdout",
     "output_type": "stream",
     "text": [
      "odd\n"
     ]
    }
   ],
   "source": [
    "# Here, we have a list of numbers. We want to check for thr numbers which\n",
    "# #even and then append those values to the nums list\n",
    "\n",
    "num = 7\n",
    "if num%2 == 0:\n",
    "    print(\"even\")\n",
    "else:\n",
    "    print(\"odd\")"
   ]
  },
  {
   "cell_type": "code",
   "execution_count": 11,
   "id": "f3a87788-05da-4230-903c-2c72ea10c810",
   "metadata": {},
   "outputs": [
    {
     "name": "stdout",
     "output_type": "stream",
     "text": [
      "34\n",
      "56\n",
      "98\n",
      "66\n",
      "12\n"
     ]
    }
   ],
   "source": [
    "nums = [34, 56, 77, 98, 66, 55, 33, 31, 12, 237]\n",
    "\n",
    "Evens = []\n",
    "for num in nums:\n",
    "    if num%2 == 0:\n",
    "        print(num)\n"
   ]
  },
  {
   "cell_type": "code",
   "execution_count": 9,
   "id": "1caec2d4-a190-4ff6-9327-f7f0b921cb6f",
   "metadata": {},
   "outputs": [
    {
     "ename": "NameError",
     "evalue": "name 'Evens' is not defined",
     "output_type": "error",
     "traceback": [
      "\u001b[1;31m---------------------------------------------------------------------------\u001b[0m",
      "\u001b[1;31mNameError\u001b[0m                                 Traceback (most recent call last)",
      "Cell \u001b[1;32mIn[9], line 1\u001b[0m\n\u001b[1;32m----> 1\u001b[0m Evens\u001b[38;5;241m.\u001b[39mappend(num)\n\u001b[0;32m      2\u001b[0m \u001b[38;5;28mprint\u001b[39m(Events)\n",
      "\u001b[1;31mNameError\u001b[0m: name 'Evens' is not defined"
     ]
    }
   ],
   "source": [
    "Evens.append(num)\n",
    "print(Evens)"
   ]
  },
  {
   "cell_type": "code",
   "execution_count": 13,
   "id": "896927e6-241c-4960-8589-83b1c4899ea7",
   "metadata": {},
   "outputs": [
    {
     "name": "stdout",
     "output_type": "stream",
     "text": [
      "34\n",
      "56\n",
      "98\n",
      "66\n",
      "12\n"
     ]
    }
   ],
   "source": [
    "nums = [34, 56, 77, 98, 66, 55, 33, 31, 12, 237]\n",
    "\n",
    "Evens = []\n",
    "for num in nums:\n",
    "    if num%2 == 0:\n",
    "        print(num)\n",
    "    "
   ]
  },
  {
   "cell_type": "code",
   "execution_count": 19,
   "id": "ecd089fa-5761-4914-a538-e34a5c773d11",
   "metadata": {},
   "outputs": [],
   "source": [
    "num = [4, 56, 98,66,12"
   ]
  },
  {
   "cell_type": "code",
   "execution_count": 23,
   "id": "7a5a73f8-5a2e-4991-9d73-c7d6445c5256",
   "metadata": {},
   "outputs": [
    {
     "name": "stdout",
     "output_type": "stream",
     "text": [
      "[[34, 56, 98, 66, 12]]\n"
     ]
    }
   ],
   "source": [
    "Evens = []\n",
    "Evens.append(num)\n",
    "print(Evens)"
   ]
  },
  {
   "cell_type": "code",
   "execution_count": null,
   "id": "0aa030e7-00b7-4de9-88a6-c6161c63d62b",
   "metadata": {},
   "outputs": [],
   "source": []
  },
  {
   "cell_type": "code",
   "execution_count": 26,
   "id": "96876c95-0846-472f-989a-58677518f11f",
   "metadata": {},
   "outputs": [],
   "source": [
    "Evens = [num for num in nums if num%2 == 0]"
   ]
  },
  {
   "cell_type": "code",
   "execution_count": 28,
   "id": "a4823590-aacc-4867-b780-1903d77eac41",
   "metadata": {},
   "outputs": [
    {
     "name": "stdout",
     "output_type": "stream",
     "text": [
      "[34, 56, 98, 66, 12]\n"
     ]
    }
   ],
   "source": [
    "print(Evens)"
   ]
  },
  {
   "cell_type": "code",
   "execution_count": 30,
   "id": "69b7b558-0c84-4389-aa49-e95af0cf5284",
   "metadata": {},
   "outputs": [
    {
     "data": {
      "text/plain": [
       "['S', 'C', 'H', 'O', 'O', 'L']"
      ]
     },
     "execution_count": 30,
     "metadata": {},
     "output_type": "execute_result"
    }
   ],
   "source": [
    "\n",
    "lst = [a for a in 'SCHOOL']\n",
    "\n",
    "lst"
   ]
  },
  {
   "cell_type": "code",
   "execution_count": 32,
   "id": "b1429fd2-951b-4b1a-b751-90e89c5c81b4",
   "metadata": {},
   "outputs": [
    {
     "name": "stdout",
     "output_type": "stream",
     "text": [
      "[1, 9, 25, 49, 81, 121, 169, 225, 289, 361]\n"
     ]
    }
   ],
   "source": [
    "\n",
    "lst = [i**2 for i in range(1,20) if i%2 != 0]\n",
    "print(lst)"
   ]
  },
  {
   "cell_type": "code",
   "execution_count": 34,
   "id": "32e572f2-257f-4e04-b076-9518e2a8e211",
   "metadata": {},
   "outputs": [
    {
     "data": {
      "text/plain": [
       "['B', 'H', 'D']"
      ]
     },
     "execution_count": 34,
     "metadata": {},
     "output_type": "execute_result"
    }
   ],
   "source": [
    "#extracting the first character of each name into a list\n",
    "\n",
    "heros = ['Black Widow', 'Hawkeye', 'Doctor Strange']\n",
    "lst = [word[0] for word in heros]\n",
    "lst"
   ]
  },
  {
   "cell_type": "code",
   "execution_count": 38,
   "id": "d493be91-42fa-4d93-b43d-bd62c7ff7e47",
   "metadata": {},
   "outputs": [
    {
     "name": "stdout",
     "output_type": "stream",
     "text": [
      "25\n"
     ]
    }
   ],
   "source": [
    "# Anonymous Functions\n",
    "\n",
    "#normal function definition\n",
    "\n",
    "def square(n):\n",
    "    return n**2\n",
    "print(square(5))"
   ]
  },
  {
   "cell_type": "code",
   "execution_count": 40,
   "id": "ce2f7453-7704-4a36-9887-25f38d3137bd",
   "metadata": {},
   "outputs": [
    {
     "name": "stdout",
     "output_type": "stream",
     "text": [
      "25\n"
     ]
    }
   ],
   "source": [
    "#using lambda\n",
    "\n",
    "lambda_sq = lambda n: n**2\n",
    "\n",
    "print(lambda_sq(5))"
   ]
  },
  {
   "cell_type": "code",
   "execution_count": 42,
   "id": "417e81b8-7a9e-449c-be6e-16f37508a452",
   "metadata": {},
   "outputs": [
    {
     "name": "stdout",
     "output_type": "stream",
     "text": [
      "12\n"
     ]
    }
   ],
   "source": [
    "#using lambda with two arguments\n",
    "\n",
    "prod = lambda a,b: a*b\n",
    "\n",
    "print(prod(3,4))"
   ]
  },
  {
   "cell_type": "code",
   "execution_count": null,
   "id": "94759e12-2bb7-48c1-85b5-2561509bbaef",
   "metadata": {},
   "outputs": [],
   "source": []
  }
 ],
 "metadata": {
  "kernelspec": {
   "display_name": "Python [conda env:base] *",
   "language": "python",
   "name": "conda-base-py"
  },
  "language_info": {
   "codemirror_mode": {
    "name": "ipython",
    "version": 3
   },
   "file_extension": ".py",
   "mimetype": "text/x-python",
   "name": "python",
   "nbconvert_exporter": "python",
   "pygments_lexer": "ipython3",
   "version": "3.12.7"
  }
 },
 "nbformat": 4,
 "nbformat_minor": 5
}
