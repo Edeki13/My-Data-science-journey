{
  "nbformat": 4,
  "nbformat_minor": 0,
  "metadata": {
    "colab": {
      "provenance": []
    },
    "kernelspec": {
      "name": "python3",
      "display_name": "Python 3"
    },
    "language_info": {
      "name": "python"
    }
  },
  "cells": [
    {
      "cell_type": "code",
      "execution_count": 1,
      "metadata": {
        "id": "adPqs0u8IplM"
      },
      "outputs": [],
      "source": [
        "# Import necessary libraries\n",
        "import pandas as pd\n",
        "import numpy as np\n",
        "import seaborn as sns\n",
        "import matplotlib.pyplot as plt\n",
        "from scipy import stats\n",
        "\n",
        "# Set random seed for reproducibility\n",
        "np.random.seed(42)"
      ]
    },
    {
      "cell_type": "code",
      "source": [
        "# Load the dataset\n",
        "df = pd.read_csv('/content/sample_data/marketing_AB.csv')\n",
        ""
      ],
      "metadata": {
        "id": "_QrZy9S6JAYs"
      },
      "execution_count": 2,
      "outputs": []
    },
    {
      "cell_type": "code",
      "source": [
        "# --- Data Preparation & Exploration ---\n",
        "\n",
        "# Check the first rows and column names\n",
        "print(\"First few rows:\")\n",
        "print(df.head())\n",
        "print(\"\\nColumn Names:\")\n",
        "print(df.columns.tolist())\n",
        ""
      ],
      "metadata": {
        "colab": {
          "base_uri": "https://localhost:8080/"
        },
        "id": "jYE96-V-JNst",
        "outputId": "a4c37a0e-2442-4431-f15c-dc92f1e3cdb1"
      },
      "execution_count": 3,
      "outputs": [
        {
          "output_type": "stream",
          "name": "stdout",
          "text": [
            "First few rows:\n",
            "   Unnamed: 0  user id test group  converted  total ads most ads day  \\\n",
            "0           0  1069124         ad      False        130       Monday   \n",
            "1           1  1119715         ad      False         93      Tuesday   \n",
            "2           2  1144181         ad      False         21      Tuesday   \n",
            "3           3  1435133         ad      False        355      Tuesday   \n",
            "4           4  1015700         ad      False        276       Friday   \n",
            "\n",
            "   most ads hour  \n",
            "0             20  \n",
            "1             22  \n",
            "2             18  \n",
            "3             10  \n",
            "4             14  \n",
            "\n",
            "Column Names:\n",
            "['Unnamed: 0', 'user id', 'test group', 'converted', 'total ads', 'most ads day', 'most ads hour']\n"
          ]
        }
      ]
    },
    {
      "cell_type": "code",
      "source": [
        "# Convert the 'converted' column to boolean if it is not already\n",
        "# (assumed to be stored as string 'True'/'False' or similar in some cases)\n",
        "if df['converted'].dtype != bool:\n",
        "    df['converted'] = df['converted'].astype(bool)\n",
        "    print(df)"
      ],
      "metadata": {
        "id": "aX6Oj6FyJUHZ"
      },
      "execution_count": 6,
      "outputs": []
    },
    {
      "cell_type": "code",
      "source": [
        "# Check basic statistics for conversion by test group\n",
        "conversion_by_group = df.groupby('test group')['converted'].agg(['count', 'mean', 'sum'])\n",
        "print(\"\\nConversion rates by test group:\")\n",
        "print(conversion_by_group)"
      ],
      "metadata": {
        "colab": {
          "base_uri": "https://localhost:8080/"
        },
        "id": "bCwZhIoLJg4L",
        "outputId": "4317fdb6-b9e1-4703-b6b1-f53df282411d"
      },
      "execution_count": 7,
      "outputs": [
        {
          "output_type": "stream",
          "name": "stdout",
          "text": [
            "\n",
            "Conversion rates by test group:\n",
            "             count      mean    sum\n",
            "test group                         \n",
            "ad          564577  0.025547  14423\n",
            "psa          23524  0.017854    420\n"
          ]
        }
      ]
    },
    {
      "cell_type": "code",
      "source": [
        "# Plot conversion rates by test group with 95% confidence intervals\n",
        "plt.figure(figsize=(10, 6))\n",
        "sns.barplot(x='test group', y='converted', data=df, ci=95)\n",
        "plt.title('Conversion Rates by Test Group')\n",
        "plt.ylabel('Conversion Rate')\n",
        "plt.show()"
      ],
      "metadata": {
        "colab": {
          "base_uri": "https://localhost:8080/",
          "height": 655
        },
        "id": "6_yJwcssJwZB",
        "outputId": "b54eb457-635f-4e20-bc32-37e7e0918ecf"
      },
      "execution_count": 9,
      "outputs": [
        {
          "output_type": "stream",
          "name": "stderr",
          "text": [
            "<ipython-input-9-f14c958f77fd>:3: FutureWarning: \n",
            "\n",
            "The `ci` parameter is deprecated. Use `errorbar=('ci', 95)` for the same effect.\n",
            "\n",
            "  sns.barplot(x='test group', y='converted', data=df, ci=95)\n"
          ]
        },
        {
          "output_type": "display_data",
          "data": {
            "text/plain": [
              "<Figure size 1000x600 with 1 Axes>"
            ],
            "image/png": "[encoded data removed]"
          },
          "metadata": {}
        }
      ]
    },
    {
      "cell_type": "code",
      "source": [
        "# Display the total number of users in each test group\n",
        "group_sizes = df['test group'].value_counts()\n",
        "print(\"\\nNumber of users in each group:\")\n",
        "print(group_sizes)\n",
        ""
      ],
      "metadata": {
        "colab": {
          "base_uri": "https://localhost:8080/"
        },
        "id": "QWfLr4naJ45n",
        "outputId": "36652f9b-c9f6-4169-fc85-569175d9b9d0"
      },
      "execution_count": 10,
      "outputs": [
        {
          "output_type": "stream",
          "name": "stdout",
          "text": [
            "\n",
            "Number of users in each group:\n",
            "test group\n",
            "ad     564577\n",
            "psa     23524\n",
            "Name: count, dtype: int64\n"
          ]
        }
      ]
    },
    {
      "cell_type": "code",
      "source": [
        "# --- Revenue Estimation ---\n",
        "\n",
        "# Assumption: each conversion generates a fixed revenue (eg., $100 per conversion)\n",
        "assumed_revenue_per_conversion = 100\n",
        ""
      ],
      "metadata": {
        "id": "HukyjaADJ9nt"
      },
      "execution_count": 11,
      "outputs": []
    },
    {
      "cell_type": "code",
      "source": [
        "# Compute revenue for each group\n",
        "conversion_by_group[\"estimated_revenue\"] = conversion_by_group[\"sum\"] * assumed_revenue_per_conversion\n",
        "print(\"\\nEstimated Revenue by test group (assuming $100 per conversion):\")\n",
        "print(conversion_by_group[['sum', 'estimated_revenue']])"
      ],
      "metadata": {
        "colab": {
          "base_uri": "https://localhost:8080/"
        },
        "id": "q913ks6zKC9G",
        "outputId": "b909f246-676b-4c7c-ea0d-6af4cd8b7d8d"
      },
      "execution_count": 12,
      "outputs": [
        {
          "output_type": "stream",
          "name": "stdout",
          "text": [
            "\n",
            "Estimated Revenue by test group (assuming $100 per conversion):\n",
            "              sum  estimated_revenue\n",
            "test group                          \n",
            "ad          14423            1442300\n",
            "psa           420              42000\n"
          ]
        }
      ]
    },
    {
      "cell_type": "code",
      "source": [
        "# --- Hypothesis Testing (Chi-square test) ---\n",
        "\n",
        "# We compare the conversion success between 'ad' (experimental) and 'psa' (control).\n",
        "# Construct a contingency table:\n",
        "#   Rows: test groups; Columns: conversion (converted vs not converted)\n",
        "\n",
        "# Calculate counts of conversions and non-conversions for each group\n",
        "ct = pd.crosstab(df[\"test group\"], df[\"converted\"])\n",
        "print(\"\\nContingency Table for Test Groups and Conversions:\")\n",
        "print(ct)"
      ],
      "metadata": {
        "colab": {
          "base_uri": "https://localhost:8080/"
        },
        "id": "-7KbzGx1KHfH",
        "outputId": "7d34f9fe-6c88-49ab-b1bd-9df0d95eea68"
      },
      "execution_count": 13,
      "outputs": [
        {
          "output_type": "stream",
          "name": "stdout",
          "text": [
            "\n",
            "Contingency Table for Test Groups and Conversions:\n",
            "converted    False  True \n",
            "test group               \n",
            "ad          550154  14423\n",
            "psa          23104    420\n"
          ]
        }
      ]
    },
    {
      "cell_type": "code",
      "source": [
        "# Perform the chi-square test on the contingency table.\n",
        "chi2, p_value, dof, expected = stats.chi2_contingency(ct)\n",
        "print(\"\\nChi-square Test Results:\")\n",
        "print(\"Chi-square statistic:\", chi2)\n",
        "print(\"Degrees of Freedom:\", dof)\n",
        "print(\"P-value:\", p_value)"
      ],
      "metadata": {
        "colab": {
          "base_uri": "https://localhost:8080/"
        },
        "id": "29An1ZdBKPJG",
        "outputId": "0c61a902-e4db-4fd5-8b5f-e834d6190bed"
      },
      "execution_count": 14,
      "outputs": [
        {
          "output_type": "stream",
          "name": "stdout",
          "text": [
            "\n",
            "Chi-square Test Results:\n",
            "Chi-square statistic: 54.005823883685245\n",
            "Degrees of Freedom: 1\n",
            "P-value: 1.9989623063390075e-13\n"
          ]
        }
      ]
    },
    {
      "cell_type": "code",
      "source": [
        "# Interpretation: Typically, a p-value < 0.05 indicates a statistically significant difference in conversion rates.\n",
        "if p_value < 0.05:\n",
        "    print(\"\\nThe result is statistically significant (p < 0.05).\")\n",
        "else:\n",
        "    print(\"\\nThe result is not statistically significant (p >= 0.05).\")"
      ],
      "metadata": {
        "colab": {
          "base_uri": "https://localhost:8080/"
        },
        "id": "Qwxu3h4ZKUuS",
        "outputId": "c4432b83-cf6e-440a-e15a-b7bac8bafaff"
      },
      "execution_count": 15,
      "outputs": [
        {
          "output_type": "stream",
          "name": "stdout",
          "text": [
            "\n",
            "The result is statistically significant (p < 0.05).\n"
          ]
        }
      ]
    }
  ]
}