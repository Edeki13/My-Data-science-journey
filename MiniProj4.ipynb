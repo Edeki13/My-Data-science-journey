{
 "cells": [
  {
   "cell_type": "markdown",
   "id": "3e3a22af-8d35-43ca-89eb-1d2e7b737537",
   "metadata": {},
   "source": [
    "The primary goal of this mini-project is to clean, analyze, and visualize COVID-19 data to identify trends, patterns, and key insights. The specific objectives include:\n",
    "\n",
    "Perform Data Cleaning: Handle missing values, standardize date formats, and filter out inconsistencies.\n",
    "\n",
    "Explore Trends in COVID-19 Cases and Deaths:\n",
    "\n",
    "Analyze daily and cumulative trends in infections and fatalities.\n",
    "\n",
    "Compare case and death rates across different countries and regions.\n",
    "\n",
    "Create Data Visualizations:\n",
    "\n",
    "Line Plots: Show the trend of cases, deaths, and vaccinations over time.\n",
    "\n",
    "Bar Charts: Compare cases, deaths, and vaccinations by country.\n",
    "\n",
    "Scatter Plots: Explore relationships between infection rates and testing or vaccination rates."
   ]
  },
  {
   "cell_type": "code",
   "execution_count": 3,
   "id": "f2266187-a481-4fc9-a578-016d1bef0e21",
   "metadata": {},
   "outputs": [],
   "source": [
    "#import required libraries\n",
    "\n",
    "import pandas as pd\n",
    "import numpy as np\n",
    "import matplotlib.pyplot as plt\n",
    "import seaborn as sns"
   ]
  },
  {
   "cell_type": "code",
   "execution_count": 5,
   "id": "7c662113-5686-44f2-bc02-37ff21df5db0",
   "metadata": {},
   "outputs": [],
   "source": [
    "# importing dataset\n",
    "\n",
    "DT= pd.read_csv('my data/Dataset2.csv')"
   ]
  },
  {
   "cell_type": "code",
   "execution_count": 7,
   "id": "9ef12c68-f9e8-4c41-9505-cf13e9aae8f7",
   "metadata": {},
   "outputs": [
    {
     "data": {
      "text/html": [
       "<div>\n",
       "<style scoped>\n",
       "    .dataframe tbody tr th:only-of-type {\n",
       "        vertical-align: middle;\n",
       "    }\n",
       "\n",
       "    .dataframe tbody tr th {\n",
       "        vertical-align: top;\n",
       "    }\n",
       "\n",
       "    .dataframe thead th {\n",
       "        text-align: right;\n",
       "    }\n",
       "</style>\n",
       "<table border=\"1\" class=\"dataframe\">\n",
       "  <thead>\n",
       "    <tr style=\"text-align: right;\">\n",
       "      <th></th>\n",
       "      <th>DATE</th>\n",
       "      <th>country</th>\n",
       "      <th>NEW Cases</th>\n",
       "      <th>NEW_DEATHS</th>\n",
       "      <th>vaccinated</th>\n",
       "    </tr>\n",
       "  </thead>\n",
       "  <tbody>\n",
       "    <tr>\n",
       "      <th>0</th>\n",
       "      <td>2024-11-01</td>\n",
       "      <td>Argentina</td>\n",
       "      <td>NaN</td>\n",
       "      <td>NaN</td>\n",
       "      <td>unknown</td>\n",
       "    </tr>\n",
       "    <tr>\n",
       "      <th>1</th>\n",
       "      <td>2024-11-01</td>\n",
       "      <td>Australia</td>\n",
       "      <td>0.0</td>\n",
       "      <td>0.0</td>\n",
       "      <td>327</td>\n",
       "    </tr>\n",
       "    <tr>\n",
       "      <th>2</th>\n",
       "      <td>2024-11-01</td>\n",
       "      <td>Australia</td>\n",
       "      <td>0.0</td>\n",
       "      <td>0.0</td>\n",
       "      <td>327</td>\n",
       "    </tr>\n",
       "    <tr>\n",
       "      <th>3</th>\n",
       "      <td>2024-11-01</td>\n",
       "      <td>Brazil</td>\n",
       "      <td>971.0</td>\n",
       "      <td>48.0</td>\n",
       "      <td>430</td>\n",
       "    </tr>\n",
       "    <tr>\n",
       "      <th>4</th>\n",
       "      <td>2024-11-01</td>\n",
       "      <td>Canada</td>\n",
       "      <td>176.0</td>\n",
       "      <td>8.0</td>\n",
       "      <td>unknown</td>\n",
       "    </tr>\n",
       "    <tr>\n",
       "      <th>...</th>\n",
       "      <td>...</td>\n",
       "      <td>...</td>\n",
       "      <td>...</td>\n",
       "      <td>...</td>\n",
       "      <td>...</td>\n",
       "    </tr>\n",
       "    <tr>\n",
       "      <th>160</th>\n",
       "      <td>2024-11-30</td>\n",
       "      <td>Brazil</td>\n",
       "      <td>514.0</td>\n",
       "      <td>25.0</td>\n",
       "      <td>unknown</td>\n",
       "    </tr>\n",
       "    <tr>\n",
       "      <th>161</th>\n",
       "      <td>2024-11-30</td>\n",
       "      <td>Canada</td>\n",
       "      <td>1133.0</td>\n",
       "      <td>56.0</td>\n",
       "      <td>438</td>\n",
       "    </tr>\n",
       "    <tr>\n",
       "      <th>162</th>\n",
       "      <td>2024-11-30</td>\n",
       "      <td>Canada</td>\n",
       "      <td>1133.0</td>\n",
       "      <td>56.0</td>\n",
       "      <td>438</td>\n",
       "    </tr>\n",
       "    <tr>\n",
       "      <th>163</th>\n",
       "      <td>2024-11-30</td>\n",
       "      <td>China</td>\n",
       "      <td>0.0</td>\n",
       "      <td>0.0</td>\n",
       "      <td>unknown</td>\n",
       "    </tr>\n",
       "    <tr>\n",
       "      <th>164</th>\n",
       "      <td>2024-11-30</td>\n",
       "      <td>China</td>\n",
       "      <td>0.0</td>\n",
       "      <td>0.0</td>\n",
       "      <td>unknown</td>\n",
       "    </tr>\n",
       "  </tbody>\n",
       "</table>\n",
       "<p>165 rows × 5 columns</p>\n",
       "</div>"
      ],
      "text/plain": [
       "          DATE    country    NEW Cases  NEW_DEATHS vaccinated \n",
       "0    2024-11-01  Argentina         NaN         NaN     unknown\n",
       "1    2024-11-01  Australia         0.0         0.0         327\n",
       "2    2024-11-01  Australia         0.0         0.0         327\n",
       "3    2024-11-01     Brazil       971.0        48.0         430\n",
       "4    2024-11-01     Canada       176.0         8.0     unknown\n",
       "..          ...        ...         ...         ...         ...\n",
       "160  2024-11-30     Brazil       514.0        25.0     unknown\n",
       "161  2024-11-30     Canada      1133.0        56.0         438\n",
       "162  2024-11-30     Canada      1133.0        56.0         438\n",
       "163  2024-11-30      China         0.0         0.0     unknown\n",
       "164  2024-11-30      China         0.0         0.0     unknown\n",
       "\n",
       "[165 rows x 5 columns]"
      ]
     },
     "execution_count": 7,
     "metadata": {},
     "output_type": "execute_result"
    }
   ],
   "source": [
    "DT"
   ]
  },
  {
   "cell_type": "code",
   "execution_count": 9,
   "id": "8b889224-3057-4130-97be-f0a31b76ca51",
   "metadata": {},
   "outputs": [
    {
     "name": "stdout",
     "output_type": "stream",
     "text": [
      "<class 'pandas.core.frame.DataFrame'>\n",
      "RangeIndex: 165 entries, 0 to 164\n",
      "Data columns (total 5 columns):\n",
      " #   Column       Non-Null Count  Dtype  \n",
      "---  ------       --------------  -----  \n",
      " 0   DATE         165 non-null    object \n",
      " 1   country      165 non-null    object \n",
      " 2    NEW Cases   154 non-null    float64\n",
      " 3   NEW_DEATHS   139 non-null    float64\n",
      " 4   vaccinated   165 non-null    object \n",
      "dtypes: float64(2), object(3)\n",
      "memory usage: 6.6+ KB\n"
     ]
    }
   ],
   "source": [
    "DT.info()"
   ]
  },
  {
   "cell_type": "code",
   "execution_count": 11,
   "id": "d1034c1c-76ba-47fc-9022-891dc5872e11",
   "metadata": {},
   "outputs": [
    {
     "data": {
      "text/html": [
       "<div>\n",
       "<style scoped>\n",
       "    .dataframe tbody tr th:only-of-type {\n",
       "        vertical-align: middle;\n",
       "    }\n",
       "\n",
       "    .dataframe tbody tr th {\n",
       "        vertical-align: top;\n",
       "    }\n",
       "\n",
       "    .dataframe thead th {\n",
       "        text-align: right;\n",
       "    }\n",
       "</style>\n",
       "<table border=\"1\" class=\"dataframe\">\n",
       "  <thead>\n",
       "    <tr style=\"text-align: right;\">\n",
       "      <th></th>\n",
       "      <th>DATE</th>\n",
       "      <th>country</th>\n",
       "      <th>NEW Cases</th>\n",
       "      <th>NEW_DEATHS</th>\n",
       "      <th>vaccinated</th>\n",
       "    </tr>\n",
       "  </thead>\n",
       "  <tbody>\n",
       "    <tr>\n",
       "      <th>0</th>\n",
       "      <td>2024-11-01</td>\n",
       "      <td>Argentina</td>\n",
       "      <td>NaN</td>\n",
       "      <td>NaN</td>\n",
       "      <td>unknown</td>\n",
       "    </tr>\n",
       "    <tr>\n",
       "      <th>1</th>\n",
       "      <td>2024-11-01</td>\n",
       "      <td>Australia</td>\n",
       "      <td>0.0</td>\n",
       "      <td>0.0</td>\n",
       "      <td>327</td>\n",
       "    </tr>\n",
       "    <tr>\n",
       "      <th>2</th>\n",
       "      <td>2024-11-01</td>\n",
       "      <td>Australia</td>\n",
       "      <td>0.0</td>\n",
       "      <td>0.0</td>\n",
       "      <td>327</td>\n",
       "    </tr>\n",
       "    <tr>\n",
       "      <th>3</th>\n",
       "      <td>2024-11-01</td>\n",
       "      <td>Brazil</td>\n",
       "      <td>971.0</td>\n",
       "      <td>48.0</td>\n",
       "      <td>430</td>\n",
       "    </tr>\n",
       "    <tr>\n",
       "      <th>4</th>\n",
       "      <td>2024-11-01</td>\n",
       "      <td>Canada</td>\n",
       "      <td>176.0</td>\n",
       "      <td>8.0</td>\n",
       "      <td>unknown</td>\n",
       "    </tr>\n",
       "  </tbody>\n",
       "</table>\n",
       "</div>"
      ],
      "text/plain": [
       "        DATE    country    NEW Cases  NEW_DEATHS vaccinated \n",
       "0  2024-11-01  Argentina         NaN         NaN     unknown\n",
       "1  2024-11-01  Australia         0.0         0.0         327\n",
       "2  2024-11-01  Australia         0.0         0.0         327\n",
       "3  2024-11-01     Brazil       971.0        48.0         430\n",
       "4  2024-11-01     Canada       176.0         8.0     unknown"
      ]
     },
     "execution_count": 11,
     "metadata": {},
     "output_type": "execute_result"
    }
   ],
   "source": [
    "DT.head()"
   ]
  },
  {
   "cell_type": "code",
   "execution_count": 13,
   "id": "04b2fbc2-4cbd-4360-8dd6-fe7d5b500c1c",
   "metadata": {},
   "outputs": [
    {
     "data": {
      "text/html": [
       "<div>\n",
       "<style scoped>\n",
       "    .dataframe tbody tr th:only-of-type {\n",
       "        vertical-align: middle;\n",
       "    }\n",
       "\n",
       "    .dataframe tbody tr th {\n",
       "        vertical-align: top;\n",
       "    }\n",
       "\n",
       "    .dataframe thead th {\n",
       "        text-align: right;\n",
       "    }\n",
       "</style>\n",
       "<table border=\"1\" class=\"dataframe\">\n",
       "  <thead>\n",
       "    <tr style=\"text-align: right;\">\n",
       "      <th></th>\n",
       "      <th>NEW Cases</th>\n",
       "      <th>NEW_DEATHS</th>\n",
       "    </tr>\n",
       "  </thead>\n",
       "  <tbody>\n",
       "    <tr>\n",
       "      <th>count</th>\n",
       "      <td>154.000000</td>\n",
       "      <td>139.000000</td>\n",
       "    </tr>\n",
       "    <tr>\n",
       "      <th>mean</th>\n",
       "      <td>579.032468</td>\n",
       "      <td>28.474820</td>\n",
       "    </tr>\n",
       "    <tr>\n",
       "      <th>std</th>\n",
       "      <td>406.078350</td>\n",
       "      <td>20.640586</td>\n",
       "    </tr>\n",
       "    <tr>\n",
       "      <th>min</th>\n",
       "      <td>0.000000</td>\n",
       "      <td>0.000000</td>\n",
       "    </tr>\n",
       "    <tr>\n",
       "      <th>25%</th>\n",
       "      <td>271.750000</td>\n",
       "      <td>13.500000</td>\n",
       "    </tr>\n",
       "    <tr>\n",
       "      <th>50%</th>\n",
       "      <td>589.000000</td>\n",
       "      <td>29.000000</td>\n",
       "    </tr>\n",
       "    <tr>\n",
       "      <th>75%</th>\n",
       "      <td>801.250000</td>\n",
       "      <td>39.500000</td>\n",
       "    </tr>\n",
       "    <tr>\n",
       "      <th>max</th>\n",
       "      <td>1730.000000</td>\n",
       "      <td>86.000000</td>\n",
       "    </tr>\n",
       "  </tbody>\n",
       "</table>\n",
       "</div>"
      ],
      "text/plain": [
       "         NEW Cases  NEW_DEATHS\n",
       "count   154.000000  139.000000\n",
       "mean    579.032468   28.474820\n",
       "std     406.078350   20.640586\n",
       "min       0.000000    0.000000\n",
       "25%     271.750000   13.500000\n",
       "50%     589.000000   29.000000\n",
       "75%     801.250000   39.500000\n",
       "max    1730.000000   86.000000"
      ]
     },
     "execution_count": 13,
     "metadata": {},
     "output_type": "execute_result"
    }
   ],
   "source": [
    "DT.describe()"
   ]
  },
  {
   "cell_type": "code",
   "execution_count": 15,
   "id": "b3eecf28-3e21-4392-8070-2764229e249c",
   "metadata": {},
   "outputs": [
    {
     "data": {
      "text/html": [
       "<div>\n",
       "<style scoped>\n",
       "    .dataframe tbody tr th:only-of-type {\n",
       "        vertical-align: middle;\n",
       "    }\n",
       "\n",
       "    .dataframe tbody tr th {\n",
       "        vertical-align: top;\n",
       "    }\n",
       "\n",
       "    .dataframe thead th {\n",
       "        text-align: right;\n",
       "    }\n",
       "</style>\n",
       "<table border=\"1\" class=\"dataframe\">\n",
       "  <thead>\n",
       "    <tr style=\"text-align: right;\">\n",
       "      <th></th>\n",
       "      <th>DATE</th>\n",
       "      <th>country</th>\n",
       "      <th>NEW Cases</th>\n",
       "      <th>NEW_DEATHS</th>\n",
       "      <th>vaccinated</th>\n",
       "    </tr>\n",
       "  </thead>\n",
       "  <tbody>\n",
       "    <tr>\n",
       "      <th>0</th>\n",
       "      <td>False</td>\n",
       "      <td>False</td>\n",
       "      <td>True</td>\n",
       "      <td>True</td>\n",
       "      <td>False</td>\n",
       "    </tr>\n",
       "    <tr>\n",
       "      <th>1</th>\n",
       "      <td>False</td>\n",
       "      <td>False</td>\n",
       "      <td>False</td>\n",
       "      <td>False</td>\n",
       "      <td>False</td>\n",
       "    </tr>\n",
       "    <tr>\n",
       "      <th>2</th>\n",
       "      <td>False</td>\n",
       "      <td>False</td>\n",
       "      <td>False</td>\n",
       "      <td>False</td>\n",
       "      <td>False</td>\n",
       "    </tr>\n",
       "    <tr>\n",
       "      <th>3</th>\n",
       "      <td>False</td>\n",
       "      <td>False</td>\n",
       "      <td>False</td>\n",
       "      <td>False</td>\n",
       "      <td>False</td>\n",
       "    </tr>\n",
       "    <tr>\n",
       "      <th>4</th>\n",
       "      <td>False</td>\n",
       "      <td>False</td>\n",
       "      <td>False</td>\n",
       "      <td>False</td>\n",
       "      <td>False</td>\n",
       "    </tr>\n",
       "    <tr>\n",
       "      <th>...</th>\n",
       "      <td>...</td>\n",
       "      <td>...</td>\n",
       "      <td>...</td>\n",
       "      <td>...</td>\n",
       "      <td>...</td>\n",
       "    </tr>\n",
       "    <tr>\n",
       "      <th>160</th>\n",
       "      <td>False</td>\n",
       "      <td>False</td>\n",
       "      <td>False</td>\n",
       "      <td>False</td>\n",
       "      <td>False</td>\n",
       "    </tr>\n",
       "    <tr>\n",
       "      <th>161</th>\n",
       "      <td>False</td>\n",
       "      <td>False</td>\n",
       "      <td>False</td>\n",
       "      <td>False</td>\n",
       "      <td>False</td>\n",
       "    </tr>\n",
       "    <tr>\n",
       "      <th>162</th>\n",
       "      <td>False</td>\n",
       "      <td>False</td>\n",
       "      <td>False</td>\n",
       "      <td>False</td>\n",
       "      <td>False</td>\n",
       "    </tr>\n",
       "    <tr>\n",
       "      <th>163</th>\n",
       "      <td>False</td>\n",
       "      <td>False</td>\n",
       "      <td>False</td>\n",
       "      <td>False</td>\n",
       "      <td>False</td>\n",
       "    </tr>\n",
       "    <tr>\n",
       "      <th>164</th>\n",
       "      <td>False</td>\n",
       "      <td>False</td>\n",
       "      <td>False</td>\n",
       "      <td>False</td>\n",
       "      <td>False</td>\n",
       "    </tr>\n",
       "  </tbody>\n",
       "</table>\n",
       "<p>165 rows × 5 columns</p>\n",
       "</div>"
      ],
      "text/plain": [
       "     DATE   country    NEW Cases  NEW_DEATHS  vaccinated \n",
       "0    False     False        True        True        False\n",
       "1    False     False       False       False        False\n",
       "2    False     False       False       False        False\n",
       "3    False     False       False       False        False\n",
       "4    False     False       False       False        False\n",
       "..     ...       ...         ...         ...          ...\n",
       "160  False     False       False       False        False\n",
       "161  False     False       False       False        False\n",
       "162  False     False       False       False        False\n",
       "163  False     False       False       False        False\n",
       "164  False     False       False       False        False\n",
       "\n",
       "[165 rows x 5 columns]"
      ]
     },
     "execution_count": 15,
     "metadata": {},
     "output_type": "execute_result"
    }
   ],
   "source": [
    "DT.isnull()"
   ]
  },
  {
   "cell_type": "code",
   "execution_count": 17,
   "id": "bfdc5def-8208-438e-b4e5-f352ba81b574",
   "metadata": {},
   "outputs": [
    {
     "data": {
      "text/plain": [
       "DATE            0\n",
       "country         0\n",
       " NEW Cases     11\n",
       "NEW_DEATHS     26\n",
       "vaccinated      0\n",
       "dtype: int64"
      ]
     },
     "execution_count": 17,
     "metadata": {},
     "output_type": "execute_result"
    }
   ],
   "source": [
    "#to identify the number of missing values in each column\n",
    "DT.isnull().sum()"
   ]
  },
  {
   "cell_type": "code",
   "execution_count": 19,
   "id": "7264cf18-3e73-4688-8cea-7b427b3ef7ad",
   "metadata": {},
   "outputs": [
    {
     "data": {
      "text/plain": [
       "DATE           False\n",
       "country        False\n",
       " NEW Cases      True\n",
       "NEW_DEATHS      True\n",
       "vaccinated     False\n",
       "dtype: bool"
      ]
     },
     "execution_count": 19,
     "metadata": {},
     "output_type": "execute_result"
    }
   ],
   "source": [
    "#to identify columns with at least one missing values\n",
    "DT.isnull().any(axis=0)"
   ]
  },
  {
   "cell_type": "code",
   "execution_count": 23,
   "id": "24fe8ee5-07dd-4b96-839f-6b8ed3595e46",
   "metadata": {},
   "outputs": [
    {
     "data": {
      "text/plain": [
       "DATE           False\n",
       "country        False\n",
       " NEW Cases     False\n",
       "NEW_DEATHS     False\n",
       "vaccinated     False\n",
       "dtype: bool"
      ]
     },
     "execution_count": 23,
     "metadata": {},
     "output_type": "execute_result"
    }
   ],
   "source": [
    "#to identfy columns that have missing values throughout the column\n",
    "DT.isnull().all(axis=0)"
   ]
  },
  {
   "cell_type": "code",
   "execution_count": 25,
   "id": "122f002a-3e69-4510-941b-97bcbd1930b0",
   "metadata": {},
   "outputs": [
    {
     "data": {
      "text/plain": [
       "0"
      ]
     },
     "execution_count": 25,
     "metadata": {},
     "output_type": "execute_result"
    }
   ],
   "source": [
    "#number of columns with all missing values\n",
    "DT.isnull().all(axis=0).sum()"
   ]
  },
  {
   "cell_type": "code",
   "execution_count": 27,
   "id": "6802ca78-e9e9-45bb-b37a-faffbe20ab06",
   "metadata": {},
   "outputs": [
    {
     "data": {
      "text/plain": [
       "0       True\n",
       "1      False\n",
       "2      False\n",
       "3      False\n",
       "4      False\n",
       "       ...  \n",
       "160    False\n",
       "161    False\n",
       "162    False\n",
       "163    False\n",
       "164    False\n",
       "Length: 165, dtype: bool"
      ]
     },
     "execution_count": 27,
     "metadata": {},
     "output_type": "execute_result"
    }
   ],
   "source": [
    "#rows with at least one missing values\n",
    "DT.isnull().any(axis=1)"
   ]
  },
  {
   "cell_type": "code",
   "execution_count": 29,
   "id": "b8ddf89e-3746-4c30-96c7-cd2d4ed972fc",
   "metadata": {},
   "outputs": [
    {
     "data": {
      "text/plain": [
       "0      False\n",
       "1      False\n",
       "2      False\n",
       "3      False\n",
       "4      False\n",
       "       ...  \n",
       "160    False\n",
       "161    False\n",
       "162    False\n",
       "163    False\n",
       "164    False\n",
       "Length: 165, dtype: bool"
      ]
     },
     "execution_count": 29,
     "metadata": {},
     "output_type": "execute_result"
    }
   ],
   "source": [
    "#rows with all missing values\n",
    "DT.isnull().all(axis=1)"
   ]
  },
  {
   "cell_type": "code",
   "execution_count": 31,
   "id": "7f4684a0-41ad-4a8e-8d26-7af9a643a07b",
   "metadata": {},
   "outputs": [
    {
     "data": {
      "text/plain": [
       "0"
      ]
     },
     "execution_count": 31,
     "metadata": {},
     "output_type": "execute_result"
    }
   ],
   "source": [
    "#number of rows with all missing values\n",
    "DT.isnull().all(axis=1).sum()"
   ]
  },
  {
   "cell_type": "code",
   "execution_count": null,
   "id": "0bca43b2-551d-401e-9964-a86c10de9abd",
   "metadata": {},
   "outputs": [],
   "source": []
  }
 ],
 "metadata": {
  "kernelspec": {
   "display_name": "Python [conda env:base] *",
   "language": "python",
   "name": "conda-base-py"
  },
  "language_info": {
   "codemirror_mode": {
    "name": "ipython",
    "version": 3
   },
   "file_extension": ".py",
   "mimetype": "text/x-python",
   "name": "python",
   "nbconvert_exporter": "python",
   "pygments_lexer": "ipython3",
   "version": "3.12.7"
  }
 },
 "nbformat": 4,
 "nbformat_minor": 5
}
