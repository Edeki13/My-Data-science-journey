{
 "cells": [
  {
   "cell_type": "code",
   "execution_count": 1,
   "id": "b81f1b59-b3c2-41ef-8fc2-4c08a64b55f2",
   "metadata": {},
   "outputs": [
    {
     "name": "stdout",
     "output_type": "stream",
     "text": [
      "Requirement already satisfied: numpy in c:\\users\\pope\\anaconda3\\lib\\site-packages (1.26.4)\n"
     ]
    }
   ],
   "source": [
    "!pip install numpy"
   ]
  },
  {
   "cell_type": "code",
   "execution_count": 7,
   "id": "5bb3c02c-75f7-481d-ac87-879493432181",
   "metadata": {},
   "outputs": [],
   "source": [
    "lst = [1,2,3,4,5,6,7,8,9]"
   ]
  },
  {
   "cell_type": "code",
   "execution_count": 9,
   "id": "e0d6d5db-7b50-4fdb-948b-af4d71987679",
   "metadata": {},
   "outputs": [
    {
     "name": "stdout",
     "output_type": "stream",
     "text": [
      "<class 'list'>\n"
     ]
    }
   ],
   "source": [
    "print(type(lst))"
   ]
  },
  {
   "cell_type": "code",
   "execution_count": 11,
   "id": "e250f5e0-f5ab-4a58-9d7f-9758d34ddeda",
   "metadata": {},
   "outputs": [
    {
     "name": "stdout",
     "output_type": "stream",
     "text": [
      "List:  [1, 2, 3, 4, 5, 6, 7, 8, 9]\n"
     ]
    }
   ],
   "source": [
    "print(\"List: \", lst)"
   ]
  },
  {
   "cell_type": "code",
   "execution_count": 13,
   "id": "6b4e79f0-c827-445a-8bcd-09ec55f1dcf7",
   "metadata": {},
   "outputs": [],
   "source": [
    "import numpy as np\n",
    "arr_my = np.array(lst)"
   ]
  },
  {
   "cell_type": "code",
   "execution_count": 15,
   "id": "32698c93-ddea-4f00-8536-aae6d456d1da",
   "metadata": {},
   "outputs": [
    {
     "name": "stdout",
     "output_type": "stream",
     "text": [
      "<class 'numpy.ndarray'>\n"
     ]
    }
   ],
   "source": [
    "print(type(arr_my))"
   ]
  },
  {
   "cell_type": "code",
   "execution_count": 17,
   "id": "5c4a6699-462f-46f0-baac-a98c197069ab",
   "metadata": {},
   "outputs": [
    {
     "name": "stdout",
     "output_type": "stream",
     "text": [
      "[1 2 3 4 5 6 7 8 9]\n"
     ]
    }
   ],
   "source": [
    "print(arr_my)"
   ]
  },
  {
   "cell_type": "code",
   "execution_count": 19,
   "id": "a4f8b4ec-e59e-499b-b04e-0c855b6225b5",
   "metadata": {},
   "outputs": [
    {
     "name": "stdout",
     "output_type": "stream",
     "text": [
      "numpy array:  [1 2 3 4 5 6 7 8 9]\n"
     ]
    }
   ],
   "source": [
    "print(\"numpy array: \", arr_my)"
   ]
  },
  {
   "cell_type": "code",
   "execution_count": 23,
   "id": "a565b1fc-d336-4299-b8b1-381ae1e5db43",
   "metadata": {},
   "outputs": [
    {
     "name": "stdout",
     "output_type": "stream",
     "text": [
      "<class 'numpy.ndarray'>\n",
      "[ 0  1  2  3  4  5  6  7  8  9 10 11 12 13 14 15 16 17 18 19 20 21 22 23\n",
      " 24 25 26 27 28 29 30 31 32 33 34 35 36 37 38 39]\n"
     ]
    }
   ],
   "source": [
    "arr_Cv = np.arange(40)\n",
    "print(type(arr_Cv))\n",
    "print(arr_Cv)"
   ]
  },
  {
   "cell_type": "code",
   "execution_count": 3,
   "id": "6f3bd2a3-5626-4e94-b4ec-bb5d7789cbb4",
   "metadata": {},
   "outputs": [
    {
     "name": "stdout",
     "output_type": "stream",
     "text": [
      "CPU times: total: 625 ms\n",
      "Wall time: 842 ms\n"
     ]
    }
   ],
   "source": [
    "%%time\n",
    "lst = list(range(1000000))\n",
    "for i in range(1000000):\n",
    "    lst[i]*lst[i]\n"
   ]
  },
  {
   "cell_type": "code",
   "execution_count": 1,
   "id": "c3436f17-8c49-4370-91cf-4c78ebbcb11e",
   "metadata": {},
   "outputs": [
    {
     "name": "stdout",
     "output_type": "stream",
     "text": [
      "Array: [[1 2 3 4]\n",
      " [3 4 5 6]]\n",
      "\n"
     ]
    }
   ],
   "source": [
    "import numpy as np\n",
    "\n",
    "arr = np.array([[1,2,3,4], [3,4,5,6]])\n",
    "\n",
    "print(f'Array: {arr}')\n",
    "\n",
    "print()"
   ]
  },
  {
   "cell_type": "code",
   "execution_count": 3,
   "id": "70e45eb2-6f7d-4387-ad90-bb8365c0caa2",
   "metadata": {},
   "outputs": [
    {
     "name": "stdout",
     "output_type": "stream",
     "text": [
      "(2, 4)\n"
     ]
    }
   ],
   "source": [
    "print(arr.shape)"
   ]
  },
  {
   "cell_type": "code",
   "execution_count": 5,
   "id": "a13d5ac5-6248-4af4-a7aa-c2ce6dc11609",
   "metadata": {},
   "outputs": [
    {
     "name": "stdout",
     "output_type": "stream",
     "text": [
      "DIM:  (2, 4)\n"
     ]
    }
   ],
   "source": [
    "print(\"DIM: \", arr.shape)"
   ]
  },
  {
   "cell_type": "code",
   "execution_count": 7,
   "id": "9ce78882-c85f-44e0-a4cf-a2e3c6f606a9",
   "metadata": {},
   "outputs": [
    {
     "name": "stdout",
     "output_type": "stream",
     "text": [
      "Data type:  int32\n"
     ]
    }
   ],
   "source": [
    "print('Data type: ', arr.dtype)"
   ]
  },
  {
   "cell_type": "code",
   "execution_count": 11,
   "id": "4595619f-bcc2-477c-8cc4-11bcf8ad19ff",
   "metadata": {},
   "outputs": [
    {
     "name": "stdout",
     "output_type": "stream",
     "text": [
      "item size:  4\n",
      "dimensionality:  2\n"
     ]
    }
   ],
   "source": [
    "print('item size: ', arr.itemsize)\n",
    "print('dimensionality: ', arr.ndim)\n"
   ]
  },
  {
   "cell_type": "code",
   "execution_count": 13,
   "id": "cc0c6b8d-17ec-4b7e-8bd1-c1ceec1d7b72",
   "metadata": {},
   "outputs": [],
   "source": [
    "arr = np.arange(2,16)"
   ]
  },
  {
   "cell_type": "code",
   "execution_count": 17,
   "id": "99a82992-5696-4d64-ae4e-7dd575c384cb",
   "metadata": {},
   "outputs": [
    {
     "name": "stdout",
     "output_type": "stream",
     "text": [
      "Array:  [ 2  3  4  5  6  7  8  9 10 11 12 13 14 15]\n",
      "Shape:  (14,)\n"
     ]
    }
   ],
   "source": [
    "print('Array: ', arr)\n",
    "print('Shape: ', arr.shape)"
   ]
  },
  {
   "cell_type": "code",
   "execution_count": 21,
   "id": "5642e090-d423-47df-a46f-392cb2cd16d1",
   "metadata": {},
   "outputs": [
    {
     "name": "stdout",
     "output_type": "stream",
     "text": [
      "[ 1  4  7 10]\n"
     ]
    }
   ],
   "source": [
    "arr = np.arange(1,13, 3)\n",
    "print(arr)"
   ]
  },
  {
   "cell_type": "code",
   "execution_count": 23,
   "id": "7f5b1e79-4099-4c17-a719-49b72be6d994",
   "metadata": {},
   "outputs": [
    {
     "name": "stdout",
     "output_type": "stream",
     "text": [
      "Help on built-in function arange in module numpy:\n",
      "\n",
      "arange(...)\n",
      "    arange([start,] stop[, step,], dtype=None, *, like=None)\n",
      "\n",
      "    Return evenly spaced values within a given interval.\n",
      "\n",
      "    ``arange`` can be called with a varying number of positional arguments:\n",
      "\n",
      "    * ``arange(stop)``: Values are generated within the half-open interval\n",
      "      ``[0, stop)`` (in other words, the interval including `start` but\n",
      "      excluding `stop`).\n",
      "    * ``arange(start, stop)``: Values are generated within the half-open\n",
      "      interval ``[start, stop)``.\n",
      "    * ``arange(start, stop, step)`` Values are generated within the half-open\n",
      "      interval ``[start, stop)``, with spacing between values given by\n",
      "      ``step``.\n",
      "\n",
      "    For integer arguments the function is roughly equivalent to the Python\n",
      "    built-in :py:class:`range`, but returns an ndarray rather than a ``range``\n",
      "    instance.\n",
      "\n",
      "    When using a non-integer step, such as 0.1, it is often better to use\n",
      "    `numpy.linspace`.\n",
      "\n",
      "    See the Warning sections below for more information.\n",
      "\n",
      "    Parameters\n",
      "    ----------\n",
      "    start : integer or real, optional\n",
      "        Start of interval.  The interval includes this value.  The default\n",
      "        start value is 0.\n",
      "    stop : integer or real\n",
      "        End of interval.  The interval does not include this value, except\n",
      "        in some cases where `step` is not an integer and floating point\n",
      "        round-off affects the length of `out`.\n",
      "    step : integer or real, optional\n",
      "        Spacing between values.  For any output `out`, this is the distance\n",
      "        between two adjacent values, ``out[i+1] - out[i]``.  The default\n",
      "        step size is 1.  If `step` is specified as a position argument,\n",
      "        `start` must also be given.\n",
      "    dtype : dtype, optional\n",
      "        The type of the output array.  If `dtype` is not given, infer the data\n",
      "        type from the other input arguments.\n",
      "    like : array_like, optional\n",
      "        Reference object to allow the creation of arrays which are not\n",
      "        NumPy arrays. If an array-like passed in as ``like`` supports\n",
      "        the ``__array_function__`` protocol, the result will be defined\n",
      "        by it. In this case, it ensures the creation of an array object\n",
      "        compatible with that passed in via this argument.\n",
      "\n",
      "        .. versionadded:: 1.20.0\n",
      "\n",
      "    Returns\n",
      "    -------\n",
      "    arange : ndarray\n",
      "        Array of evenly spaced values.\n",
      "\n",
      "        For floating point arguments, the length of the result is\n",
      "        ``ceil((stop - start)/step)``.  Because of floating point overflow,\n",
      "        this rule may result in the last element of `out` being greater\n",
      "        than `stop`.\n",
      "\n",
      "    Warnings\n",
      "    --------\n",
      "    The length of the output might not be numerically stable.\n",
      "\n",
      "    Another stability issue is due to the internal implementation of\n",
      "    `numpy.arange`.\n",
      "    The actual step value used to populate the array is\n",
      "    ``dtype(start + step) - dtype(start)`` and not `step`. Precision loss\n",
      "    can occur here, due to casting or due to using floating points when\n",
      "    `start` is much larger than `step`. This can lead to unexpected\n",
      "    behaviour. For example::\n",
      "\n",
      "      >>> np.arange(0, 5, 0.5, dtype=int)\n",
      "      array([0, 0, 0, 0, 0, 0, 0, 0, 0, 0])\n",
      "      >>> np.arange(-3, 3, 0.5, dtype=int)\n",
      "      array([-3, -2, -1,  0,  1,  2,  3,  4,  5,  6,  7,  8])\n",
      "\n",
      "    In such cases, the use of `numpy.linspace` should be preferred.\n",
      "\n",
      "    The built-in :py:class:`range` generates :std:doc:`Python built-in integers\n",
      "    that have arbitrary size <python:c-api/long>`, while `numpy.arange`\n",
      "    produces `numpy.int32` or `numpy.int64` numbers. This may result in\n",
      "    incorrect results for large integer values::\n",
      "\n",
      "      >>> power = 40\n",
      "      >>> modulo = 10000\n",
      "      >>> x1 = [(n ** power) % modulo for n in range(8)]\n",
      "      >>> x2 = [(n ** power) % modulo for n in np.arange(8)]\n",
      "      >>> print(x1)\n",
      "      [0, 1, 7776, 8801, 6176, 625, 6576, 4001]  # correct\n",
      "      >>> print(x2)\n",
      "      [0, 1, 7776, 7185, 0, 5969, 4816, 3361]  # incorrect\n",
      "\n",
      "    See Also\n",
      "    --------\n",
      "    numpy.linspace : Evenly spaced numbers with careful handling of endpoints.\n",
      "    numpy.ogrid: Arrays of evenly spaced numbers in N-dimensions.\n",
      "    numpy.mgrid: Grid-shaped arrays of evenly spaced numbers in N-dimensions.\n",
      "    :ref:`how-to-partition`\n",
      "\n",
      "    Examples\n",
      "    --------\n",
      "    >>> np.arange(3)\n",
      "    array([0, 1, 2])\n",
      "    >>> np.arange(3.0)\n",
      "    array([ 0.,  1.,  2.])\n",
      "    >>> np.arange(3,7)\n",
      "    array([3, 4, 5, 6])\n",
      "    >>> np.arange(3,7,2)\n",
      "    array([3, 5])\n",
      "\n"
     ]
    }
   ],
   "source": [
    "help(np.arange)"
   ]
  },
  {
   "cell_type": "code",
   "execution_count": 27,
   "id": "cdb5f366-e2c8-4019-b239-c433900e509b",
   "metadata": {},
   "outputs": [],
   "source": [
    "arr = np.ones((5,3))\n"
   ]
  },
  {
   "cell_type": "code",
   "execution_count": 29,
   "id": "7079b784-f631-42ae-a12c-5446aff46848",
   "metadata": {},
   "outputs": [
    {
     "name": "stdout",
     "output_type": "stream",
     "text": [
      "[[1. 1. 1.]\n",
      " [1. 1. 1.]\n",
      " [1. 1. 1.]\n",
      " [1. 1. 1.]\n",
      " [1. 1. 1.]]\n"
     ]
    }
   ],
   "source": [
    "print(arr)"
   ]
  },
  {
   "cell_type": "code",
   "execution_count": 31,
   "id": "3fa3dc25-5af0-4c52-9c57-846d5569aa1b",
   "metadata": {},
   "outputs": [
    {
     "name": "stdout",
     "output_type": "stream",
     "text": [
      "(5, 3)\n"
     ]
    }
   ],
   "source": [
    "print(arr.shape)"
   ]
  },
  {
   "cell_type": "code",
   "execution_count": 33,
   "id": "1ef453be-502e-42a5-802c-b4164908fca9",
   "metadata": {},
   "outputs": [
    {
     "name": "stdout",
     "output_type": "stream",
     "text": [
      "float64\n"
     ]
    }
   ],
   "source": [
    "print(arr.dtype)"
   ]
  },
  {
   "cell_type": "code",
   "execution_count": 35,
   "id": "579d8762-4e99-41aa-a85e-fe7744e900bb",
   "metadata": {},
   "outputs": [],
   "source": [
    "arr = np.random.rand(5)"
   ]
  },
  {
   "cell_type": "code",
   "execution_count": 41,
   "id": "fe2195ff-947a-4cc0-abd7-fc79743dc3a6",
   "metadata": {},
   "outputs": [
    {
     "name": "stdout",
     "output_type": "stream",
     "text": [
      "[0.37673298 0.92183286 0.43949851 0.62231886 0.70367961]\n"
     ]
    }
   ],
   "source": [
    "print(arr)"
   ]
  },
  {
   "cell_type": "code",
   "execution_count": 43,
   "id": "3980ee85-4f1c-4e63-b6ca-acba954b4e99",
   "metadata": {},
   "outputs": [
    {
     "name": "stdout",
     "output_type": "stream",
     "text": [
      "[-1.26856676  1.21007958 -0.05138834  1.20954857  0.62858003  0.45257638]\n"
     ]
    }
   ],
   "source": [
    "arr = np.random.randn(6)\n",
    "print(arr)"
   ]
  },
  {
   "cell_type": "code",
   "execution_count": 45,
   "id": "1dc2e5a7-fdd5-4364-af85-5b0ee6e1ae62",
   "metadata": {},
   "outputs": [
    {
     "name": "stdout",
     "output_type": "stream",
     "text": [
      "3\n"
     ]
    }
   ],
   "source": [
    "arr = np.random.randint(10)\n",
    "print(arr)"
   ]
  },
  {
   "cell_type": "code",
   "execution_count": 47,
   "id": "3122aa14-e1b5-4154-b651-b6ea3a297a07",
   "metadata": {},
   "outputs": [
    {
     "name": "stdout",
     "output_type": "stream",
     "text": [
      "3\n"
     ]
    }
   ],
   "source": [
    "print(arr)"
   ]
  },
  {
   "cell_type": "code",
   "execution_count": 49,
   "id": "d85515b7-1eca-48e5-9bac-2075125b97eb",
   "metadata": {},
   "outputs": [
    {
     "name": "stdout",
     "output_type": "stream",
     "text": [
      "3\n"
     ]
    }
   ],
   "source": [
    "print(arr)"
   ]
  },
  {
   "cell_type": "code",
   "execution_count": 63,
   "id": "35756729-cd24-40c8-b515-c5cdf76a5d2a",
   "metadata": {},
   "outputs": [
    {
     "name": "stdout",
     "output_type": "stream",
     "text": [
      "Array:  [[0 1 4 2 2]\n",
      " [3 6 8 1 7]\n",
      " [6 2 5 8 6]\n",
      " [1 8 2 7 0]\n",
      " [4 8 0 8 4]]\n"
     ]
    }
   ],
   "source": [
    "arr = np.random.randint(10, size = (5,5))\n",
    "print(\"Array: \", arr)"
   ]
  },
  {
   "cell_type": "code",
   "execution_count": 69,
   "id": "0121ce01-1575-48ab-8e4d-bf3c59ab17dc",
   "metadata": {},
   "outputs": [
    {
     "name": "stdout",
     "output_type": "stream",
     "text": [
      "Array: \n",
      " [[1 2 5 3]\n",
      " [2 6 5 5]\n",
      " [3 6 3 3]\n",
      " [7 4 4 1]\n",
      " [7 0 1 6]]\n"
     ]
    }
   ],
   "source": [
    "arr = np.random.randint(10, size = (5,4))\n",
    "\n",
    "print('Array: \\n', arr)"
   ]
  },
  {
   "cell_type": "code",
   "execution_count": 71,
   "id": "4a1ca2e1-29da-45c1-b435-1e905ba5a5f5",
   "metadata": {},
   "outputs": [
    {
     "name": "stdout",
     "output_type": "stream",
     "text": [
      "6\n"
     ]
    }
   ],
   "source": [
    "arr = np.random.randint(10)\n",
    "print(arr)"
   ]
  },
  {
   "cell_type": "code",
   "execution_count": 73,
   "id": "9194f0d1-1d70-406c-997f-946b45d84556",
   "metadata": {},
   "outputs": [
    {
     "name": "stdout",
     "output_type": "stream",
     "text": [
      "5\n"
     ]
    }
   ],
   "source": [
    "arr = np.random.randint(100)\n",
    "print(arr)"
   ]
  },
  {
   "cell_type": "code",
   "execution_count": 75,
   "id": "adc170e2-4051-4eae-b34b-4e1876f5811e",
   "metadata": {},
   "outputs": [
    {
     "name": "stdout",
     "output_type": "stream",
     "text": [
      "5\n"
     ]
    }
   ],
   "source": [
    "print(arr)"
   ]
  },
  {
   "cell_type": "code",
   "execution_count": 79,
   "id": "6c52ed1f-ca29-4335-9ddf-db36e4c24c02",
   "metadata": {},
   "outputs": [
    {
     "name": "stdout",
     "output_type": "stream",
     "text": [
      "47\n"
     ]
    }
   ],
   "source": [
    "arr = np.random.randint(100)\n",
    "print(arr)"
   ]
  },
  {
   "cell_type": "code",
   "execution_count": 81,
   "id": "39f99231-9bf7-4436-95f9-08b6bb5faef3",
   "metadata": {},
   "outputs": [
    {
     "name": "stdout",
     "output_type": "stream",
     "text": [
      "[[49 13 86  2  9 57]\n",
      " [79 49 99 68 18 28]\n",
      " [33 61 82 72 85 71]\n",
      " [70 89 43 98 66 79]\n",
      " [ 2 58 95 82 15 81]]\n"
     ]
    }
   ],
   "source": [
    "arr = np.random.randint(100, size = (5,6))\n",
    "print(arr)"
   ]
  },
  {
   "cell_type": "code",
   "execution_count": 83,
   "id": "d31dbab0-5365-4275-b7ba-f2b61ddcc830",
   "metadata": {},
   "outputs": [
    {
     "name": "stdout",
     "output_type": "stream",
     "text": [
      "Array:  [[49 13 86  2  9 57]\n",
      " [79 49 99 68 18 28]\n",
      " [33 61 82 72 85 71]\n",
      " [70 89 43 98 66 79]\n",
      " [ 2 58 95 82 15 81]]\n"
     ]
    }
   ],
   "source": [
    "print('Array: ', arr)"
   ]
  },
  {
   "cell_type": "code",
   "execution_count": 85,
   "id": "9fce1d6f-6945-45b9-8d6f-5af42cddd14a",
   "metadata": {},
   "outputs": [
    {
     "name": "stdout",
     "output_type": "stream",
     "text": [
      "Array: \n",
      " [[49 13 86  2  9 57]\n",
      " [79 49 99 68 18 28]\n",
      " [33 61 82 72 85 71]\n",
      " [70 89 43 98 66 79]\n",
      " [ 2 58 95 82 15 81]]\n"
     ]
    }
   ],
   "source": [
    "print('Array: \\n', arr)"
   ]
  },
  {
   "cell_type": "code",
   "execution_count": 87,
   "id": "ad3a37d7-01fb-4ad2-9e6b-ecc37a51594f",
   "metadata": {},
   "outputs": [
    {
     "name": "stdout",
     "output_type": "stream",
     "text": [
      "[49 13 86  2  9 57]\n",
      "[70 89 43 98 66 79]\n"
     ]
    }
   ],
   "source": [
    "print(arr[0])\n",
    "print(arr[3])"
   ]
  },
  {
   "cell_type": "code",
   "execution_count": 93,
   "id": "b731f937-db75-4237-a456-640d883ded66",
   "metadata": {},
   "outputs": [
    {
     "name": "stdout",
     "output_type": "stream",
     "text": [
      "2\n",
      "85\n"
     ]
    }
   ],
   "source": [
    "print(arr[0,3])\n",
    "print(arr[2,4])"
   ]
  },
  {
   "cell_type": "code",
   "execution_count": 97,
   "id": "6a3b0a9f-a747-4315-8425-35fbaa6a3b36",
   "metadata": {},
   "outputs": [
    {
     "name": "stdout",
     "output_type": "stream",
     "text": [
      "43\n"
     ]
    }
   ],
   "source": [
    "    print(arr[3][2])"
   ]
  },
  {
   "cell_type": "code",
   "execution_count": 101,
   "id": "0270c881-8425-4dfe-882a-a9fdd2f25dc3",
   "metadata": {},
   "outputs": [
    {
     "name": "stdout",
     "output_type": "stream",
     "text": [
      "43\n"
     ]
    }
   ],
   "source": [
    "print(arr[3,2])"
   ]
  },
  {
   "cell_type": "code",
   "execution_count": 109,
   "id": "a5135612-aa76-46c2-ad56-ec1fb873a71d",
   "metadata": {},
   "outputs": [
    {
     "name": "stdout",
     "output_type": "stream",
     "text": [
      "[[62 19  1  3 61]\n",
      " [82 48 18 56 66]\n",
      " [47 48 86 36 30]\n",
      " [29 85 24 22  1]\n",
      " [44 19 54 92  3]]\n"
     ]
    }
   ],
   "source": [
    "arr = np.random.randint(100, size = (5,5))\n",
    "print(arr)"
   ]
  },
  {
   "cell_type": "code",
   "execution_count": 111,
   "id": "abfe6fe4-083b-4aea-a6f8-670f26aa2b6d",
   "metadata": {},
   "outputs": [
    {
     "name": "stdout",
     "output_type": "stream",
     "text": [
      "Array: \n",
      " [[62 19  1  3 61]\n",
      " [82 48 18 56 66]\n",
      " [47 48 86 36 30]\n",
      " [29 85 24 22  1]\n",
      " [44 19 54 92  3]]\n"
     ]
    }
   ],
   "source": [
    "print('Array: \\n', arr)"
   ]
  },
  {
   "cell_type": "code",
   "execution_count": 115,
   "id": "88b876d1-8587-4f98-986c-b8bd146d94b1",
   "metadata": {},
   "outputs": [
    {
     "name": "stdout",
     "output_type": "stream",
     "text": [
      "[[ 62 100 100   3  61]\n",
      " [ 82  48  18  56  66]\n",
      " [ 47  48  86  36  30]\n",
      " [ 29  85  24  22  50]\n",
      " [ 44  19  54  92   3]]\n"
     ]
    }
   ],
   "source": [
    "arr[0,2] =100\n",
    "arr[3, 4] = 50\n",
    "print(arr)"
   ]
  },
  {
   "cell_type": "code",
   "execution_count": 119,
   "id": "3b0c751a-b5fd-4716-8c70-ac3a04706b9f",
   "metadata": {},
   "outputs": [],
   "source": [
    "arr = np.random.randint(10, 40, size = (4,5))"
   ]
  },
  {
   "cell_type": "code",
   "execution_count": 121,
   "id": "c2a078a2-c046-4844-8322-afcfba262a30",
   "metadata": {},
   "outputs": [
    {
     "name": "stdout",
     "output_type": "stream",
     "text": [
      "[[25 23 38 17 14]\n",
      " [36 16 20 17 12]\n",
      " [23 16 38 34 24]\n",
      " [11 12 22 19 31]]\n"
     ]
    }
   ],
   "source": [
    "print(arr)"
   ]
  },
  {
   "cell_type": "code",
   "execution_count": 123,
   "id": "12958188-0adc-4305-9abc-f50eb2a1fd96",
   "metadata": {},
   "outputs": [
    {
     "name": "stdout",
     "output_type": "stream",
     "text": [
      "[[25 23 38 17 14]\n",
      " [23 16 38 34 24]]\n"
     ]
    }
   ],
   "source": [
    "# print(arr[::2])"
   ]
  },
  {
   "cell_type": "code",
   "execution_count": 125,
   "id": "7de4c727-fc7c-4fcd-ac09-87a066fe22c4",
   "metadata": {},
   "outputs": [
    {
     "name": "stdout",
     "output_type": "stream",
     "text": [
      "[25 23 38 17 14 36 16 20 17 12 23 16 38 34 24 11 12 22 19 31]\n"
     ]
    }
   ],
   "source": [
    "# arr = arr.flatten()\n",
    "# print(arr)"
   ]
  },
  {
   "cell_type": "code",
   "execution_count": 129,
   "id": "e3415cb2-5285-4b4b-b497-42a5e1f7bc8e",
   "metadata": {},
   "outputs": [
    {
     "name": "stdout",
     "output_type": "stream",
     "text": [
      "[25 23 38 17 14 36 16 20 17 12 23 16 38 34 24 11 12 22 19 31]\n"
     ]
    }
   ],
   "source": [
    "# arr = arr.ravel()\n",
    "# print(arr)"
   ]
  },
  {
   "cell_type": "code",
   "execution_count": 131,
   "id": "c3404d98-01fe-4452-858f-fd2326323ff6",
   "metadata": {},
   "outputs": [
    {
     "name": "stdout",
     "output_type": "stream",
     "text": [
      "[25 23 38 17 14 36 16 20 17 12 23 16 38 34 24 11 12 22 19 31]\n"
     ]
    }
   ],
   "source": [
    "print(arr)"
   ]
  },
  {
   "cell_type": "code",
   "execution_count": 133,
   "id": "1545aad2-0a3c-4095-955a-d876a218ab41",
   "metadata": {},
   "outputs": [],
   "source": [
    "arr = np.random.randint(10, 40, size = (4,5))"
   ]
  },
  {
   "cell_type": "code",
   "execution_count": 135,
   "id": "c968286a-135f-441c-b54d-31cee987fb5e",
   "metadata": {},
   "outputs": [
    {
     "name": "stdout",
     "output_type": "stream",
     "text": [
      "[[34 18 14 29 11]\n",
      " [23 23 18 24 34]\n",
      " [19 16 32 13 38]\n",
      " [12 19 29 25 20]]\n"
     ]
    }
   ],
   "source": [
    "print(arr)"
   ]
  },
  {
   "cell_type": "code",
   "execution_count": 143,
   "id": "d312af3d-1b04-4cf4-8d5a-4363a81e9d68",
   "metadata": {},
   "outputs": [
    {
     "name": "stdout",
     "output_type": "stream",
     "text": [
      "Array: \n",
      " [[34 18 14 29 11]\n",
      " [23 23 18 24 34]\n",
      " [19 16 32 13 38]\n",
      " [12 19 29 25 20]]\n"
     ]
    }
   ],
   "source": [
    "print('Array: \\n', arr)"
   ]
  },
  {
   "cell_type": "code",
   "execution_count": 8,
   "id": "dd10077a-c34f-4a00-9efe-c7e2628107a7",
   "metadata": {},
   "outputs": [
    {
     "ename": "NameError",
     "evalue": "name 'np' is not defined",
     "output_type": "error",
     "traceback": [
      "\u001b[1;31m---------------------------------------------------------------------------\u001b[0m",
      "\u001b[1;31mNameError\u001b[0m                                 Traceback (most recent call last)",
      "Cell \u001b[1;32mIn[8], line 1\u001b[0m\n\u001b[1;32m----> 1\u001b[0m arr \u001b[38;5;241m=\u001b[39m np\u001b[38;5;241m.\u001b[39mrandom\u001b[38;5;241m.\u001b[39mrandint(\u001b[38;5;241m20\u001b[39m, \u001b[38;5;241m60\u001b[39m, size \u001b[38;5;241m=\u001b[39m (\u001b[38;5;241m5\u001b[39m,\u001b[38;5;241m8\u001b[39m))\n\u001b[0;32m      2\u001b[0m \u001b[38;5;28mprint\u001b[39m(\u001b[38;5;124m'\u001b[39m\u001b[38;5;124mArray: \u001b[39m\u001b[38;5;130;01m\\n\u001b[39;00m\u001b[38;5;124m'\u001b[39m, arr)\n",
      "\u001b[1;31mNameError\u001b[0m: name 'np' is not defined"
     ]
    }
   ],
   "source": [
    "arr = np.random.randint(20, 60, size = (5,8))\n",
    "print('Array: \\n', arr)"
   ]
  },
  {
   "cell_type": "code",
   "execution_count": 7,
   "id": "cd36f617-1add-4791-a415-d89be9ee3ece",
   "metadata": {},
   "outputs": [
    {
     "name": "stdout",
     "output_type": "stream",
     "text": [
      "Requirement already satisfied: numpy in c:\\users\\pope\\anaconda3\\lib\\site-packages (1.26.4)\n"
     ]
    }
   ],
   "source": [
    "!pip install numpy"
   ]
  },
  {
   "cell_type": "code",
   "execution_count": 10,
   "id": "06725b1b-16a4-4afe-93db-a940f3775f2f",
   "metadata": {},
   "outputs": [
    {
     "ename": "NameError",
     "evalue": "name 'np' is not defined",
     "output_type": "error",
     "traceback": [
      "\u001b[1;31m---------------------------------------------------------------------------\u001b[0m",
      "\u001b[1;31mNameError\u001b[0m                                 Traceback (most recent call last)",
      "Cell \u001b[1;32mIn[10], line 1\u001b[0m\n\u001b[1;32m----> 1\u001b[0m arr \u001b[38;5;241m=\u001b[39m np\u001b[38;5;241m.\u001b[39mrandom\u001b[38;5;241m.\u001b[39mrandint(\u001b[38;5;241m30\u001b[39m)\n",
      "\u001b[1;31mNameError\u001b[0m: name 'np' is not defined"
     ]
    }
   ],
   "source": [
    "arr = np.random.randint(30)"
   ]
  },
  {
   "cell_type": "code",
   "execution_count": 12,
   "id": "d2b76b9e-ab5c-43bf-b751-6a4af03b7132",
   "metadata": {},
   "outputs": [],
   "source": [
    "import numpy as np"
   ]
  },
  {
   "cell_type": "code",
   "execution_count": 14,
   "id": "7a280ceb-32f8-40ed-a0a5-2e60df647ac2",
   "metadata": {},
   "outputs": [],
   "source": [
    "arr = np.random.randint(30)"
   ]
  },
  {
   "cell_type": "code",
   "execution_count": 16,
   "id": "e14a15ea-cf61-4e2f-afdb-6038bd6cea9e",
   "metadata": {},
   "outputs": [
    {
     "name": "stdout",
     "output_type": "stream",
     "text": [
      "21\n"
     ]
    }
   ],
   "source": [
    "print(arr)"
   ]
  },
  {
   "cell_type": "code",
   "execution_count": 20,
   "id": "7f9e504d-742e-46fa-85d3-2dce7d88f2d7",
   "metadata": {},
   "outputs": [
    {
     "name": "stdout",
     "output_type": "stream",
     "text": [
      "[65 69 58 38 90 40 73 81 75 41]\n"
     ]
    }
   ],
   "source": [
    "arr = np.random.randint(30, 100, size = (10,))\n",
    "print(arr)"
   ]
  },
  {
   "cell_type": "code",
   "execution_count": 22,
   "id": "67c769c8-fd1b-4405-825f-e9405ce55955",
   "metadata": {},
   "outputs": [],
   "source": [
    "arr1 = np.random.randint(10,49, size = (10,))"
   ]
  },
  {
   "cell_type": "code",
   "execution_count": 24,
   "id": "7201fec8-d221-490a-a99b-752e79da2073",
   "metadata": {},
   "outputs": [
    {
     "name": "stdout",
     "output_type": "stream",
     "text": [
      "[15 20 42 25 18 14 27 25 35 31]\n"
     ]
    }
   ],
   "source": [
    "print(arr1)"
   ]
  },
  {
   "cell_type": "code",
   "execution_count": 28,
   "id": "e0184938-0afb-436d-bcb8-53fe7bad34a5",
   "metadata": {},
   "outputs": [
    {
     "name": "stdout",
     "output_type": "stream",
     "text": [
      "15\n",
      "20\n",
      "42\n",
      "25\n",
      "18\n",
      "14\n",
      "27\n",
      "25\n",
      "35\n",
      "31\n"
     ]
    }
   ],
   "source": [
    "for i in arr1:\n",
    "    print(i, sep = ',')"
   ]
  },
  {
   "cell_type": "code",
   "execution_count": 30,
   "id": "8de9dbb0-34eb-475a-bd1e-0c927838beea",
   "metadata": {},
   "outputs": [
    {
     "name": "stdout",
     "output_type": "stream",
     "text": [
      "[[53 87 25 11 63 34 85 20]\n",
      " [22 73 78 79 20 69 67 70]\n",
      " [82 22 55 87 20 15 15 67]\n",
      " [14 85 96 91 73 38 81 54]\n",
      " [41 69 68 80 98 32 45 17]\n",
      " [33 81 96 75 25 41 26 28]]\n"
     ]
    }
   ],
   "source": [
    "arr1 = np.random.randint(10, 100, size = (6, 8))\n",
    "print(arr1)"
   ]
  },
  {
   "cell_type": "code",
   "execution_count": 32,
   "id": "71add66f-1032-427e-8c8a-adc863c313e1",
   "metadata": {},
   "outputs": [
    {
     "name": "stdout",
     "output_type": "stream",
     "text": [
      "Array: \n",
      " [[53 87 25 11 63 34 85 20]\n",
      " [22 73 78 79 20 69 67 70]\n",
      " [82 22 55 87 20 15 15 67]\n",
      " [14 85 96 91 73 38 81 54]\n",
      " [41 69 68 80 98 32 45 17]\n",
      " [33 81 96 75 25 41 26 28]]\n",
      "Shape: (6, 8)\n"
     ]
    }
   ],
   "source": [
    "print('Array: \\n', arr1)\n",
    "print('Shape:', arr1.shape)"
   ]
  },
  {
   "cell_type": "code",
   "execution_count": 34,
   "id": "d04ed225-60f5-4396-8572-91dfa7475b1a",
   "metadata": {},
   "outputs": [
    {
     "name": "stdout",
     "output_type": "stream",
     "text": [
      "[53 87 25 11 63 34 85 20]\n",
      "[22 73 78 79 20 69 67 70]\n",
      "[82 22 55 87 20 15 15 67]\n",
      "[14 85 96 91 73 38 81 54]\n",
      "[41 69 68 80 98 32 45 17]\n",
      "[33 81 96 75 25 41 26 28]\n"
     ]
    }
   ],
   "source": [
    "for Ary in arr1:\n",
    "    print(Ary)"
   ]
  },
  {
   "cell_type": "code",
   "execution_count": 36,
   "id": "382d3249-e597-47ab-ad13-899ab6bd8add",
   "metadata": {},
   "outputs": [
    {
     "name": "stdout",
     "output_type": "stream",
     "text": [
      "53 87 25 11 63 34 85 20 22 73 78 79 20 69 67 70 82 22 55 87 20 15 15 67 14 85 96 91 73 38 81 54 41 69 68 80 98 32 45 17 33 81 96 75 25 41 26 28 "
     ]
    }
   ],
   "source": [
    "\n",
    "for item in arr1.ravel():\n",
    "    print(item, end = ' ')"
   ]
  },
  {
   "cell_type": "code",
   "execution_count": 38,
   "id": "435f186f-950d-4ded-ab61-5b8d6520ba44",
   "metadata": {},
   "outputs": [
    {
     "name": "stdout",
     "output_type": "stream",
     "text": [
      "[[53 87 25 11 63 34 85 20]\n",
      " [22 73 78 79 20 69 67 70]\n",
      " [82 22 55 87 20 15 15 67]\n",
      " [14 85 96 91 73 38 81 54]\n",
      " [41 69 68 80 98 32 45 17]\n",
      " [33 81 96 75 25 41 26 28]]\n"
     ]
    }
   ],
   "source": [
    "print(arr1)"
   ]
  },
  {
   "cell_type": "code",
   "execution_count": 42,
   "id": "76fa6590-414d-4476-9de4-1c1fc46aa585",
   "metadata": {},
   "outputs": [
    {
     "name": "stdout",
     "output_type": "stream",
     "text": [
      "Help on class nditer in module numpy:\n",
      "\n",
      "class nditer(builtins.object)\n",
      " |  nditer(op, flags=None, op_flags=None, op_dtypes=None, order='K', casting='safe', op_axes=None, itershape=None, buffersize=0)\n",
      " |\n",
      " |  Efficient multi-dimensional iterator object to iterate over arrays.\n",
      " |  To get started using this object, see the\n",
      " |  :ref:`introductory guide to array iteration <arrays.nditer>`.\n",
      " |\n",
      " |  Parameters\n",
      " |  ----------\n",
      " |  op : ndarray or sequence of array_like\n",
      " |      The array(s) to iterate over.\n",
      " |\n",
      " |  flags : sequence of str, optional\n",
      " |        Flags to control the behavior of the iterator.\n",
      " |\n",
      " |        * ``buffered`` enables buffering when required.\n",
      " |        * ``c_index`` causes a C-order index to be tracked.\n",
      " |        * ``f_index`` causes a Fortran-order index to be tracked.\n",
      " |        * ``multi_index`` causes a multi-index, or a tuple of indices\n",
      " |          with one per iteration dimension, to be tracked.\n",
      " |        * ``common_dtype`` causes all the operands to be converted to\n",
      " |          a common data type, with copying or buffering as necessary.\n",
      " |        * ``copy_if_overlap`` causes the iterator to determine if read\n",
      " |          operands have overlap with write operands, and make temporary\n",
      " |          copies as necessary to avoid overlap. False positives (needless\n",
      " |          copying) are possible in some cases.\n",
      " |        * ``delay_bufalloc`` delays allocation of the buffers until\n",
      " |          a reset() call is made. Allows ``allocate`` operands to\n",
      " |          be initialized before their values are copied into the buffers.\n",
      " |        * ``external_loop`` causes the ``values`` given to be\n",
      " |          one-dimensional arrays with multiple values instead of\n",
      " |          zero-dimensional arrays.\n",
      " |        * ``grow_inner`` allows the ``value`` array sizes to be made\n",
      " |          larger than the buffer size when both ``buffered`` and\n",
      " |          ``external_loop`` is used.\n",
      " |        * ``ranged`` allows the iterator to be restricted to a sub-range\n",
      " |          of the iterindex values.\n",
      " |        * ``refs_ok`` enables iteration of reference types, such as\n",
      " |          object arrays.\n",
      " |        * ``reduce_ok`` enables iteration of ``readwrite`` operands\n",
      " |          which are broadcasted, also known as reduction operands.\n",
      " |        * ``zerosize_ok`` allows `itersize` to be zero.\n",
      " |  op_flags : list of list of str, optional\n",
      " |        This is a list of flags for each operand. At minimum, one of\n",
      " |        ``readonly``, ``readwrite``, or ``writeonly`` must be specified.\n",
      " |\n",
      " |        * ``readonly`` indicates the operand will only be read from.\n",
      " |        * ``readwrite`` indicates the operand will be read from and written to.\n",
      " |        * ``writeonly`` indicates the operand will only be written to.\n",
      " |        * ``no_broadcast`` prevents the operand from being broadcasted.\n",
      " |        * ``contig`` forces the operand data to be contiguous.\n",
      " |        * ``aligned`` forces the operand data to be aligned.\n",
      " |        * ``nbo`` forces the operand data to be in native byte order.\n",
      " |        * ``copy`` allows a temporary read-only copy if required.\n",
      " |        * ``updateifcopy`` allows a temporary read-write copy if required.\n",
      " |        * ``allocate`` causes the array to be allocated if it is None\n",
      " |          in the ``op`` parameter.\n",
      " |        * ``no_subtype`` prevents an ``allocate`` operand from using a subtype.\n",
      " |        * ``arraymask`` indicates that this operand is the mask to use\n",
      " |          for selecting elements when writing to operands with the\n",
      " |          'writemasked' flag set. The iterator does not enforce this,\n",
      " |          but when writing from a buffer back to the array, it only\n",
      " |          copies those elements indicated by this mask.\n",
      " |        * ``writemasked`` indicates that only elements where the chosen\n",
      " |          ``arraymask`` operand is True will be written to.\n",
      " |        * ``overlap_assume_elementwise`` can be used to mark operands that are\n",
      " |          accessed only in the iterator order, to allow less conservative\n",
      " |          copying when ``copy_if_overlap`` is present.\n",
      " |  op_dtypes : dtype or tuple of dtype(s), optional\n",
      " |      The required data type(s) of the operands. If copying or buffering\n",
      " |      is enabled, the data will be converted to/from their original types.\n",
      " |  order : {'C', 'F', 'A', 'K'}, optional\n",
      " |      Controls the iteration order. 'C' means C order, 'F' means\n",
      " |      Fortran order, 'A' means 'F' order if all the arrays are Fortran\n",
      " |      contiguous, 'C' order otherwise, and 'K' means as close to the\n",
      " |      order the array elements appear in memory as possible. This also\n",
      " |      affects the element memory order of ``allocate`` operands, as they\n",
      " |      are allocated to be compatible with iteration order.\n",
      " |      Default is 'K'.\n",
      " |  casting : {'no', 'equiv', 'safe', 'same_kind', 'unsafe'}, optional\n",
      " |      Controls what kind of data casting may occur when making a copy\n",
      " |      or buffering.  Setting this to 'unsafe' is not recommended,\n",
      " |      as it can adversely affect accumulations.\n",
      " |\n",
      " |      * 'no' means the data types should not be cast at all.\n",
      " |      * 'equiv' means only byte-order changes are allowed.\n",
      " |      * 'safe' means only casts which can preserve values are allowed.\n",
      " |      * 'same_kind' means only safe casts or casts within a kind,\n",
      " |        like float64 to float32, are allowed.\n",
      " |      * 'unsafe' means any data conversions may be done.\n",
      " |  op_axes : list of list of ints, optional\n",
      " |      If provided, is a list of ints or None for each operands.\n",
      " |      The list of axes for an operand is a mapping from the dimensions\n",
      " |      of the iterator to the dimensions of the operand. A value of\n",
      " |      -1 can be placed for entries, causing that dimension to be\n",
      " |      treated as `newaxis`.\n",
      " |  itershape : tuple of ints, optional\n",
      " |      The desired shape of the iterator. This allows ``allocate`` operands\n",
      " |      with a dimension mapped by op_axes not corresponding to a dimension\n",
      " |      of a different operand to get a value not equal to 1 for that\n",
      " |      dimension.\n",
      " |  buffersize : int, optional\n",
      " |      When buffering is enabled, controls the size of the temporary\n",
      " |      buffers. Set to 0 for the default value.\n",
      " |\n",
      " |  Attributes\n",
      " |  ----------\n",
      " |  dtypes : tuple of dtype(s)\n",
      " |      The data types of the values provided in `value`. This may be\n",
      " |      different from the operand data types if buffering is enabled.\n",
      " |      Valid only before the iterator is closed.\n",
      " |  finished : bool\n",
      " |      Whether the iteration over the operands is finished or not.\n",
      " |  has_delayed_bufalloc : bool\n",
      " |      If True, the iterator was created with the ``delay_bufalloc`` flag,\n",
      " |      and no reset() function was called on it yet.\n",
      " |  has_index : bool\n",
      " |      If True, the iterator was created with either the ``c_index`` or\n",
      " |      the ``f_index`` flag, and the property `index` can be used to\n",
      " |      retrieve it.\n",
      " |  has_multi_index : bool\n",
      " |      If True, the iterator was created with the ``multi_index`` flag,\n",
      " |      and the property `multi_index` can be used to retrieve it.\n",
      " |  index\n",
      " |      When the ``c_index`` or ``f_index`` flag was used, this property\n",
      " |      provides access to the index. Raises a ValueError if accessed\n",
      " |      and ``has_index`` is False.\n",
      " |  iterationneedsapi : bool\n",
      " |      Whether iteration requires access to the Python API, for example\n",
      " |      if one of the operands is an object array.\n",
      " |  iterindex : int\n",
      " |      An index which matches the order of iteration.\n",
      " |  itersize : int\n",
      " |      Size of the iterator.\n",
      " |  itviews\n",
      " |      Structured view(s) of `operands` in memory, matching the reordered\n",
      " |      and optimized iterator access pattern. Valid only before the iterator\n",
      " |      is closed.\n",
      " |  multi_index\n",
      " |      When the ``multi_index`` flag was used, this property\n",
      " |      provides access to the index. Raises a ValueError if accessed\n",
      " |      accessed and ``has_multi_index`` is False.\n",
      " |  ndim : int\n",
      " |      The dimensions of the iterator.\n",
      " |  nop : int\n",
      " |      The number of iterator operands.\n",
      " |  operands : tuple of operand(s)\n",
      " |      The array(s) to be iterated over. Valid only before the iterator is\n",
      " |      closed.\n",
      " |  shape : tuple of ints\n",
      " |      Shape tuple, the shape of the iterator.\n",
      " |  value\n",
      " |      Value of ``operands`` at current iteration. Normally, this is a\n",
      " |      tuple of array scalars, but if the flag ``external_loop`` is used,\n",
      " |      it is a tuple of one dimensional arrays.\n",
      " |\n",
      " |  Notes\n",
      " |  -----\n",
      " |  `nditer` supersedes `flatiter`.  The iterator implementation behind\n",
      " |  `nditer` is also exposed by the NumPy C API.\n",
      " |\n",
      " |  The Python exposure supplies two iteration interfaces, one which follows\n",
      " |  the Python iterator protocol, and another which mirrors the C-style\n",
      " |  do-while pattern.  The native Python approach is better in most cases, but\n",
      " |  if you need the coordinates or index of an iterator, use the C-style pattern.\n",
      " |\n",
      " |  Examples\n",
      " |  --------\n",
      " |  Here is how we might write an ``iter_add`` function, using the\n",
      " |  Python iterator protocol:\n",
      " |\n",
      " |  >>> def iter_add_py(x, y, out=None):\n",
      " |  ...     addop = np.add\n",
      " |  ...     it = np.nditer([x, y, out], [],\n",
      " |  ...                 [['readonly'], ['readonly'], ['writeonly','allocate']])\n",
      " |  ...     with it:\n",
      " |  ...         for (a, b, c) in it:\n",
      " |  ...             addop(a, b, out=c)\n",
      " |  ...         return it.operands[2]\n",
      " |\n",
      " |  Here is the same function, but following the C-style pattern:\n",
      " |\n",
      " |  >>> def iter_add(x, y, out=None):\n",
      " |  ...    addop = np.add\n",
      " |  ...    it = np.nditer([x, y, out], [],\n",
      " |  ...                [['readonly'], ['readonly'], ['writeonly','allocate']])\n",
      " |  ...    with it:\n",
      " |  ...        while not it.finished:\n",
      " |  ...            addop(it[0], it[1], out=it[2])\n",
      " |  ...            it.iternext()\n",
      " |  ...        return it.operands[2]\n",
      " |\n",
      " |  Here is an example outer product function:\n",
      " |\n",
      " |  >>> def outer_it(x, y, out=None):\n",
      " |  ...     mulop = np.multiply\n",
      " |  ...     it = np.nditer([x, y, out], ['external_loop'],\n",
      " |  ...             [['readonly'], ['readonly'], ['writeonly', 'allocate']],\n",
      " |  ...             op_axes=[list(range(x.ndim)) + [-1] * y.ndim,\n",
      " |  ...                      [-1] * x.ndim + list(range(y.ndim)),\n",
      " |  ...                      None])\n",
      " |  ...     with it:\n",
      " |  ...         for (a, b, c) in it:\n",
      " |  ...             mulop(a, b, out=c)\n",
      " |  ...         return it.operands[2]\n",
      " |\n",
      " |  >>> a = np.arange(2)+1\n",
      " |  >>> b = np.arange(3)+1\n",
      " |  >>> outer_it(a,b)\n",
      " |  array([[1, 2, 3],\n",
      " |         [2, 4, 6]])\n",
      " |\n",
      " |  Here is an example function which operates like a \"lambda\" ufunc:\n",
      " |\n",
      " |  >>> def luf(lamdaexpr, *args, **kwargs):\n",
      " |  ...    '''luf(lambdaexpr, op1, ..., opn, out=None, order='K', casting='safe', buffersize=0)'''\n",
      " |  ...    nargs = len(args)\n",
      " |  ...    op = (kwargs.get('out',None),) + args\n",
      " |  ...    it = np.nditer(op, ['buffered','external_loop'],\n",
      " |  ...            [['writeonly','allocate','no_broadcast']] +\n",
      " |  ...                            [['readonly','nbo','aligned']]*nargs,\n",
      " |  ...            order=kwargs.get('order','K'),\n",
      " |  ...            casting=kwargs.get('casting','safe'),\n",
      " |  ...            buffersize=kwargs.get('buffersize',0))\n",
      " |  ...    while not it.finished:\n",
      " |  ...        it[0] = lamdaexpr(*it[1:])\n",
      " |  ...        it.iternext()\n",
      " |  ...    return it.operands[0]\n",
      " |\n",
      " |  >>> a = np.arange(5)\n",
      " |  >>> b = np.ones(5)\n",
      " |  >>> luf(lambda i,j:i*i + j/2, a, b)\n",
      " |  array([  0.5,   1.5,   4.5,   9.5,  16.5])\n",
      " |\n",
      " |  If operand flags ``\"writeonly\"`` or ``\"readwrite\"`` are used the\n",
      " |  operands may be views into the original data with the\n",
      " |  `WRITEBACKIFCOPY` flag. In this case `nditer` must be used as a\n",
      " |  context manager or the `nditer.close` method must be called before\n",
      " |  using the result. The temporary data will be written back to the\n",
      " |  original data when the `__exit__` function is called but not before:\n",
      " |\n",
      " |  >>> a = np.arange(6, dtype='i4')[::-2]\n",
      " |  >>> with np.nditer(a, [],\n",
      " |  ...        [['writeonly', 'updateifcopy']],\n",
      " |  ...        casting='unsafe',\n",
      " |  ...        op_dtypes=[np.dtype('f4')]) as i:\n",
      " |  ...    x = i.operands[0]\n",
      " |  ...    x[:] = [-1, -2, -3]\n",
      " |  ...    # a still unchanged here\n",
      " |  >>> a, x\n",
      " |  (array([-1, -2, -3], dtype=int32), array([-1., -2., -3.], dtype=float32))\n",
      " |\n",
      " |  It is important to note that once the iterator is exited, dangling\n",
      " |  references (like `x` in the example) may or may not share data with\n",
      " |  the original data `a`. If writeback semantics were active, i.e. if\n",
      " |  `x.base.flags.writebackifcopy` is `True`, then exiting the iterator\n",
      " |  will sever the connection between `x` and `a`, writing to `x` will\n",
      " |  no longer write to `a`. If writeback semantics are not active, then\n",
      " |  `x.data` will still point at some part of `a.data`, and writing to\n",
      " |  one will affect the other.\n",
      " |\n",
      " |  Context management and the `close` method appeared in version 1.15.0.\n",
      " |\n",
      " |  Methods defined here:\n",
      " |\n",
      " |  __copy__(...)\n",
      " |\n",
      " |  __delitem__(self, key, /)\n",
      " |      Delete self[key].\n",
      " |\n",
      " |  __enter__(...)\n",
      " |\n",
      " |  __exit__(...)\n",
      " |\n",
      " |  __getitem__(self, key, /)\n",
      " |      Return self[key].\n",
      " |\n",
      " |  __init__(self, /, *args, **kwargs)\n",
      " |      Initialize self.  See help(type(self)) for accurate signature.\n",
      " |\n",
      " |  __iter__(self, /)\n",
      " |      Implement iter(self).\n",
      " |\n",
      " |  __len__(self, /)\n",
      " |      Return len(self).\n",
      " |\n",
      " |  __next__(self, /)\n",
      " |      Implement next(self).\n",
      " |\n",
      " |  __setitem__(self, key, value, /)\n",
      " |      Set self[key] to value.\n",
      " |\n",
      " |  close(...)\n",
      " |      close()\n",
      " |\n",
      " |      Resolve all writeback semantics in writeable operands.\n",
      " |\n",
      " |      .. versionadded:: 1.15.0\n",
      " |\n",
      " |      See Also\n",
      " |      --------\n",
      " |\n",
      " |      :ref:`nditer-context-manager`\n",
      " |\n",
      " |  copy(...)\n",
      " |      copy()\n",
      " |\n",
      " |      Get a copy of the iterator in its current state.\n",
      " |\n",
      " |      Examples\n",
      " |      --------\n",
      " |      >>> x = np.arange(10)\n",
      " |      >>> y = x + 1\n",
      " |      >>> it = np.nditer([x, y])\n",
      " |      >>> next(it)\n",
      " |      (array(0), array(1))\n",
      " |      >>> it2 = it.copy()\n",
      " |      >>> next(it2)\n",
      " |      (array(1), array(2))\n",
      " |\n",
      " |  debug_print(...)\n",
      " |      debug_print()\n",
      " |\n",
      " |      Print the current state of the `nditer` instance and debug info to stdout.\n",
      " |\n",
      " |  enable_external_loop(...)\n",
      " |      enable_external_loop()\n",
      " |\n",
      " |      When the \"external_loop\" was not used during construction, but\n",
      " |      is desired, this modifies the iterator to behave as if the flag\n",
      " |      was specified.\n",
      " |\n",
      " |  iternext(...)\n",
      " |      iternext()\n",
      " |\n",
      " |      Check whether iterations are left, and perform a single internal iteration\n",
      " |      without returning the result.  Used in the C-style pattern do-while\n",
      " |      pattern.  For an example, see `nditer`.\n",
      " |\n",
      " |      Returns\n",
      " |      -------\n",
      " |      iternext : bool\n",
      " |          Whether or not there are iterations left.\n",
      " |\n",
      " |  remove_axis(...)\n",
      " |      remove_axis(i, /)\n",
      " |\n",
      " |      Removes axis `i` from the iterator. Requires that the flag \"multi_index\"\n",
      " |      be enabled.\n",
      " |\n",
      " |  remove_multi_index(...)\n",
      " |      remove_multi_index()\n",
      " |\n",
      " |      When the \"multi_index\" flag was specified, this removes it, allowing\n",
      " |      the internal iteration structure to be optimized further.\n",
      " |\n",
      " |  reset(...)\n",
      " |      reset()\n",
      " |\n",
      " |      Reset the iterator to its initial state.\n",
      " |\n",
      " |  ----------------------------------------------------------------------\n",
      " |  Static methods defined here:\n",
      " |\n",
      " |  __new__(*args, **kwargs)\n",
      " |      Create and return a new object.  See help(type) for accurate signature.\n",
      " |\n",
      " |  ----------------------------------------------------------------------\n",
      " |  Data descriptors defined here:\n",
      " |\n",
      " |  dtypes\n",
      " |\n",
      " |  finished\n",
      " |\n",
      " |  has_delayed_bufalloc\n",
      " |\n",
      " |  has_index\n",
      " |\n",
      " |  has_multi_index\n",
      " |\n",
      " |  index\n",
      " |\n",
      " |  iterationneedsapi\n",
      " |\n",
      " |  iterindex\n",
      " |\n",
      " |  iterrange\n",
      " |\n",
      " |  itersize\n",
      " |\n",
      " |  itviews\n",
      " |\n",
      " |  multi_index\n",
      " |\n",
      " |  ndim\n",
      " |\n",
      " |  nop\n",
      " |\n",
      " |  operands\n",
      " |      operands[`Slice`]\n",
      " |\n",
      " |      The array(s) to be iterated over. Valid only before the iterator is closed.\n",
      " |\n",
      " |  shape\n",
      " |\n",
      " |  value\n",
      "\n"
     ]
    }
   ],
   "source": [
    "help(np.nditer)"
   ]
  },
  {
   "cell_type": "markdown",
   "id": "0d374196-e737-466d-90e3-7836b0e84928",
   "metadata": {},
   "source": [
    "Iterating using np.nditer()"
   ]
  },
  {
   "cell_type": "code",
   "execution_count": 49,
   "id": "e960c338-a437-4ea6-8ec9-3ea1f1afce47",
   "metadata": {},
   "outputs": [
    {
     "name": "stdout",
     "output_type": "stream",
     "text": [
      "65\n",
      "69\n",
      "58\n",
      "38\n",
      "90\n",
      "40\n",
      "73\n",
      "81\n",
      "75\n",
      "41\n"
     ]
    }
   ],
   "source": [
    "for Tem in np.nditer(arr):\n",
    "    print(Tem, sep = ',')"
   ]
  },
  {
   "cell_type": "code",
   "execution_count": 51,
   "id": "eaa53bf4-4e69-4fb1-a8f2-6fe5907a08f1",
   "metadata": {},
   "outputs": [
    {
     "name": "stdout",
     "output_type": "stream",
     "text": [
      "65 69 58 38 90 40 73 81 75 41 "
     ]
    }
   ],
   "source": [
    "for Tem in np.nditer(arr):\n",
    "    print(Tem, end = ' ')"
   ]
  },
  {
   "cell_type": "code",
   "execution_count": 63,
   "id": "61deedb4-3f71-471a-b24f-b4e89089a80a",
   "metadata": {},
   "outputs": [
    {
     "name": "stdout",
     "output_type": "stream",
     "text": [
      "53\n",
      "87\n",
      "25\n",
      "11\n",
      "63\n",
      "34\n",
      "85\n",
      "20\n",
      "22\n",
      "73\n",
      "78\n",
      "79\n",
      "20\n",
      "69\n",
      "67\n",
      "70\n",
      "82\n",
      "22\n",
      "55\n",
      "87\n",
      "20\n",
      "15\n",
      "15\n",
      "67\n",
      "14\n",
      "85\n",
      "96\n",
      "91\n",
      "73\n",
      "38\n",
      "81\n",
      "54\n",
      "41\n",
      "69\n",
      "68\n",
      "80\n",
      "98\n",
      "32\n",
      "45\n",
      "17\n",
      "33\n",
      "81\n",
      "96\n",
      "75\n",
      "25\n",
      "41\n",
      "26\n",
      "28\n"
     ]
    }
   ],
   "source": [
    "for Tem1 in np.nditer(arr1):\n",
    "    print(Tem1, sep = '')"
   ]
  },
  {
   "cell_type": "code",
   "execution_count": 59,
   "id": "7d566cbf-d9e5-4665-98dc-54719f160619",
   "metadata": {},
   "outputs": [
    {
     "name": "stdout",
     "output_type": "stream",
     "text": [
      "28 "
     ]
    }
   ],
   "source": [
    "    print(Tem1, end = ' ')"
   ]
  },
  {
   "cell_type": "code",
   "execution_count": 61,
   "id": "3e85d651-8204-4857-b5c8-178d831d94a2",
   "metadata": {},
   "outputs": [
    {
     "name": "stdout",
     "output_type": "stream",
     "text": [
      "53 87 25 11 63 34 85 20 22 73 78 79 20 69 67 70 82 22 55 87 20 15 15 67 14 85 96 91 73 38 81 54 41 69 68 80 98 32 45 17 33 81 96 75 25 41 26 28 "
     ]
    }
   ],
   "source": [
    "for Tem1 in np.nditer(arr1):\n",
    "    print(Tem1, end = ' ')"
   ]
  },
  {
   "cell_type": "markdown",
   "id": "6f090da7-0dd9-4b43-a4f0-5320492b3e5b",
   "metadata": {},
   "source": [
    "Exercise 1\n",
    "Write a program to generate an array with shape 5 by 4 at random containing positive integers. Perform an update by replacing all odd numbers using -1 (Using a loop)"
   ]
  },
  {
   "cell_type": "code",
   "execution_count": 67,
   "id": "18a37c18-dbbc-43e9-85ca-e2ab00849600",
   "metadata": {},
   "outputs": [
    {
     "name": "stdout",
     "output_type": "stream",
     "text": [
      "Arr: \n",
      " [[21 14 45  9]\n",
      " [13  1  0 10]\n",
      " [12  5 21 15]\n",
      " [18 39 36 41]\n",
      " [48 23 44 20]]\n"
     ]
    }
   ],
   "source": [
    "ARY = np.random.randint(50, size = (5,4))\n",
    "print('Arr: \\n',ARY)"
   ]
  },
  {
   "cell_type": "code",
   "execution_count": 73,
   "id": "e6d16424-2da2-4d96-8031-4e439523cb11",
   "metadata": {},
   "outputs": [
    {
     "name": "stdout",
     "output_type": "stream",
     "text": [
      "Final_Reat: \n",
      " [[-1 14 -1 -1]\n",
      " [-1 -1  0 10]\n",
      " [12 -1 -1 -1]\n",
      " [18 -1 36 -1]\n",
      " [48 -1 44 20]]\n"
     ]
    }
   ],
   "source": [
    "for TEM in np.nditer(ARY, op_flags = ['readwrite']):\n",
    "    if TEM%2 !=0:\n",
    "        TEM[...] = -1\n",
    "print('Final_Reat: \\n', ARY)"
   ]
  },
  {
   "cell_type": "markdown",
   "id": "50f8209c-7a8b-46cb-907a-099f84dee759",
   "metadata": {},
   "source": [
    "Exercise 2\n",
    "Given an array [1, -10, 2,3,0,6], print the array in this order [0,6,-10,2,1,3]"
   ]
  },
  {
   "cell_type": "code",
   "execution_count": 75,
   "id": "5f62a47b-9136-451f-9bf7-550f062c41ba",
   "metadata": {},
   "outputs": [
    {
     "data": {
      "text/plain": [
       "array([  0,   6, -10,   2,   1,   3])"
      ]
     },
     "execution_count": 75,
     "metadata": {},
     "output_type": "execute_result"
    }
   ],
   "source": [
    "array1 = np.array([1,-10, 2,3,0,6])\n",
    "\n",
    "array2 = np.concatenate((array1[4:6], array1[1:3], np.array([array1[0]]), np.array([array1[3]])))\n",
    "\n",
    "array2"
   ]
  },
  {
   "cell_type": "markdown",
   "id": "c5b012cb-f994-413e-a230-acf37afb25ad",
   "metadata": {},
   "source": [
    "Python Operators on Numpy Array\n"
   ]
  },
  {
   "cell_type": "code",
   "execution_count": 80,
   "id": "cff82e3f-d8b6-4774-820c-8fcfca2cbfb2",
   "metadata": {},
   "outputs": [],
   "source": [
    "x = np.array([[1,2,5,7,4], [4,7,8,9,0]])"
   ]
  },
  {
   "cell_type": "code",
   "execution_count": 82,
   "id": "1a7fb67e-c532-4d08-aac0-a81aed2fd18b",
   "metadata": {},
   "outputs": [
    {
     "name": "stdout",
     "output_type": "stream",
     "text": [
      "New_X: \n",
      " [[1 2 5 7 4]\n",
      " [4 7 8 9 0]]\n"
     ]
    }
   ],
   "source": [
    "print('New_X: \\n', x)"
   ]
  },
  {
   "cell_type": "code",
   "execution_count": 88,
   "id": "b80f2f01-27a6-4cab-afa1-e130a3409847",
   "metadata": {},
   "outputs": [
    {
     "name": "stdout",
     "output_type": "stream",
     "text": [
      "Asum: \n",
      " [[ 5  6  9 11  8]\n",
      " [ 8 11 12 13  4]]\n",
      "AmD: \n",
      " [[1 0 1 1 0]\n",
      " [0 1 0 1 0]]\n",
      "AMU: \n",
      " [[ 2  4 10 14  8]\n",
      " [ 8 14 16 18  0]]\n"
     ]
    }
   ],
   "source": [
    "print('Asum: \\n', x+4)\n",
    "print('AmD: \\n', x%2)\n",
    "print('AMU: \\n', x*2)"
   ]
  },
  {
   "cell_type": "code",
   "execution_count": 90,
   "id": "3b63e5ee-2919-45dc-9012-f33266c79663",
   "metadata": {},
   "outputs": [
    {
     "name": "stdout",
     "output_type": "stream",
     "text": [
      "[[False False  True  True  True]\n",
      " [ True  True  True  True False]]\n"
     ]
    }
   ],
   "source": [
    "print(x >=3)"
   ]
  },
  {
   "cell_type": "markdown",
   "id": "b685b257-5397-48fb-9e97-aef722265859",
   "metadata": {},
   "source": [
    "Exercise3\n",
    "\n",
    "Write a program to generate an array with shape 5 by 4 at random containing positive integer. Perform an update by replacing all odd numbers with -1. (Without using a Loop)"
   ]
  },
  {
   "cell_type": "code",
   "execution_count": 96,
   "id": "b0e5b4e8-adaf-4dbb-a9be-1c154a8b7f9d",
   "metadata": {},
   "outputs": [
    {
     "name": "stdout",
     "output_type": "stream",
     "text": [
      "[[34  5 37 35]\n",
      " [10 33 27  3]\n",
      " [22 33 40 30]\n",
      " [ 5 17 41  9]\n",
      " [47 49 47  2]]\n"
     ]
    }
   ],
   "source": [
    "GENM = np.random.randint(50, size = (5,4))\n",
    "print(GENM)"
   ]
  },
  {
   "cell_type": "code",
   "execution_count": 98,
   "id": "20941810-d7dd-466c-a574-ac6101d36d0b",
   "metadata": {},
   "outputs": [
    {
     "data": {
      "text/plain": [
       "array([[False,  True,  True,  True],\n",
       "       [False,  True,  True,  True],\n",
       "       [False,  True, False, False],\n",
       "       [ True,  True,  True,  True],\n",
       "       [ True,  True,  True, False]])"
      ]
     },
     "execution_count": 98,
     "metadata": {},
     "output_type": "execute_result"
    }
   ],
   "source": [
    "index = (GENM%2!=0)\n",
    "index"
   ]
  },
  {
   "cell_type": "code",
   "execution_count": 100,
   "id": "30497396-e6ae-4255-9ac2-330c22ae5abf",
   "metadata": {},
   "outputs": [
    {
     "data": {
      "text/plain": [
       "array([[34, -1, -1, -1],\n",
       "       [10, -1, -1, -1],\n",
       "       [22, -1, 40, 30],\n",
       "       [-1, -1, -1, -1],\n",
       "       [-1, -1, -1,  2]])"
      ]
     },
     "execution_count": 100,
     "metadata": {},
     "output_type": "execute_result"
    }
   ],
   "source": [
    "arr_copy = GENM.copy()\n",
    "\n",
    "arr_copy[index] = -1\n",
    "arr_copy"
   ]
  },
  {
   "cell_type": "code",
   "execution_count": 102,
   "id": "1131c250-9f4c-480f-9dbe-4e6d872f3e29",
   "metadata": {},
   "outputs": [
    {
     "data": {
      "text/plain": [
       "array([[34,  5, 37, 35],\n",
       "       [10, 33, 27,  3],\n",
       "       [22, 33, 40, 30],\n",
       "       [ 5, 17, 41,  9],\n",
       "       [47, 49, 47,  2]])"
      ]
     },
     "execution_count": 102,
     "metadata": {},
     "output_type": "execute_result"
    }
   ],
   "source": [
    "arr_copy2 = GENM.copy()\n",
    "arr_copy2"
   ]
  },
  {
   "cell_type": "code",
   "execution_count": 106,
   "id": "638c625c-ca29-4724-97fc-a6e3570efaff",
   "metadata": {},
   "outputs": [
    {
     "data": {
      "text/plain": [
       "array([[50, 59, 76, 98, 72, 57, 58, 78, 65, 87],\n",
       "       [65, 66, 78, 67, 55, 90, 58, 80, 51, 70],\n",
       "       [89, 95, 96, 93, 58, 74, 77, 93, 50, 64],\n",
       "       [97, 91, 53, 52, 69, 97, 64, 62, 55, 99],\n",
       "       [73, 54, 68, 52, 61, 58, 88, 53, 93, 93]])"
      ]
     },
     "execution_count": 106,
     "metadata": {},
     "output_type": "execute_result"
    }
   ],
   "source": [
    "ary = np.random.randint(50, 100, size = (5,10))\n",
    "ary"
   ]
  },
  {
   "cell_type": "code",
   "execution_count": 108,
   "id": "944599b8-fe9a-4bb4-8713-6e9167074619",
   "metadata": {},
   "outputs": [
    {
     "data": {
      "text/plain": [
       "array([[50, 57, 58, 59, 65, 72, 76, 78, 87, 98],\n",
       "       [51, 55, 58, 65, 66, 67, 70, 78, 80, 90],\n",
       "       [50, 58, 64, 74, 77, 89, 93, 93, 95, 96],\n",
       "       [52, 53, 55, 62, 64, 69, 91, 97, 97, 99],\n",
       "       [52, 53, 54, 58, 61, 68, 73, 88, 93, 93]])"
      ]
     },
     "execution_count": 108,
     "metadata": {},
     "output_type": "execute_result"
    }
   ],
   "source": [
    "np.sort(ary, axis = 0)\n",
    "np.sort(ary, axis =1)"
   ]
  },
  {
   "cell_type": "markdown",
   "id": "d7a62c7e-6c16-4d08-8bf8-2eeeb63e736c",
   "metadata": {},
   "source": [
    "Task - Dice Rolling Simulation\n",
    "Create a simulation of a dice rolling game using NumPy. The game will involve rolling two dice and calculating the sum of their values. Players will guess whether the next roll will result in a higher, lower, or equal sum compared to the previous roll. The simulation will track the player's score based on their guesses."
   ]
  },
  {
   "cell_type": "code",
   "execution_count": null,
   "id": "18f2adf4-fffa-415e-a230-704a37fcbefa",
   "metadata": {},
   "outputs": [
    {
     "name": "stdin",
     "output_type": "stream",
     "text": [
      "\n",
      "Type \"roll\":  4\n"
     ]
    },
    {
     "name": "stdout",
     "output_type": "stream",
     "text": [
      "Please type \"roll\".\n",
      "\n",
      "Will the next sum be higher, lower, or equal?\n"
     ]
    }
   ],
   "source": [
    "#number of rounds in the game\n",
    "num_of_rounds = 4\n",
    "\n",
    "#range of possible values for the die roll\n",
    "min_value = 1\n",
    "max_value = 6\n",
    "\n",
    "#intializing player's score\n",
    "score = 0\n",
    "\n",
    "#a list to record the dice sums\n",
    "sums_list = []\n",
    "\n",
    "while num_of_rounds >0 :\n",
    "    rolling = str(input('\\nType \"roll\": '))\n",
    "\n",
    "\n",
    "    if rolling == 'roll':\n",
    "        rolls_array = np.random.randint(min_value, max_value+1, size = (2,))\n",
    "        dice_sums = np.sum(rolls_array)\n",
    "        print (\"Dice sum:\", dice_sums)\n",
    "        sums_list.append(dice_sums)\n",
    "\n",
    "        if len(sums_list) > 1:\n",
    "            if (guess == 'higher' and (sums_list[-1] > sums_list[-2])) or \\\n",
    "               (guess == 'lower' and (sums_list[-1] < sums_list[-2])) or \\\n",
    "               (guess == 'equal' and (sums_list[-1] == sums_list[-2])):\n",
    "                print('Correct guess!\\n')\n",
    "                score += 1\n",
    "            else:\n",
    "                print('Incorrect guess!\\n')\n",
    "\n",
    "    else:\n",
    "        print('Please type \"roll\".')\n",
    "\n",
    "\n",
    "\n",
    "    print('\\nWill the next sum be higher, lower, or equal?')\n",
    "\n",
    "    guess = str(input()).strip().lower()\n",
    "\n",
    "    if guess not in [\"higher\", \"lower\", \"equal\"]:\n",
    "        print(\"Invalid input! Please enter 'higher', 'lower', or 'equal'.\")\n",
    "\n",
    "    num_of_rounds -= 1\n",
    "\n",
    "else:\n",
    "    print('\\nRounds exhausted! Come back later\\n')\n",
    "    print('View of dice rolls: ', sums_list)\n",
    "    print('Your total score:', score)"
   ]
  },
  {
   "cell_type": "code",
   "execution_count": null,
   "id": "63f1d9cf-2808-4312-a000-5bc878507893",
   "metadata": {},
   "outputs": [],
   "source": []
  }
 ],
 "metadata": {
  "kernelspec": {
   "display_name": "Python [conda env:base] *",
   "language": "python",
   "name": "conda-base-py"
  },
  "language_info": {
   "codemirror_mode": {
    "name": "ipython",
    "version": 3
   },
   "file_extension": ".py",
   "mimetype": "text/x-python",
   "name": "python",
   "nbconvert_exporter": "python",
   "pygments_lexer": "ipython3",
   "version": "3.12.7"
  }
 },
 "nbformat": 4,
 "nbformat_minor": 5
}
