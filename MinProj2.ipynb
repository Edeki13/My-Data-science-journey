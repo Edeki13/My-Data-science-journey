{
 "cells": [
  {
   "cell_type": "code",
   "execution_count": 15,
   "id": "332841f9-ac04-4b1c-aa08-72c0bed367b1",
   "metadata": {},
   "outputs": [],
   "source": [
    "### Your analysis in this mini project will focus on cleaning, exploring, and visualizing a sales dataset to extract meaningful insights using python and data visualization libraries.\"\n"
   ]
  },
  {
   "cell_type": "code",
   "execution_count": 17,
   "id": "aed7bb25-7052-45e6-8b6e-ef798072f147",
   "metadata": {},
   "outputs": [],
   "source": [
    "### Importing libraries"
   ]
  },
  {
   "cell_type": "code",
   "execution_count": 19,
   "id": "536551fd-1273-46b8-a663-58c019642147",
   "metadata": {},
   "outputs": [],
   "source": [
    "import pandas as pd\n",
    "import numpy as np\n",
    "import matplotlib.pyplot as plt\n",
    "import seaborn as sns"
   ]
  },
  {
   "cell_type": "code",
   "execution_count": 21,
   "id": "60a0732a-e87a-4681-953b-630a885953bf",
   "metadata": {},
   "outputs": [],
   "source": [
    "##### importing Data set \n"
   ]
  },
  {
   "cell_type": "code",
   "execution_count": 23,
   "id": "70c0c994-aa55-4d8b-bcf9-e5c38662c5c4",
   "metadata": {},
   "outputs": [],
   "source": [
    "DFT = pd.read_csv('my data/Dataset.csv')"
   ]
  },
  {
   "cell_type": "code",
   "execution_count": 25,
   "id": "0870e3d9-4705-4a64-8347-eb9d3bff0fce",
   "metadata": {},
   "outputs": [
    {
     "data": {
      "text/html": [
       "<div>\n",
       "<style scoped>\n",
       "    .dataframe tbody tr th:only-of-type {\n",
       "        vertical-align: middle;\n",
       "    }\n",
       "\n",
       "    .dataframe tbody tr th {\n",
       "        vertical-align: top;\n",
       "    }\n",
       "\n",
       "    .dataframe thead th {\n",
       "        text-align: right;\n",
       "    }\n",
       "</style>\n",
       "<table border=\"1\" class=\"dataframe\">\n",
       "  <thead>\n",
       "    <tr style=\"text-align: right;\">\n",
       "      <th></th>\n",
       "      <th>OrderID</th>\n",
       "      <th>Date</th>\n",
       "      <th>CustomerID</th>\n",
       "      <th>Product</th>\n",
       "      <th>Quantity</th>\n",
       "      <th>Price</th>\n",
       "      <th>Total</th>\n",
       "    </tr>\n",
       "  </thead>\n",
       "  <tbody>\n",
       "    <tr>\n",
       "      <th>0</th>\n",
       "      <td>1</td>\n",
       "      <td>2024-04-12</td>\n",
       "      <td>C002</td>\n",
       "      <td>Phone</td>\n",
       "      <td>1</td>\n",
       "      <td>600</td>\n",
       "      <td>642.09</td>\n",
       "    </tr>\n",
       "    <tr>\n",
       "      <th>1</th>\n",
       "      <td>2</td>\n",
       "      <td>2024-12-14</td>\n",
       "      <td>C003</td>\n",
       "      <td>Laptop</td>\n",
       "      <td>2</td>\n",
       "      <td>1000</td>\n",
       "      <td>2098.39</td>\n",
       "    </tr>\n",
       "    <tr>\n",
       "      <th>2</th>\n",
       "      <td>3</td>\n",
       "      <td>2024-09-27</td>\n",
       "      <td>C017</td>\n",
       "      <td>Monitor</td>\n",
       "      <td>1</td>\n",
       "      <td>200</td>\n",
       "      <td>196.34</td>\n",
       "    </tr>\n",
       "    <tr>\n",
       "      <th>3</th>\n",
       "      <td>4</td>\n",
       "      <td>2024-04-16</td>\n",
       "      <td>C005</td>\n",
       "      <td>Phone</td>\n",
       "      <td>3</td>\n",
       "      <td>600</td>\n",
       "      <td>1955.86</td>\n",
       "    </tr>\n",
       "    <tr>\n",
       "      <th>4</th>\n",
       "      <td>5</td>\n",
       "      <td>2024-03-12</td>\n",
       "      <td>C017</td>\n",
       "      <td>Laptop</td>\n",
       "      <td>1</td>\n",
       "      <td>1000</td>\n",
       "      <td>1098.19</td>\n",
       "    </tr>\n",
       "    <tr>\n",
       "      <th>...</th>\n",
       "      <td>...</td>\n",
       "      <td>...</td>\n",
       "      <td>...</td>\n",
       "      <td>...</td>\n",
       "      <td>...</td>\n",
       "      <td>...</td>\n",
       "      <td>...</td>\n",
       "    </tr>\n",
       "    <tr>\n",
       "      <th>195</th>\n",
       "      <td>196</td>\n",
       "      <td>2024-04-22</td>\n",
       "      <td>C019</td>\n",
       "      <td>Monitor</td>\n",
       "      <td>1</td>\n",
       "      <td>200</td>\n",
       "      <td>181.37</td>\n",
       "    </tr>\n",
       "    <tr>\n",
       "      <th>196</th>\n",
       "      <td>197</td>\n",
       "      <td>2024-11-13</td>\n",
       "      <td>C017</td>\n",
       "      <td>Laptop</td>\n",
       "      <td>1</td>\n",
       "      <td>1000</td>\n",
       "      <td>1066.13</td>\n",
       "    </tr>\n",
       "    <tr>\n",
       "      <th>197</th>\n",
       "      <td>198</td>\n",
       "      <td>2024-02-21</td>\n",
       "      <td>C019</td>\n",
       "      <td>Tablet</td>\n",
       "      <td>1</td>\n",
       "      <td>400</td>\n",
       "      <td>387.62</td>\n",
       "    </tr>\n",
       "    <tr>\n",
       "      <th>198</th>\n",
       "      <td>199</td>\n",
       "      <td>2024-09-24</td>\n",
       "      <td>C005</td>\n",
       "      <td>Phone</td>\n",
       "      <td>2</td>\n",
       "      <td>600</td>\n",
       "      <td>1265.72</td>\n",
       "    </tr>\n",
       "    <tr>\n",
       "      <th>199</th>\n",
       "      <td>200</td>\n",
       "      <td>2024-10-21</td>\n",
       "      <td>C009</td>\n",
       "      <td>Laptop</td>\n",
       "      <td>1</td>\n",
       "      <td>1000</td>\n",
       "      <td>972.55</td>\n",
       "    </tr>\n",
       "  </tbody>\n",
       "</table>\n",
       "<p>200 rows × 7 columns</p>\n",
       "</div>"
      ],
      "text/plain": [
       "     OrderID        Date CustomerID  Product  Quantity  Price    Total\n",
       "0          1  2024-04-12       C002    Phone         1    600   642.09\n",
       "1          2  2024-12-14       C003   Laptop         2   1000  2098.39\n",
       "2          3  2024-09-27       C017  Monitor         1    200   196.34\n",
       "3          4  2024-04-16       C005    Phone         3    600  1955.86\n",
       "4          5  2024-03-12       C017   Laptop         1   1000  1098.19\n",
       "..       ...         ...        ...      ...       ...    ...      ...\n",
       "195      196  2024-04-22       C019  Monitor         1    200   181.37\n",
       "196      197  2024-11-13       C017   Laptop         1   1000  1066.13\n",
       "197      198  2024-02-21       C019   Tablet         1    400   387.62\n",
       "198      199  2024-09-24       C005    Phone         2    600  1265.72\n",
       "199      200  2024-10-21       C009   Laptop         1   1000   972.55\n",
       "\n",
       "[200 rows x 7 columns]"
      ]
     },
     "execution_count": 25,
     "metadata": {},
     "output_type": "execute_result"
    }
   ],
   "source": [
    "DFT"
   ]
  },
  {
   "cell_type": "code",
   "execution_count": 29,
   "id": "0245822f-05cb-462b-82db-4294b5963936",
   "metadata": {},
   "outputs": [
    {
     "data": {
      "text/html": [
       "<div>\n",
       "<style scoped>\n",
       "    .dataframe tbody tr th:only-of-type {\n",
       "        vertical-align: middle;\n",
       "    }\n",
       "\n",
       "    .dataframe tbody tr th {\n",
       "        vertical-align: top;\n",
       "    }\n",
       "\n",
       "    .dataframe thead th {\n",
       "        text-align: right;\n",
       "    }\n",
       "</style>\n",
       "<table border=\"1\" class=\"dataframe\">\n",
       "  <thead>\n",
       "    <tr style=\"text-align: right;\">\n",
       "      <th></th>\n",
       "      <th>OrderID</th>\n",
       "      <th>Quantity</th>\n",
       "      <th>Price</th>\n",
       "      <th>Total</th>\n",
       "    </tr>\n",
       "  </thead>\n",
       "  <tbody>\n",
       "    <tr>\n",
       "      <th>count</th>\n",
       "      <td>200.000000</td>\n",
       "      <td>200.00000</td>\n",
       "      <td>200.000000</td>\n",
       "      <td>194.000000</td>\n",
       "    </tr>\n",
       "    <tr>\n",
       "      <th>mean</th>\n",
       "      <td>100.500000</td>\n",
       "      <td>1.36500</td>\n",
       "      <td>676.000000</td>\n",
       "      <td>937.638711</td>\n",
       "    </tr>\n",
       "    <tr>\n",
       "      <th>std</th>\n",
       "      <td>57.879185</td>\n",
       "      <td>0.61943</td>\n",
       "      <td>300.291316</td>\n",
       "      <td>654.166632</td>\n",
       "    </tr>\n",
       "    <tr>\n",
       "      <th>min</th>\n",
       "      <td>1.000000</td>\n",
       "      <td>1.00000</td>\n",
       "      <td>100.000000</td>\n",
       "      <td>93.310000</td>\n",
       "    </tr>\n",
       "    <tr>\n",
       "      <th>25%</th>\n",
       "      <td>50.750000</td>\n",
       "      <td>1.00000</td>\n",
       "      <td>400.000000</td>\n",
       "      <td>562.907500</td>\n",
       "    </tr>\n",
       "    <tr>\n",
       "      <th>50%</th>\n",
       "      <td>100.500000</td>\n",
       "      <td>1.00000</td>\n",
       "      <td>600.000000</td>\n",
       "      <td>823.940000</td>\n",
       "    </tr>\n",
       "    <tr>\n",
       "      <th>75%</th>\n",
       "      <td>150.250000</td>\n",
       "      <td>2.00000</td>\n",
       "      <td>1000.000000</td>\n",
       "      <td>1065.937500</td>\n",
       "    </tr>\n",
       "    <tr>\n",
       "      <th>max</th>\n",
       "      <td>200.000000</td>\n",
       "      <td>3.00000</td>\n",
       "      <td>1000.000000</td>\n",
       "      <td>3293.240000</td>\n",
       "    </tr>\n",
       "  </tbody>\n",
       "</table>\n",
       "</div>"
      ],
      "text/plain": [
       "          OrderID   Quantity        Price        Total\n",
       "count  200.000000  200.00000   200.000000   194.000000\n",
       "mean   100.500000    1.36500   676.000000   937.638711\n",
       "std     57.879185    0.61943   300.291316   654.166632\n",
       "min      1.000000    1.00000   100.000000    93.310000\n",
       "25%     50.750000    1.00000   400.000000   562.907500\n",
       "50%    100.500000    1.00000   600.000000   823.940000\n",
       "75%    150.250000    2.00000  1000.000000  1065.937500\n",
       "max    200.000000    3.00000  1000.000000  3293.240000"
      ]
     },
     "execution_count": 29,
     "metadata": {},
     "output_type": "execute_result"
    }
   ],
   "source": [
    "DFT.describe()"
   ]
  },
  {
   "cell_type": "markdown",
   "id": "63866586-cc6a-423b-87e9-d53d4904d6a8",
   "metadata": {},
   "source": [
    "                                     Questions \n",
    "\n",
    "How much sales did we make based on the product? \n",
    "which month has the highest sales?"
   ]
  },
  {
   "cell_type": "code",
   "execution_count": 27,
   "id": "332107ec-b5bf-493e-9b4f-47ec2a1abede",
   "metadata": {},
   "outputs": [
    {
     "name": "stdout",
     "output_type": "stream",
     "text": [
      "<class 'pandas.core.frame.DataFrame'>\n",
      "RangeIndex: 200 entries, 0 to 199\n",
      "Data columns (total 7 columns):\n",
      " #   Column      Non-Null Count  Dtype  \n",
      "---  ------      --------------  -----  \n",
      " 0   OrderID     200 non-null    int64  \n",
      " 1   Date        200 non-null    object \n",
      " 2   CustomerID  200 non-null    object \n",
      " 3   Product     190 non-null    object \n",
      " 4   Quantity    200 non-null    int64  \n",
      " 5   Price       200 non-null    int64  \n",
      " 6   Total       194 non-null    float64\n",
      "dtypes: float64(1), int64(3), object(3)\n",
      "memory usage: 11.1+ KB\n"
     ]
    }
   ],
   "source": [
    "DFT.info()"
   ]
  },
  {
   "cell_type": "code",
   "execution_count": 31,
   "id": "2131d34a-f07d-44a9-a938-991f853e2605",
   "metadata": {},
   "outputs": [
    {
     "data": {
      "text/html": [
       "<div>\n",
       "<style scoped>\n",
       "    .dataframe tbody tr th:only-of-type {\n",
       "        vertical-align: middle;\n",
       "    }\n",
       "\n",
       "    .dataframe tbody tr th {\n",
       "        vertical-align: top;\n",
       "    }\n",
       "\n",
       "    .dataframe thead th {\n",
       "        text-align: right;\n",
       "    }\n",
       "</style>\n",
       "<table border=\"1\" class=\"dataframe\">\n",
       "  <thead>\n",
       "    <tr style=\"text-align: right;\">\n",
       "      <th></th>\n",
       "      <th>OrderID</th>\n",
       "      <th>Date</th>\n",
       "      <th>CustomerID</th>\n",
       "      <th>Product</th>\n",
       "      <th>Quantity</th>\n",
       "      <th>Price</th>\n",
       "      <th>Total</th>\n",
       "    </tr>\n",
       "  </thead>\n",
       "  <tbody>\n",
       "    <tr>\n",
       "      <th>0</th>\n",
       "      <td>1</td>\n",
       "      <td>2024-04-12</td>\n",
       "      <td>C002</td>\n",
       "      <td>Phone</td>\n",
       "      <td>1</td>\n",
       "      <td>600</td>\n",
       "      <td>642.09</td>\n",
       "    </tr>\n",
       "    <tr>\n",
       "      <th>1</th>\n",
       "      <td>2</td>\n",
       "      <td>2024-12-14</td>\n",
       "      <td>C003</td>\n",
       "      <td>Laptop</td>\n",
       "      <td>2</td>\n",
       "      <td>1000</td>\n",
       "      <td>2098.39</td>\n",
       "    </tr>\n",
       "    <tr>\n",
       "      <th>2</th>\n",
       "      <td>3</td>\n",
       "      <td>2024-09-27</td>\n",
       "      <td>C017</td>\n",
       "      <td>Monitor</td>\n",
       "      <td>1</td>\n",
       "      <td>200</td>\n",
       "      <td>196.34</td>\n",
       "    </tr>\n",
       "    <tr>\n",
       "      <th>3</th>\n",
       "      <td>4</td>\n",
       "      <td>2024-04-16</td>\n",
       "      <td>C005</td>\n",
       "      <td>Phone</td>\n",
       "      <td>3</td>\n",
       "      <td>600</td>\n",
       "      <td>1955.86</td>\n",
       "    </tr>\n",
       "    <tr>\n",
       "      <th>4</th>\n",
       "      <td>5</td>\n",
       "      <td>2024-03-12</td>\n",
       "      <td>C017</td>\n",
       "      <td>Laptop</td>\n",
       "      <td>1</td>\n",
       "      <td>1000</td>\n",
       "      <td>1098.19</td>\n",
       "    </tr>\n",
       "  </tbody>\n",
       "</table>\n",
       "</div>"
      ],
      "text/plain": [
       "   OrderID        Date CustomerID  Product  Quantity  Price    Total\n",
       "0        1  2024-04-12       C002    Phone         1    600   642.09\n",
       "1        2  2024-12-14       C003   Laptop         2   1000  2098.39\n",
       "2        3  2024-09-27       C017  Monitor         1    200   196.34\n",
       "3        4  2024-04-16       C005    Phone         3    600  1955.86\n",
       "4        5  2024-03-12       C017   Laptop         1   1000  1098.19"
      ]
     },
     "execution_count": 31,
     "metadata": {},
     "output_type": "execute_result"
    }
   ],
   "source": [
    "DFT.head()"
   ]
  },
  {
   "cell_type": "code",
   "execution_count": 35,
   "id": "79976a34-854b-465b-876f-5054edbe28a9",
   "metadata": {},
   "outputs": [
    {
     "data": {
      "text/plain": [
       "Index(['OrderID', 'Date', 'CustomerID', 'Product', 'Quantity', 'Price',\n",
       "       'Total'],\n",
       "      dtype='object')"
      ]
     },
     "execution_count": 35,
     "metadata": {},
     "output_type": "execute_result"
    }
   ],
   "source": [
    "DFT.columns"
   ]
  },
  {
   "cell_type": "code",
   "execution_count": 45,
   "id": "3feb6c15-8394-42ae-834b-fdbae61aed1d",
   "metadata": {},
   "outputs": [
    {
     "name": "stdout",
     "output_type": "stream",
     "text": [
      "Total sales record: 200\n",
      "Total unique customers: 20\n",
      "Date range: 2024-01-02 to 2024-12-29\n"
     ]
    }
   ],
   "source": [
    "print('Total sales record:', DFT.shape[0])\n",
    "\n",
    "print('Total unique customers:', DFT['CustomerID'].nunique())\n",
    "\n",
    "print('Date range:', DFT['Date'].min(), 'to', DFT['Date'].max())"
   ]
  },
  {
   "cell_type": "code",
   "execution_count": 51,
   "id": "c304857d-0f15-45e7-a25a-df08039069d5",
   "metadata": {},
   "outputs": [
    {
     "data": {
      "text/plain": [
       "array(['Phone', 'Laptop', 'Monitor', nan, 'Tablet', 'Headphones'],\n",
       "      dtype=object)"
      ]
     },
     "execution_count": 51,
     "metadata": {},
     "output_type": "execute_result"
    }
   ],
   "source": [
    "####check for unique products\n",
    "\n",
    "DFT['Product'].unique()"
   ]
  },
  {
   "cell_type": "code",
   "execution_count": 55,
   "id": "04955aca-a8c9-43af-8576-c10bb14f4358",
   "metadata": {},
   "outputs": [
    {
     "data": {
      "text/plain": [
       "Product\n",
       "Laptop        76\n",
       "Phone         59\n",
       "Tablet        31\n",
       "Monitor       15\n",
       "Headphones     9\n",
       "Name: count, dtype: int64"
      ]
     },
     "execution_count": 55,
     "metadata": {},
     "output_type": "execute_result"
    }
   ],
   "source": [
    "### total numbers of sales each product\n",
    "\n",
    "DFT['Product'].value_counts()"
   ]
  },
  {
   "cell_type": "code",
   "execution_count": 57,
   "id": "62fa9473-c58a-4db7-8c60-0e03ef836416",
   "metadata": {},
   "outputs": [
    {
     "data": {
      "text/plain": [
       "Product       10\n",
       "Total          6\n",
       "OrderID        0\n",
       "Date           0\n",
       "CustomerID     0\n",
       "Quantity       0\n",
       "Price          0\n",
       "dtype: int64"
      ]
     },
     "execution_count": 57,
     "metadata": {},
     "output_type": "execute_result"
    }
   ],
   "source": [
    "DFT.isna().sum().sort_values(ascending = False)  #checking for null values"
   ]
  },
  {
   "cell_type": "code",
   "execution_count": 61,
   "id": "40cad664-c79b-4996-b527-b610317fee4c",
   "metadata": {},
   "outputs": [],
   "source": [
    "DFT['Total'] = DFT['Total'].fillna(DFT['Quantity']*DFT['Price'])"
   ]
  },
  {
   "cell_type": "code",
   "execution_count": 63,
   "id": "3063bb6e-945c-4d98-9569-217c9de97cc0",
   "metadata": {},
   "outputs": [
    {
     "data": {
      "text/plain": [
       "0"
      ]
     },
     "execution_count": 63,
     "metadata": {},
     "output_type": "execute_result"
    }
   ],
   "source": [
    "DFT['Total'].isna().sum()"
   ]
  },
  {
   "cell_type": "markdown",
   "id": "65e01036-9ef4-4f45-98ad-cfae3ecca3c0",
   "metadata": {},
   "source": [
    "Convert the Data to pandas Datetime format"
   ]
  },
  {
   "cell_type": "code",
   "execution_count": 66,
   "id": "83913fc6-8c91-4a99-9768-32712892aab5",
   "metadata": {},
   "outputs": [],
   "source": [
    "DFT['Date'] = pd.to_datetime(DFT['Date'])"
   ]
  },
  {
   "cell_type": "markdown",
   "id": "aed22a31-1350-42d7-80bf-3dd76d41a34b",
   "metadata": {},
   "source": [
    "                                             Data Visuliaztion "
   ]
  },
  {
   "cell_type": "code",
   "execution_count": 69,
   "id": "c0db7d8d-bf2b-469e-b4b7-f3c465d3e09f",
   "metadata": {},
   "outputs": [],
   "source": [
    "###let get total  amount of sales per product\n",
    "\n",
    "Sales_Prod = DFT.groupby('Product')['Total'].sum().reset_index()"
   ]
  },
  {
   "cell_type": "code",
   "execution_count": 71,
   "id": "ce9bcab5-a33b-49cf-9624-8a1441896371",
   "metadata": {},
   "outputs": [
    {
     "data": {
      "text/html": [
       "<div>\n",
       "<style scoped>\n",
       "    .dataframe tbody tr th:only-of-type {\n",
       "        vertical-align: middle;\n",
       "    }\n",
       "\n",
       "    .dataframe tbody tr th {\n",
       "        vertical-align: top;\n",
       "    }\n",
       "\n",
       "    .dataframe thead th {\n",
       "        text-align: right;\n",
       "    }\n",
       "</style>\n",
       "<table border=\"1\" class=\"dataframe\">\n",
       "  <thead>\n",
       "    <tr style=\"text-align: right;\">\n",
       "      <th></th>\n",
       "      <th>Product</th>\n",
       "      <th>Total</th>\n",
       "    </tr>\n",
       "  </thead>\n",
       "  <tbody>\n",
       "    <tr>\n",
       "      <th>0</th>\n",
       "      <td>Headphones</td>\n",
       "      <td>1229.54</td>\n",
       "    </tr>\n",
       "    <tr>\n",
       "      <th>1</th>\n",
       "      <td>Laptop</td>\n",
       "      <td>106405.98</td>\n",
       "    </tr>\n",
       "    <tr>\n",
       "      <th>2</th>\n",
       "      <td>Monitor</td>\n",
       "      <td>4415.36</td>\n",
       "    </tr>\n",
       "    <tr>\n",
       "      <th>3</th>\n",
       "      <td>Phone</td>\n",
       "      <td>46171.36</td>\n",
       "    </tr>\n",
       "    <tr>\n",
       "      <th>4</th>\n",
       "      <td>Tablet</td>\n",
       "      <td>17119.23</td>\n",
       "    </tr>\n",
       "  </tbody>\n",
       "</table>\n",
       "</div>"
      ],
      "text/plain": [
       "      Product      Total\n",
       "0  Headphones    1229.54\n",
       "1      Laptop  106405.98\n",
       "2     Monitor    4415.36\n",
       "3       Phone   46171.36\n",
       "4      Tablet   17119.23"
      ]
     },
     "execution_count": 71,
     "metadata": {},
     "output_type": "execute_result"
    }
   ],
   "source": [
    "Sales_Prod"
   ]
  },
  {
   "cell_type": "code",
   "execution_count": 75,
   "id": "bc45298b-ce78-422a-a976-a6ab344a034b",
   "metadata": {},
   "outputs": [],
   "source": [
    "### let get the amount of sales per month\n",
    "\n",
    "DFT['Month'] = DFT['Date'].dt.month\n",
    "sales_Month = DFT.groupby('Month')['Total'].sum().reset_index()"
   ]
  },
  {
   "cell_type": "code",
   "execution_count": 77,
   "id": "4dd5aeee-30b0-49de-ba60-cc141e366942",
   "metadata": {},
   "outputs": [
    {
     "data": {
      "text/html": [
       "<div>\n",
       "<style scoped>\n",
       "    .dataframe tbody tr th:only-of-type {\n",
       "        vertical-align: middle;\n",
       "    }\n",
       "\n",
       "    .dataframe tbody tr th {\n",
       "        vertical-align: top;\n",
       "    }\n",
       "\n",
       "    .dataframe thead th {\n",
       "        text-align: right;\n",
       "    }\n",
       "</style>\n",
       "<table border=\"1\" class=\"dataframe\">\n",
       "  <thead>\n",
       "    <tr style=\"text-align: right;\">\n",
       "      <th></th>\n",
       "      <th>Month</th>\n",
       "      <th>Total</th>\n",
       "    </tr>\n",
       "  </thead>\n",
       "  <tbody>\n",
       "    <tr>\n",
       "      <th>0</th>\n",
       "      <td>1</td>\n",
       "      <td>8755.09</td>\n",
       "    </tr>\n",
       "    <tr>\n",
       "      <th>1</th>\n",
       "      <td>2</td>\n",
       "      <td>15593.58</td>\n",
       "    </tr>\n",
       "    <tr>\n",
       "      <th>2</th>\n",
       "      <td>3</td>\n",
       "      <td>13793.66</td>\n",
       "    </tr>\n",
       "    <tr>\n",
       "      <th>3</th>\n",
       "      <td>4</td>\n",
       "      <td>15942.33</td>\n",
       "    </tr>\n",
       "    <tr>\n",
       "      <th>4</th>\n",
       "      <td>5</td>\n",
       "      <td>15425.28</td>\n",
       "    </tr>\n",
       "    <tr>\n",
       "      <th>5</th>\n",
       "      <td>6</td>\n",
       "      <td>15249.31</td>\n",
       "    </tr>\n",
       "    <tr>\n",
       "      <th>6</th>\n",
       "      <td>7</td>\n",
       "      <td>14710.40</td>\n",
       "    </tr>\n",
       "    <tr>\n",
       "      <th>7</th>\n",
       "      <td>8</td>\n",
       "      <td>18018.66</td>\n",
       "    </tr>\n",
       "    <tr>\n",
       "      <th>8</th>\n",
       "      <td>9</td>\n",
       "      <td>14576.32</td>\n",
       "    </tr>\n",
       "    <tr>\n",
       "      <th>9</th>\n",
       "      <td>10</td>\n",
       "      <td>15905.58</td>\n",
       "    </tr>\n",
       "    <tr>\n",
       "      <th>10</th>\n",
       "      <td>11</td>\n",
       "      <td>16908.88</td>\n",
       "    </tr>\n",
       "    <tr>\n",
       "      <th>11</th>\n",
       "      <td>12</td>\n",
       "      <td>21722.82</td>\n",
       "    </tr>\n",
       "  </tbody>\n",
       "</table>\n",
       "</div>"
      ],
      "text/plain": [
       "    Month     Total\n",
       "0       1   8755.09\n",
       "1       2  15593.58\n",
       "2       3  13793.66\n",
       "3       4  15942.33\n",
       "4       5  15425.28\n",
       "5       6  15249.31\n",
       "6       7  14710.40\n",
       "7       8  18018.66\n",
       "8       9  14576.32\n",
       "9      10  15905.58\n",
       "10     11  16908.88\n",
       "11     12  21722.82"
      ]
     },
     "execution_count": 77,
     "metadata": {},
     "output_type": "execute_result"
    }
   ],
   "source": [
    "sales_Month"
   ]
  },
  {
   "cell_type": "markdown",
   "id": "adf44a27-a653-4f71-a71f-9242518c5a88",
   "metadata": {},
   "source": [
    "Plotting time \n",
    "\n",
    "Product vs Total; to visualize total amount sold per product\n",
    "\n",
    "Month vs Total   to visualize total amount sold per month\n",
    "\n",
    "Quantity Vs Total to visualize total amount sold per quantity "
   ]
  },
  {
   "cell_type": "code",
   "execution_count": 87,
   "id": "9f6e63f9-2656-4e0f-a703-c567ce33b5ee",
   "metadata": {},
   "outputs": [
    {
     "data": {
      "image/png": "[encoded data removed]",
      "text/plain": [
       "<Figure size 900x600 with 1 Axes>"
      ]
     },
     "metadata": {},
     "output_type": "display_data"
    }
   ],
   "source": [
    "# Product vs Total, using a bar chart.\n",
    "\n",
    "plt.figure(figsize=(9,6))\n",
    "sns.barplot(data=Sales_Prod, x='Product', y='Total')\n",
    "plt.title('Total Sales by Product (Seaborn)')\n",
    "plt.xlabel('Product')\n",
    "plt.ylabel('Total')\n",
    "plt.show()"
   ]
  },
  {
   "cell_type": "markdown",
   "id": "b55cac23-3109-43fe-bbf5-82936b0d0fc4",
   "metadata": {},
   "source": [
    "From the chart above, we can deduce that laptops had the highest sales from February to December 2024, followed by phones, tablets, and monitors. Headphones had the lowest sales during this period. "
   ]
  },
  {
   "cell_type": "code",
   "execution_count": 110,
   "id": "74c291e8-a353-4bd4-a1d5-2fee7ea73690",
   "metadata": {},
   "outputs": [
    {
     "data": {
      "image/png": "[encoded data removed]",
      "text/plain": [
       "<Figure size 900x600 with 1 Axes>"
      ]
     },
     "metadata": {},
     "output_type": "display_data"
    }
   ],
   "source": [
    "# For Month vs Total, lines plot\n",
    "\n",
    "plt.figure(figsize=(9,6))\n",
    "plt.plot(sales_Month['Month'], sales_Month['Total'],marker='o')\n",
    "plt.title('Total Sales by Month (Matplotlib)')\n",
    "plt.xlabel('Month')\n",
    "plt.ylabel('Total Sales')\n",
    "plt.xticks(ticks=np.arange(1,13), labels=['Jan', 'Feb','Mar','Apr','May','Jun','Jul','Aug','Sept','Oct','Nov','Dec'])\n",
    "plt.grid(True)\n",
    "plt.show()\n",
    "\n"
   ]
  },
  {
   "cell_type": "markdown",
   "id": "80a70780-94c1-438d-bb9e-31f41921fc55",
   "metadata": {},
   "source": [
    "As you can see sales moves up gradually from Jan to feb and then remain waving between Mar to Jul. Aug it climb up again but went slight from Sept to Nov. But Dec sales was the hightest for the year"
   ]
  },
  {
   "cell_type": "code",
   "execution_count": 115,
   "id": "201756f4-1549-4a1e-921a-a77747d4c239",
   "metadata": {},
   "outputs": [
    {
     "data": {
      "image/png": "[encoded data removed]",
      "text/plain": [
       "<Figure size 900x600 with 1 Axes>"
      ]
     },
     "metadata": {},
     "output_type": "display_data"
    }
   ],
   "source": [
    "# The Next is Quantity vs Total, we have the bar chart below. \n",
    "plt.figure(figsize=(9,6))\n",
    "sns.barplot(data=DFT, x='Quantity', y='Total', hue ='Product')\n",
    "plt.title('Quantity vs. Total Sales (Seaborn)')\n",
    "plt.xlabel('Quantity')\n",
    "plt.ylabel('Total Sales')\n",
    "plt.show()"
   ]
  },
  {
   "cell_type": "markdown",
   "id": "c57d3455-2267-4478-a4e1-5925103bc145",
   "metadata": {},
   "source": [
    "we can all see that for every 4 months laptop sold best.... followed by phone and then talet.. Monitor follow suit but headphones was just at the bottom. "
   ]
  },
  {
   "cell_type": "code",
   "execution_count": null,
   "id": "71a8e132-4505-4af7-bf4a-1828223c1d74",
   "metadata": {},
   "outputs": [],
   "source": []
  }
 ],
 "metadata": {
  "kernelspec": {
   "display_name": "Python [conda env:base] *",
   "language": "python",
   "name": "conda-base-py"
  },
  "language_info": {
   "codemirror_mode": {
    "name": "ipython",
    "version": 3
   },
   "file_extension": ".py",
   "mimetype": "text/x-python",
   "name": "python",
   "nbconvert_exporter": "python",
   "pygments_lexer": "ipython3",
   "version": "3.12.7"
  }
 },
 "nbformat": 4,
 "nbformat_minor": 5
}
